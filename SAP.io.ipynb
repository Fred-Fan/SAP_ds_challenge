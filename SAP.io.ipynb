{
 "cells": [
  {
   "cell_type": "code",
   "execution_count": 1,
   "metadata": {
    "collapsed": true
   },
   "outputs": [],
   "source": [
    "import pandas as pd\n",
    "import numpy as np\n",
    "\n",
    "import scipy as sp\n",
    "import matplotlib\n",
    "import sklearn\n",
    "\n",
    "%matplotlib inline  \n",
    "import matplotlib.pyplot as plt  "
   ]
  },
  {
   "cell_type": "markdown",
   "metadata": {},
   "source": [
    "### The Challenge:\n",
    "\n",
    "Given that we are so close to CA wine country we’re interested in understanding what makes a wine 'good'. To answer this question, we have obtained the attached dataset with a collection of descriptive and physicochemical characteristics of more than 6000 different wines along with a 'quality rating'. The quality rating represents the median score from three wine experts from 0-10 where 0 is terrible and 10 is excellent. Please use any method(s) you find appropriate to help us understand what makes a wine ‘good’. Any code must be in an open source language. This assignment must be completed individually."
   ]
  },
  {
   "cell_type": "code",
   "execution_count": 2,
   "metadata": {
    "collapsed": true
   },
   "outputs": [],
   "source": [
    "# Read in csv\n",
    "df = pd.read_csv('SAPio_DataScience_Challenge.csv')"
   ]
  },
  {
   "cell_type": "code",
   "execution_count": 3,
   "metadata": {
    "collapsed": false
   },
   "outputs": [
    {
     "data": {
      "text/html": [
       "<div>\n",
       "<style>\n",
       "    .dataframe thead tr:only-child th {\n",
       "        text-align: right;\n",
       "    }\n",
       "\n",
       "    .dataframe thead th {\n",
       "        text-align: left;\n",
       "    }\n",
       "\n",
       "    .dataframe tbody tr th {\n",
       "        vertical-align: top;\n",
       "    }\n",
       "</style>\n",
       "<table border=\"1\" class=\"dataframe\">\n",
       "  <thead>\n",
       "    <tr style=\"text-align: right;\">\n",
       "      <th></th>\n",
       "      <th>type</th>\n",
       "      <th>fixed acidity</th>\n",
       "      <th>volatile acidity</th>\n",
       "      <th>citric acid</th>\n",
       "      <th>astringency rating</th>\n",
       "      <th>residual sugar</th>\n",
       "      <th>chlorides</th>\n",
       "      <th>free sulfur dioxide</th>\n",
       "      <th>total sulfur dioxide</th>\n",
       "      <th>density</th>\n",
       "      <th>pH</th>\n",
       "      <th>sulphates</th>\n",
       "      <th>alcohol</th>\n",
       "      <th>vintage</th>\n",
       "      <th>quality</th>\n",
       "    </tr>\n",
       "  </thead>\n",
       "  <tbody>\n",
       "    <tr>\n",
       "      <th>0</th>\n",
       "      <td>red</td>\n",
       "      <td>7.4</td>\n",
       "      <td>0.70</td>\n",
       "      <td>0.00</td>\n",
       "      <td>0.81</td>\n",
       "      <td>1.9</td>\n",
       "      <td>0.076</td>\n",
       "      <td>11.0</td>\n",
       "      <td>34.0</td>\n",
       "      <td>0.9978</td>\n",
       "      <td>3.51</td>\n",
       "      <td>0.56</td>\n",
       "      <td>9.4</td>\n",
       "      <td>2001.0</td>\n",
       "      <td>5</td>\n",
       "    </tr>\n",
       "    <tr>\n",
       "      <th>1</th>\n",
       "      <td>red</td>\n",
       "      <td>7.8</td>\n",
       "      <td>NaN</td>\n",
       "      <td>0.00</td>\n",
       "      <td>0.86</td>\n",
       "      <td>2.6</td>\n",
       "      <td>0.098</td>\n",
       "      <td>25.0</td>\n",
       "      <td>67.0</td>\n",
       "      <td>0.9968</td>\n",
       "      <td>3.20</td>\n",
       "      <td>0.68</td>\n",
       "      <td>9.8</td>\n",
       "      <td>2003.0</td>\n",
       "      <td>5</td>\n",
       "    </tr>\n",
       "    <tr>\n",
       "      <th>2</th>\n",
       "      <td>red</td>\n",
       "      <td>7.8</td>\n",
       "      <td>0.76</td>\n",
       "      <td>0.04</td>\n",
       "      <td>0.85</td>\n",
       "      <td>2.3</td>\n",
       "      <td>0.092</td>\n",
       "      <td>15.0</td>\n",
       "      <td>54.0</td>\n",
       "      <td>0.9970</td>\n",
       "      <td>3.26</td>\n",
       "      <td>0.65</td>\n",
       "      <td>9.8</td>\n",
       "      <td>2006.0</td>\n",
       "      <td>5</td>\n",
       "    </tr>\n",
       "    <tr>\n",
       "      <th>3</th>\n",
       "      <td>red</td>\n",
       "      <td>11.2</td>\n",
       "      <td>0.28</td>\n",
       "      <td>0.56</td>\n",
       "      <td>1.14</td>\n",
       "      <td>NaN</td>\n",
       "      <td>0.075</td>\n",
       "      <td>17.0</td>\n",
       "      <td>60.0</td>\n",
       "      <td>0.9980</td>\n",
       "      <td>3.16</td>\n",
       "      <td>0.58</td>\n",
       "      <td>9.8</td>\n",
       "      <td>2003.0</td>\n",
       "      <td>6</td>\n",
       "    </tr>\n",
       "    <tr>\n",
       "      <th>4</th>\n",
       "      <td>red</td>\n",
       "      <td>7.4</td>\n",
       "      <td>0.70</td>\n",
       "      <td>0.00</td>\n",
       "      <td>0.81</td>\n",
       "      <td>NaN</td>\n",
       "      <td>0.076</td>\n",
       "      <td>11.0</td>\n",
       "      <td>34.0</td>\n",
       "      <td>0.9978</td>\n",
       "      <td>3.51</td>\n",
       "      <td>0.56</td>\n",
       "      <td>9.4</td>\n",
       "      <td>2004.0</td>\n",
       "      <td>5</td>\n",
       "    </tr>\n",
       "  </tbody>\n",
       "</table>\n",
       "</div>"
      ],
      "text/plain": [
       "  type  fixed acidity  volatile acidity  citric acid  astringency rating  \\\n",
       "0  red            7.4              0.70         0.00                0.81   \n",
       "1  red            7.8               NaN         0.00                0.86   \n",
       "2  red            7.8              0.76         0.04                0.85   \n",
       "3  red           11.2              0.28         0.56                1.14   \n",
       "4  red            7.4              0.70         0.00                0.81   \n",
       "\n",
       "   residual sugar  chlorides  free sulfur dioxide  total sulfur dioxide  \\\n",
       "0             1.9      0.076                 11.0                  34.0   \n",
       "1             2.6      0.098                 25.0                  67.0   \n",
       "2             2.3      0.092                 15.0                  54.0   \n",
       "3             NaN      0.075                 17.0                  60.0   \n",
       "4             NaN      0.076                 11.0                  34.0   \n",
       "\n",
       "   density    pH  sulphates  alcohol  vintage  quality  \n",
       "0   0.9978  3.51       0.56      9.4   2001.0        5  \n",
       "1   0.9968  3.20       0.68      9.8   2003.0        5  \n",
       "2   0.9970  3.26       0.65      9.8   2006.0        5  \n",
       "3   0.9980  3.16       0.58      9.8   2003.0        6  \n",
       "4   0.9978  3.51       0.56      9.4   2004.0        5  "
      ]
     },
     "execution_count": 3,
     "metadata": {},
     "output_type": "execute_result"
    }
   ],
   "source": [
    "df.head()"
   ]
  },
  {
   "cell_type": "code",
   "execution_count": 4,
   "metadata": {
    "collapsed": false
   },
   "outputs": [
    {
     "data": {
      "text/plain": [
       "(6497, 15)"
      ]
     },
     "execution_count": 4,
     "metadata": {},
     "output_type": "execute_result"
    }
   ],
   "source": [
    "# What does the data structure look like?\n",
    "df.shape"
   ]
  },
  {
   "cell_type": "code",
   "execution_count": 5,
   "metadata": {
    "collapsed": false
   },
   "outputs": [
    {
     "data": {
      "text/html": [
       "<div>\n",
       "<style>\n",
       "    .dataframe thead tr:only-child th {\n",
       "        text-align: right;\n",
       "    }\n",
       "\n",
       "    .dataframe thead th {\n",
       "        text-align: left;\n",
       "    }\n",
       "\n",
       "    .dataframe tbody tr th {\n",
       "        vertical-align: top;\n",
       "    }\n",
       "</style>\n",
       "<table border=\"1\" class=\"dataframe\">\n",
       "  <thead>\n",
       "    <tr style=\"text-align: right;\">\n",
       "      <th></th>\n",
       "      <th>fixed acidity</th>\n",
       "      <th>volatile acidity</th>\n",
       "      <th>citric acid</th>\n",
       "      <th>astringency rating</th>\n",
       "      <th>residual sugar</th>\n",
       "      <th>chlorides</th>\n",
       "      <th>free sulfur dioxide</th>\n",
       "      <th>total sulfur dioxide</th>\n",
       "      <th>density</th>\n",
       "      <th>pH</th>\n",
       "      <th>sulphates</th>\n",
       "      <th>alcohol</th>\n",
       "      <th>vintage</th>\n",
       "      <th>quality</th>\n",
       "    </tr>\n",
       "  </thead>\n",
       "  <tbody>\n",
       "    <tr>\n",
       "      <th>count</th>\n",
       "      <td>6497.000000</td>\n",
       "      <td>6198.000000</td>\n",
       "      <td>6497.000000</td>\n",
       "      <td>6165.000000</td>\n",
       "      <td>4133.000000</td>\n",
       "      <td>6497.000000</td>\n",
       "      <td>6497.000000</td>\n",
       "      <td>6497.000000</td>\n",
       "      <td>6497.000000</td>\n",
       "      <td>6435.000000</td>\n",
       "      <td>6497.000000</td>\n",
       "      <td>6497.000000</td>\n",
       "      <td>6428.000000</td>\n",
       "      <td>6497.000000</td>\n",
       "    </tr>\n",
       "    <tr>\n",
       "      <th>mean</th>\n",
       "      <td>7.215307</td>\n",
       "      <td>0.339087</td>\n",
       "      <td>0.318633</td>\n",
       "      <td>0.751004</td>\n",
       "      <td>5.459098</td>\n",
       "      <td>0.056034</td>\n",
       "      <td>30.525319</td>\n",
       "      <td>115.744574</td>\n",
       "      <td>0.994697</td>\n",
       "      <td>3.218407</td>\n",
       "      <td>0.531268</td>\n",
       "      <td>10.491801</td>\n",
       "      <td>2005.494866</td>\n",
       "      <td>5.818378</td>\n",
       "    </tr>\n",
       "    <tr>\n",
       "      <th>std</th>\n",
       "      <td>1.296434</td>\n",
       "      <td>0.163832</td>\n",
       "      <td>0.145318</td>\n",
       "      <td>0.134546</td>\n",
       "      <td>4.832146</td>\n",
       "      <td>0.035034</td>\n",
       "      <td>17.749400</td>\n",
       "      <td>56.521855</td>\n",
       "      <td>0.002999</td>\n",
       "      <td>0.160600</td>\n",
       "      <td>0.148806</td>\n",
       "      <td>1.192712</td>\n",
       "      <td>1.723759</td>\n",
       "      <td>0.873255</td>\n",
       "    </tr>\n",
       "    <tr>\n",
       "      <th>min</th>\n",
       "      <td>3.800000</td>\n",
       "      <td>0.080000</td>\n",
       "      <td>0.000000</td>\n",
       "      <td>0.410000</td>\n",
       "      <td>0.600000</td>\n",
       "      <td>0.009000</td>\n",
       "      <td>1.000000</td>\n",
       "      <td>6.000000</td>\n",
       "      <td>0.987110</td>\n",
       "      <td>2.720000</td>\n",
       "      <td>0.220000</td>\n",
       "      <td>8.000000</td>\n",
       "      <td>2001.000000</td>\n",
       "      <td>3.000000</td>\n",
       "    </tr>\n",
       "    <tr>\n",
       "      <th>25%</th>\n",
       "      <td>6.400000</td>\n",
       "      <td>0.230000</td>\n",
       "      <td>0.250000</td>\n",
       "      <td>0.670000</td>\n",
       "      <td>1.800000</td>\n",
       "      <td>0.038000</td>\n",
       "      <td>17.000000</td>\n",
       "      <td>77.000000</td>\n",
       "      <td>0.992340</td>\n",
       "      <td>3.110000</td>\n",
       "      <td>0.430000</td>\n",
       "      <td>9.500000</td>\n",
       "      <td>2004.000000</td>\n",
       "      <td>5.000000</td>\n",
       "    </tr>\n",
       "    <tr>\n",
       "      <th>50%</th>\n",
       "      <td>7.000000</td>\n",
       "      <td>0.290000</td>\n",
       "      <td>0.310000</td>\n",
       "      <td>0.730000</td>\n",
       "      <td>3.000000</td>\n",
       "      <td>0.047000</td>\n",
       "      <td>29.000000</td>\n",
       "      <td>118.000000</td>\n",
       "      <td>0.994890</td>\n",
       "      <td>3.210000</td>\n",
       "      <td>0.510000</td>\n",
       "      <td>10.300000</td>\n",
       "      <td>2005.000000</td>\n",
       "      <td>6.000000</td>\n",
       "    </tr>\n",
       "    <tr>\n",
       "      <th>75%</th>\n",
       "      <td>7.700000</td>\n",
       "      <td>0.400000</td>\n",
       "      <td>0.390000</td>\n",
       "      <td>0.800000</td>\n",
       "      <td>8.100000</td>\n",
       "      <td>0.065000</td>\n",
       "      <td>41.000000</td>\n",
       "      <td>156.000000</td>\n",
       "      <td>0.996990</td>\n",
       "      <td>3.320000</td>\n",
       "      <td>0.600000</td>\n",
       "      <td>11.300000</td>\n",
       "      <td>2007.000000</td>\n",
       "      <td>6.000000</td>\n",
       "    </tr>\n",
       "    <tr>\n",
       "      <th>max</th>\n",
       "      <td>15.900000</td>\n",
       "      <td>1.580000</td>\n",
       "      <td>1.660000</td>\n",
       "      <td>1.620000</td>\n",
       "      <td>65.800000</td>\n",
       "      <td>0.611000</td>\n",
       "      <td>289.000000</td>\n",
       "      <td>440.000000</td>\n",
       "      <td>1.038980</td>\n",
       "      <td>4.010000</td>\n",
       "      <td>2.000000</td>\n",
       "      <td>14.900000</td>\n",
       "      <td>2008.000000</td>\n",
       "      <td>9.000000</td>\n",
       "    </tr>\n",
       "  </tbody>\n",
       "</table>\n",
       "</div>"
      ],
      "text/plain": [
       "       fixed acidity  volatile acidity  citric acid  astringency rating  \\\n",
       "count    6497.000000       6198.000000  6497.000000         6165.000000   \n",
       "mean        7.215307          0.339087     0.318633            0.751004   \n",
       "std         1.296434          0.163832     0.145318            0.134546   \n",
       "min         3.800000          0.080000     0.000000            0.410000   \n",
       "25%         6.400000          0.230000     0.250000            0.670000   \n",
       "50%         7.000000          0.290000     0.310000            0.730000   \n",
       "75%         7.700000          0.400000     0.390000            0.800000   \n",
       "max        15.900000          1.580000     1.660000            1.620000   \n",
       "\n",
       "       residual sugar    chlorides  free sulfur dioxide  total sulfur dioxide  \\\n",
       "count     4133.000000  6497.000000          6497.000000           6497.000000   \n",
       "mean         5.459098     0.056034            30.525319            115.744574   \n",
       "std          4.832146     0.035034            17.749400             56.521855   \n",
       "min          0.600000     0.009000             1.000000              6.000000   \n",
       "25%          1.800000     0.038000            17.000000             77.000000   \n",
       "50%          3.000000     0.047000            29.000000            118.000000   \n",
       "75%          8.100000     0.065000            41.000000            156.000000   \n",
       "max         65.800000     0.611000           289.000000            440.000000   \n",
       "\n",
       "           density           pH    sulphates      alcohol      vintage  \\\n",
       "count  6497.000000  6435.000000  6497.000000  6497.000000  6428.000000   \n",
       "mean      0.994697     3.218407     0.531268    10.491801  2005.494866   \n",
       "std       0.002999     0.160600     0.148806     1.192712     1.723759   \n",
       "min       0.987110     2.720000     0.220000     8.000000  2001.000000   \n",
       "25%       0.992340     3.110000     0.430000     9.500000  2004.000000   \n",
       "50%       0.994890     3.210000     0.510000    10.300000  2005.000000   \n",
       "75%       0.996990     3.320000     0.600000    11.300000  2007.000000   \n",
       "max       1.038980     4.010000     2.000000    14.900000  2008.000000   \n",
       "\n",
       "           quality  \n",
       "count  6497.000000  \n",
       "mean      5.818378  \n",
       "std       0.873255  \n",
       "min       3.000000  \n",
       "25%       5.000000  \n",
       "50%       6.000000  \n",
       "75%       6.000000  \n",
       "max       9.000000  "
      ]
     },
     "execution_count": 5,
     "metadata": {},
     "output_type": "execute_result"
    }
   ],
   "source": [
    "# Examine summary statistics of each column to look for any odd behavior\n",
    "df.describe()"
   ]
  },
  {
   "cell_type": "code",
   "execution_count": 6,
   "metadata": {
    "collapsed": false
   },
   "outputs": [
    {
     "data": {
      "image/png": "[encoded data removed]",
      "text/plain": [
       "<matplotlib.figure.Figure at 0x1180cdc50>"
      ]
     },
     "metadata": {},
     "output_type": "display_data"
    }
   ],
   "source": [
    "# What's the distribution of wine quality?\n",
    "\n",
    "plt.figure()\n",
    "plt.hist(df['quality'].values)\n",
    "\n",
    "\n",
    "# Set the title and labels\n",
    "plt.title('Distribution of Wine Quality')\n",
    "plt.xlabel('Quality')\n",
    "plt.ylabel('Frequency')\n",
    "\n",
    "plt.show()"
   ]
  },
  {
   "cell_type": "code",
   "execution_count": 7,
   "metadata": {
    "collapsed": false
   },
   "outputs": [
    {
     "data": {
      "text/html": [
       "<div>\n",
       "<style>\n",
       "    .dataframe thead tr:only-child th {\n",
       "        text-align: right;\n",
       "    }\n",
       "\n",
       "    .dataframe thead th {\n",
       "        text-align: left;\n",
       "    }\n",
       "\n",
       "    .dataframe tbody tr th {\n",
       "        vertical-align: top;\n",
       "    }\n",
       "</style>\n",
       "<table border=\"1\" class=\"dataframe\">\n",
       "  <thead>\n",
       "    <tr style=\"text-align: right;\">\n",
       "      <th></th>\n",
       "      <th>fixed acidity</th>\n",
       "      <th>volatile acidity</th>\n",
       "      <th>citric acid</th>\n",
       "      <th>astringency rating</th>\n",
       "      <th>residual sugar</th>\n",
       "      <th>chlorides</th>\n",
       "      <th>free sulfur dioxide</th>\n",
       "      <th>total sulfur dioxide</th>\n",
       "      <th>density</th>\n",
       "      <th>pH</th>\n",
       "      <th>sulphates</th>\n",
       "      <th>alcohol</th>\n",
       "      <th>vintage</th>\n",
       "      <th>quality</th>\n",
       "    </tr>\n",
       "  </thead>\n",
       "  <tbody>\n",
       "    <tr>\n",
       "      <th>count</th>\n",
       "      <td>5.000000</td>\n",
       "      <td>5.000000</td>\n",
       "      <td>5.000000</td>\n",
       "      <td>5.000000</td>\n",
       "      <td>2.000000</td>\n",
       "      <td>5.000000</td>\n",
       "      <td>5.000000</td>\n",
       "      <td>5.000000</td>\n",
       "      <td>5.000000</td>\n",
       "      <td>5.000000</td>\n",
       "      <td>5.000000</td>\n",
       "      <td>5.00000</td>\n",
       "      <td>5.00000</td>\n",
       "      <td>5.0</td>\n",
       "    </tr>\n",
       "    <tr>\n",
       "      <th>mean</th>\n",
       "      <td>7.420000</td>\n",
       "      <td>0.298000</td>\n",
       "      <td>0.386000</td>\n",
       "      <td>0.766000</td>\n",
       "      <td>3.200000</td>\n",
       "      <td>0.027400</td>\n",
       "      <td>33.400000</td>\n",
       "      <td>116.000000</td>\n",
       "      <td>0.991460</td>\n",
       "      <td>3.308000</td>\n",
       "      <td>0.466000</td>\n",
       "      <td>12.18000</td>\n",
       "      <td>2006.80000</td>\n",
       "      <td>9.0</td>\n",
       "    </tr>\n",
       "    <tr>\n",
       "      <th>std</th>\n",
       "      <td>0.983362</td>\n",
       "      <td>0.057619</td>\n",
       "      <td>0.082037</td>\n",
       "      <td>0.095026</td>\n",
       "      <td>1.414214</td>\n",
       "      <td>0.007436</td>\n",
       "      <td>13.427584</td>\n",
       "      <td>19.824228</td>\n",
       "      <td>0.003118</td>\n",
       "      <td>0.082885</td>\n",
       "      <td>0.092628</td>\n",
       "      <td>1.01341</td>\n",
       "      <td>1.30384</td>\n",
       "      <td>0.0</td>\n",
       "    </tr>\n",
       "    <tr>\n",
       "      <th>min</th>\n",
       "      <td>6.600000</td>\n",
       "      <td>0.240000</td>\n",
       "      <td>0.290000</td>\n",
       "      <td>0.690000</td>\n",
       "      <td>2.200000</td>\n",
       "      <td>0.018000</td>\n",
       "      <td>24.000000</td>\n",
       "      <td>85.000000</td>\n",
       "      <td>0.989650</td>\n",
       "      <td>3.200000</td>\n",
       "      <td>0.360000</td>\n",
       "      <td>10.40000</td>\n",
       "      <td>2005.00000</td>\n",
       "      <td>9.0</td>\n",
       "    </tr>\n",
       "    <tr>\n",
       "      <th>25%</th>\n",
       "      <td>6.900000</td>\n",
       "      <td>0.260000</td>\n",
       "      <td>0.340000</td>\n",
       "      <td>0.720000</td>\n",
       "      <td>2.700000</td>\n",
       "      <td>0.021000</td>\n",
       "      <td>27.000000</td>\n",
       "      <td>113.000000</td>\n",
       "      <td>0.989800</td>\n",
       "      <td>3.280000</td>\n",
       "      <td>0.420000</td>\n",
       "      <td>12.40000</td>\n",
       "      <td>2006.00000</td>\n",
       "      <td>9.0</td>\n",
       "    </tr>\n",
       "    <tr>\n",
       "      <th>50%</th>\n",
       "      <td>7.100000</td>\n",
       "      <td>0.270000</td>\n",
       "      <td>0.360000</td>\n",
       "      <td>0.730000</td>\n",
       "      <td>3.200000</td>\n",
       "      <td>0.031000</td>\n",
       "      <td>28.000000</td>\n",
       "      <td>119.000000</td>\n",
       "      <td>0.990300</td>\n",
       "      <td>3.280000</td>\n",
       "      <td>0.460000</td>\n",
       "      <td>12.50000</td>\n",
       "      <td>2007.00000</td>\n",
       "      <td>9.0</td>\n",
       "    </tr>\n",
       "    <tr>\n",
       "      <th>75%</th>\n",
       "      <td>7.400000</td>\n",
       "      <td>0.360000</td>\n",
       "      <td>0.450000</td>\n",
       "      <td>0.760000</td>\n",
       "      <td>3.700000</td>\n",
       "      <td>0.032000</td>\n",
       "      <td>31.000000</td>\n",
       "      <td>124.000000</td>\n",
       "      <td>0.990550</td>\n",
       "      <td>3.370000</td>\n",
       "      <td>0.480000</td>\n",
       "      <td>12.70000</td>\n",
       "      <td>2008.00000</td>\n",
       "      <td>9.0</td>\n",
       "    </tr>\n",
       "    <tr>\n",
       "      <th>max</th>\n",
       "      <td>9.100000</td>\n",
       "      <td>0.360000</td>\n",
       "      <td>0.490000</td>\n",
       "      <td>0.930000</td>\n",
       "      <td>4.200000</td>\n",
       "      <td>0.035000</td>\n",
       "      <td>57.000000</td>\n",
       "      <td>139.000000</td>\n",
       "      <td>0.997000</td>\n",
       "      <td>3.410000</td>\n",
       "      <td>0.610000</td>\n",
       "      <td>12.90000</td>\n",
       "      <td>2008.00000</td>\n",
       "      <td>9.0</td>\n",
       "    </tr>\n",
       "  </tbody>\n",
       "</table>\n",
       "</div>"
      ],
      "text/plain": [
       "       fixed acidity  volatile acidity  citric acid  astringency rating  \\\n",
       "count       5.000000          5.000000     5.000000            5.000000   \n",
       "mean        7.420000          0.298000     0.386000            0.766000   \n",
       "std         0.983362          0.057619     0.082037            0.095026   \n",
       "min         6.600000          0.240000     0.290000            0.690000   \n",
       "25%         6.900000          0.260000     0.340000            0.720000   \n",
       "50%         7.100000          0.270000     0.360000            0.730000   \n",
       "75%         7.400000          0.360000     0.450000            0.760000   \n",
       "max         9.100000          0.360000     0.490000            0.930000   \n",
       "\n",
       "       residual sugar  chlorides  free sulfur dioxide  total sulfur dioxide  \\\n",
       "count        2.000000   5.000000             5.000000              5.000000   \n",
       "mean         3.200000   0.027400            33.400000            116.000000   \n",
       "std          1.414214   0.007436            13.427584             19.824228   \n",
       "min          2.200000   0.018000            24.000000             85.000000   \n",
       "25%          2.700000   0.021000            27.000000            113.000000   \n",
       "50%          3.200000   0.031000            28.000000            119.000000   \n",
       "75%          3.700000   0.032000            31.000000            124.000000   \n",
       "max          4.200000   0.035000            57.000000            139.000000   \n",
       "\n",
       "        density        pH  sulphates   alcohol     vintage  quality  \n",
       "count  5.000000  5.000000   5.000000   5.00000     5.00000      5.0  \n",
       "mean   0.991460  3.308000   0.466000  12.18000  2006.80000      9.0  \n",
       "std    0.003118  0.082885   0.092628   1.01341     1.30384      0.0  \n",
       "min    0.989650  3.200000   0.360000  10.40000  2005.00000      9.0  \n",
       "25%    0.989800  3.280000   0.420000  12.40000  2006.00000      9.0  \n",
       "50%    0.990300  3.280000   0.460000  12.50000  2007.00000      9.0  \n",
       "75%    0.990550  3.370000   0.480000  12.70000  2008.00000      9.0  \n",
       "max    0.997000  3.410000   0.610000  12.90000  2008.00000      9.0  "
      ]
     },
     "execution_count": 7,
     "metadata": {},
     "output_type": "execute_result"
    }
   ],
   "source": [
    "# What are the average characteristics of a high-rated wine?\n",
    "df[df['quality']==9].describe()"
   ]
  },
  {
   "cell_type": "code",
   "execution_count": 8,
   "metadata": {
    "collapsed": false
   },
   "outputs": [
    {
     "data": {
      "text/html": [
       "<div>\n",
       "<style>\n",
       "    .dataframe thead tr:only-child th {\n",
       "        text-align: right;\n",
       "    }\n",
       "\n",
       "    .dataframe thead th {\n",
       "        text-align: left;\n",
       "    }\n",
       "\n",
       "    .dataframe tbody tr th {\n",
       "        vertical-align: top;\n",
       "    }\n",
       "</style>\n",
       "<table border=\"1\" class=\"dataframe\">\n",
       "  <thead>\n",
       "    <tr style=\"text-align: right;\">\n",
       "      <th></th>\n",
       "      <th>fixed acidity</th>\n",
       "      <th>volatile acidity</th>\n",
       "      <th>citric acid</th>\n",
       "      <th>astringency rating</th>\n",
       "      <th>residual sugar</th>\n",
       "      <th>chlorides</th>\n",
       "      <th>free sulfur dioxide</th>\n",
       "      <th>total sulfur dioxide</th>\n",
       "      <th>density</th>\n",
       "      <th>pH</th>\n",
       "      <th>sulphates</th>\n",
       "      <th>alcohol</th>\n",
       "      <th>vintage</th>\n",
       "      <th>quality</th>\n",
       "    </tr>\n",
       "  </thead>\n",
       "  <tbody>\n",
       "    <tr>\n",
       "      <th>count</th>\n",
       "      <td>30.000000</td>\n",
       "      <td>26.000000</td>\n",
       "      <td>30.00000</td>\n",
       "      <td>26.000000</td>\n",
       "      <td>20.000000</td>\n",
       "      <td>30.000000</td>\n",
       "      <td>30.000000</td>\n",
       "      <td>30.000000</td>\n",
       "      <td>30.000000</td>\n",
       "      <td>30.000000</td>\n",
       "      <td>30.000000</td>\n",
       "      <td>30.000000</td>\n",
       "      <td>30.000000</td>\n",
       "      <td>30.0</td>\n",
       "    </tr>\n",
       "    <tr>\n",
       "      <th>mean</th>\n",
       "      <td>7.853333</td>\n",
       "      <td>0.558654</td>\n",
       "      <td>0.28100</td>\n",
       "      <td>0.832692</td>\n",
       "      <td>4.120000</td>\n",
       "      <td>0.077033</td>\n",
       "      <td>39.216667</td>\n",
       "      <td>122.033333</td>\n",
       "      <td>0.995744</td>\n",
       "      <td>3.257667</td>\n",
       "      <td>0.506333</td>\n",
       "      <td>10.215000</td>\n",
       "      <td>2005.533333</td>\n",
       "      <td>3.0</td>\n",
       "    </tr>\n",
       "    <tr>\n",
       "      <th>std</th>\n",
       "      <td>1.747853</td>\n",
       "      <td>0.348903</td>\n",
       "      <td>0.17351</td>\n",
       "      <td>0.188139</td>\n",
       "      <td>3.916409</td>\n",
       "      <td>0.062014</td>\n",
       "      <td>59.990327</td>\n",
       "      <td>112.141762</td>\n",
       "      <td>0.002833</td>\n",
       "      <td>0.213246</td>\n",
       "      <td>0.126994</td>\n",
       "      <td>1.106497</td>\n",
       "      <td>1.814374</td>\n",
       "      <td>0.0</td>\n",
       "    </tr>\n",
       "    <tr>\n",
       "      <th>min</th>\n",
       "      <td>4.200000</td>\n",
       "      <td>0.170000</td>\n",
       "      <td>0.00000</td>\n",
       "      <td>0.440000</td>\n",
       "      <td>0.700000</td>\n",
       "      <td>0.022000</td>\n",
       "      <td>3.000000</td>\n",
       "      <td>9.000000</td>\n",
       "      <td>0.991100</td>\n",
       "      <td>2.870000</td>\n",
       "      <td>0.280000</td>\n",
       "      <td>8.000000</td>\n",
       "      <td>2003.000000</td>\n",
       "      <td>3.0</td>\n",
       "    </tr>\n",
       "    <tr>\n",
       "      <th>25%</th>\n",
       "      <td>6.800000</td>\n",
       "      <td>0.260000</td>\n",
       "      <td>0.21250</td>\n",
       "      <td>0.725000</td>\n",
       "      <td>1.537500</td>\n",
       "      <td>0.038750</td>\n",
       "      <td>5.250000</td>\n",
       "      <td>30.000000</td>\n",
       "      <td>0.993750</td>\n",
       "      <td>3.140000</td>\n",
       "      <td>0.407500</td>\n",
       "      <td>9.625000</td>\n",
       "      <td>2004.000000</td>\n",
       "      <td>3.0</td>\n",
       "    </tr>\n",
       "    <tr>\n",
       "      <th>50%</th>\n",
       "      <td>7.450000</td>\n",
       "      <td>0.485000</td>\n",
       "      <td>0.33000</td>\n",
       "      <td>0.810000</td>\n",
       "      <td>2.500000</td>\n",
       "      <td>0.055000</td>\n",
       "      <td>17.000000</td>\n",
       "      <td>102.500000</td>\n",
       "      <td>0.995900</td>\n",
       "      <td>3.245000</td>\n",
       "      <td>0.505000</td>\n",
       "      <td>10.150000</td>\n",
       "      <td>2005.500000</td>\n",
       "      <td>3.0</td>\n",
       "    </tr>\n",
       "    <tr>\n",
       "      <th>75%</th>\n",
       "      <td>8.575000</td>\n",
       "      <td>0.730000</td>\n",
       "      <td>0.39500</td>\n",
       "      <td>0.925000</td>\n",
       "      <td>4.725000</td>\n",
       "      <td>0.081000</td>\n",
       "      <td>37.375000</td>\n",
       "      <td>193.250000</td>\n",
       "      <td>0.998060</td>\n",
       "      <td>3.415000</td>\n",
       "      <td>0.565000</td>\n",
       "      <td>11.000000</td>\n",
       "      <td>2007.000000</td>\n",
       "      <td>3.0</td>\n",
       "    </tr>\n",
       "    <tr>\n",
       "      <th>max</th>\n",
       "      <td>11.800000</td>\n",
       "      <td>1.580000</td>\n",
       "      <td>0.66000</td>\n",
       "      <td>1.210000</td>\n",
       "      <td>15.100000</td>\n",
       "      <td>0.267000</td>\n",
       "      <td>289.000000</td>\n",
       "      <td>440.000000</td>\n",
       "      <td>1.000800</td>\n",
       "      <td>3.630000</td>\n",
       "      <td>0.860000</td>\n",
       "      <td>12.600000</td>\n",
       "      <td>2008.000000</td>\n",
       "      <td>3.0</td>\n",
       "    </tr>\n",
       "  </tbody>\n",
       "</table>\n",
       "</div>"
      ],
      "text/plain": [
       "       fixed acidity  volatile acidity  citric acid  astringency rating  \\\n",
       "count      30.000000         26.000000     30.00000           26.000000   \n",
       "mean        7.853333          0.558654      0.28100            0.832692   \n",
       "std         1.747853          0.348903      0.17351            0.188139   \n",
       "min         4.200000          0.170000      0.00000            0.440000   \n",
       "25%         6.800000          0.260000      0.21250            0.725000   \n",
       "50%         7.450000          0.485000      0.33000            0.810000   \n",
       "75%         8.575000          0.730000      0.39500            0.925000   \n",
       "max        11.800000          1.580000      0.66000            1.210000   \n",
       "\n",
       "       residual sugar  chlorides  free sulfur dioxide  total sulfur dioxide  \\\n",
       "count       20.000000  30.000000            30.000000             30.000000   \n",
       "mean         4.120000   0.077033            39.216667            122.033333   \n",
       "std          3.916409   0.062014            59.990327            112.141762   \n",
       "min          0.700000   0.022000             3.000000              9.000000   \n",
       "25%          1.537500   0.038750             5.250000             30.000000   \n",
       "50%          2.500000   0.055000            17.000000            102.500000   \n",
       "75%          4.725000   0.081000            37.375000            193.250000   \n",
       "max         15.100000   0.267000           289.000000            440.000000   \n",
       "\n",
       "         density         pH  sulphates    alcohol      vintage  quality  \n",
       "count  30.000000  30.000000  30.000000  30.000000    30.000000     30.0  \n",
       "mean    0.995744   3.257667   0.506333  10.215000  2005.533333      3.0  \n",
       "std     0.002833   0.213246   0.126994   1.106497     1.814374      0.0  \n",
       "min     0.991100   2.870000   0.280000   8.000000  2003.000000      3.0  \n",
       "25%     0.993750   3.140000   0.407500   9.625000  2004.000000      3.0  \n",
       "50%     0.995900   3.245000   0.505000  10.150000  2005.500000      3.0  \n",
       "75%     0.998060   3.415000   0.565000  11.000000  2007.000000      3.0  \n",
       "max     1.000800   3.630000   0.860000  12.600000  2008.000000      3.0  "
      ]
     },
     "execution_count": 8,
     "metadata": {},
     "output_type": "execute_result"
    }
   ],
   "source": [
    "# What are the average characteristics of a low-rated wine?\n",
    "df[df['quality']==3].describe()"
   ]
  },
  {
   "cell_type": "markdown",
   "metadata": {},
   "source": [
    "### Preliminary Assumptions\n",
    "\n",
    "Most frequent score is 6. What makes a wine have a score higher than 6?\n",
    "\n",
    "Sulfur dioxide varies a lot.\n",
    "\n",
    "Data looks clean."
   ]
  },
  {
   "cell_type": "markdown",
   "metadata": {},
   "source": [
    "### Exploratory Data Analysis"
   ]
  },
  {
   "cell_type": "code",
   "execution_count": 9,
   "metadata": {
    "collapsed": false
   },
   "outputs": [
    {
     "data": {
      "image/png": "[encoded data removed]",
      "text/plain": [
       "<matplotlib.figure.Figure at 0x118800ba8>"
      ]
     },
     "metadata": {},
     "output_type": "display_data"
    }
   ],
   "source": [
    "# Let's look at Sulfur dioxide's relationship to the rating since it has the highest standard deviation.\n",
    "\n",
    "# Plat a histogram to see distribution\n",
    "\n",
    "plt.figure()\n",
    "x = df[df['quality']>6]['total sulfur dioxide'].values\n",
    "plt.hist(x)\n",
    "\n",
    "\n",
    "# Set the title and labels\n",
    "plt.title('Distribution of Total Sulfur Dioxide for Quality > 6')\n",
    "plt.xlabel('Total Sulfur Dioxide')\n",
    "plt.ylabel('Frequency')\n",
    "# Plot average line\n",
    "plt.axvline(x=x.mean(), color='red')\n",
    "\n",
    "plt.show()"
   ]
  },
  {
   "cell_type": "code",
   "execution_count": 10,
   "metadata": {
    "collapsed": false
   },
   "outputs": [
    {
     "data": {
      "image/png": "[encoded data removed]",
      "text/plain": [
       "<matplotlib.figure.Figure at 0x118a1f0b8>"
      ]
     },
     "metadata": {},
     "output_type": "display_data"
    }
   ],
   "source": [
    "plt.figure()\n",
    "x = df[df['quality']<7]['total sulfur dioxide'].values\n",
    "plt.hist(x)\n",
    "\n",
    "\n",
    "# Set the title and labels\n",
    "plt.title('Distribution of Total Sulfur Dioxide for Quality of 3')\n",
    "plt.xlabel('Total Sulfur Dioxide')\n",
    "plt.ylabel('Frequency')\n",
    "# Plot average line\n",
    "plt.axvline(x=x.mean(), color='red')\n",
    "\n",
    "\n",
    "plt.show()"
   ]
  },
  {
   "cell_type": "code",
   "execution_count": 11,
   "metadata": {
    "collapsed": false,
    "scrolled": true
   },
   "outputs": [
    {
     "data": {
      "image/png": "[encoded data removed]",
      "text/plain": [
       "<matplotlib.figure.Figure at 0x118a38ef0>"
      ]
     },
     "metadata": {},
     "output_type": "display_data"
    }
   ],
   "source": [
    "# Differences by wine color\n",
    "\n",
    "# Red wine\n",
    "plt.figure()\n",
    "x=df[df['type']=='red']\n",
    "plt.hist(x['quality'].values)\n",
    "\n",
    "\n",
    "# Set the title and labels\n",
    "plt.title('Distribution of Quality of Red Wines')\n",
    "plt.xlabel('Quality')\n",
    "plt.ylabel('Frequency')\n",
    "# Plot average line\n",
    "plt.axvline(x=x['quality'].values.mean(), color='red')\n",
    "\n",
    "plt.show()"
   ]
  },
  {
   "cell_type": "code",
   "execution_count": 12,
   "metadata": {
    "collapsed": false
   },
   "outputs": [
    {
     "data": {
      "image/png": "[encoded data removed]",
      "text/plain": [
       "<matplotlib.figure.Figure at 0x118b67e80>"
      ]
     },
     "metadata": {},
     "output_type": "display_data"
    }
   ],
   "source": [
    "# White wine\n",
    "\n",
    "plt.figure()\n",
    "x=df[df['type']=='white']\n",
    "plt.hist(x['quality'].values)\n",
    "\n",
    "\n",
    "# Set the title and labels\n",
    "plt.title('Distribution of Quality of White Wines')\n",
    "plt.xlabel('Quality')\n",
    "plt.ylabel('Frequency')\n",
    "# Plot average line\n",
    "plt.axvline(x=x['quality'].values.mean(), color='red')\n",
    "\n",
    "\n",
    "plt.show()"
   ]
  },
  {
   "cell_type": "markdown",
   "metadata": {},
   "source": [
    "White wines are rated slightly higher than red wines. For this reason and the fact that people have different preferences for white/red wine, I'm going to split the two wines into two datasets and predict quality for white and red wine individually."
   ]
  },
  {
   "cell_type": "code",
   "execution_count": 13,
   "metadata": {
    "collapsed": false
   },
   "outputs": [
    {
     "data": {
      "text/plain": [
       "array(['red', 'white'], dtype=object)"
      ]
     },
     "execution_count": 13,
     "metadata": {},
     "output_type": "execute_result"
    }
   ],
   "source": [
    "df['type'].unique()"
   ]
  },
  {
   "cell_type": "code",
   "execution_count": 14,
   "metadata": {
    "collapsed": true
   },
   "outputs": [],
   "source": [
    "reds = df[df['type']=='red']\n",
    "whites = df[df['type']=='white']"
   ]
  },
  {
   "cell_type": "code",
   "execution_count": 15,
   "metadata": {
    "collapsed": false
   },
   "outputs": [
    {
     "data": {
      "image/png": "[encoded data removed]",
      "text/plain": [
       "<matplotlib.figure.Figure at 0x118c6ba58>"
      ]
     },
     "metadata": {},
     "output_type": "display_data"
    }
   ],
   "source": [
    "# Create a correlation matrix to see which variables are correlated to one another\n",
    "\n",
    "# reds\n",
    "names = list(reds)[1:]\n",
    "my_cmap = matplotlib.cm.get_cmap('RdYlGn')\n",
    "correlations = reds.corr()\n",
    "fig = plt.figure()\n",
    "ax = fig.add_subplot(111)\n",
    "cax = ax.matshow(correlations, vmin=-1, vmax=1,cmap=my_cmap)\n",
    "fig.colorbar(cax)\n",
    "ticks = np.arange(0,14,1)\n",
    "ax.set_xticks(ticks)\n",
    "ax.set_yticks(ticks)\n",
    "ax.set_xticklabels(names, fontsize=5)\n",
    "ax.set_yticklabels(names)\n",
    "plt.show()"
   ]
  },
  {
   "cell_type": "code",
   "execution_count": 16,
   "metadata": {
    "collapsed": false
   },
   "outputs": [
    {
     "data": {
      "image/png": "[encoded data removed]",
      "text/plain": [
       "<matplotlib.figure.Figure at 0x118e14b00>"
      ]
     },
     "metadata": {},
     "output_type": "display_data"
    }
   ],
   "source": [
    "# whites\n",
    "\n",
    "# reds\n",
    "names = list(whites)[1:]\n",
    "my_cmap = matplotlib.cm.get_cmap('RdYlGn')\n",
    "correlations = reds.corr()\n",
    "fig = plt.figure()\n",
    "ax = fig.add_subplot(111)\n",
    "cax = ax.matshow(correlations, vmin=-1, vmax=1,cmap=my_cmap)\n",
    "fig.colorbar(cax)\n",
    "ticks = np.arange(0,14,1)\n",
    "ax.set_xticks(ticks)\n",
    "ax.set_yticks(ticks)\n",
    "ax.set_xticklabels(names, fontsize=5)\n",
    "ax.set_yticklabels(names)\n",
    "plt.show()"
   ]
  },
  {
   "cell_type": "code",
   "execution_count": 17,
   "metadata": {
    "collapsed": false
   },
   "outputs": [
    {
     "data": {
      "image/png": "[encoded data removed]",
      "text/plain": [
       "<matplotlib.figure.Figure at 0x118c6f668>"
      ]
     },
     "metadata": {},
     "output_type": "display_data"
    }
   ],
   "source": [
    "# Distribution of volatile acidity\n",
    "\n",
    "# Red wine\n",
    "plt.figure()\n",
    "A = reds['volatile acidity'].values\n",
    "plt.hist(A[~np.isnan(A)])\n",
    "\n",
    "\n",
    "# Set the title and labels\n",
    "plt.title('Distribution of Volatile Acidity of Red Wines')\n",
    "plt.xlabel('Quality')\n",
    "plt.ylabel('Frequency')\n",
    "\n",
    "plt.show()"
   ]
  },
  {
   "cell_type": "markdown",
   "metadata": {},
   "source": [
    "It appears that for both red and white wines, volatile acidity and alcohol are two features that are correlated with wine quality."
   ]
  },
  {
   "cell_type": "code",
   "execution_count": 18,
   "metadata": {
    "collapsed": false
   },
   "outputs": [
    {
     "data": {
      "image/png": "[encoded data removed]",
      "text/plain": [
       "<matplotlib.figure.Figure at 0x118bb6f98>"
      ]
     },
     "metadata": {},
     "output_type": "display_data"
    }
   ],
   "source": [
    "# Let's look at volatile acidity. For each rating, what is the average volatile acidity?\n",
    "\n",
    "# Reds\n",
    "x = reds.groupby('quality').mean()['volatile acidity']\n",
    "\n",
    "objects = x.index.values\n",
    "y_pos = np.arange(len(objects))\n",
    "vol_acidity = x.values\n",
    " \n",
    "plt.bar(y_pos, vol_acidity, align='center', alpha=0.5)\n",
    "plt.xticks(y_pos, objects)\n",
    "plt.ylabel('Volatile Acidity')\n",
    "plt.title('Mean Volatile Acidity by Quality (Red Wines)')\n",
    " \n",
    "plt.show()"
   ]
  },
  {
   "cell_type": "code",
   "execution_count": 19,
   "metadata": {
    "collapsed": false
   },
   "outputs": [
    {
     "data": {
      "image/png": "[encoded data removed]",
      "text/plain": [
       "<matplotlib.figure.Figure at 0x118eed5c0>"
      ]
     },
     "metadata": {},
     "output_type": "display_data"
    }
   ],
   "source": [
    "# Whites\n",
    "\n",
    "plt.figure()\n",
    "A = whites['volatile acidity'].values\n",
    "plt.hist(A[~np.isnan(A)])\n",
    "\n",
    "\n",
    "# Set the title and labels\n",
    "plt.title('Distribution of Volatile Acidity of White Wines')\n",
    "plt.xlabel('Quality')\n",
    "plt.ylabel('Frequency')\n",
    "# Plot average line\n",
    "plt.axvline(x=whites['volatile acidity'].values.mean(), color='red')\n",
    "\n",
    "plt.show()"
   ]
  },
  {
   "cell_type": "code",
   "execution_count": 20,
   "metadata": {
    "collapsed": false
   },
   "outputs": [
    {
     "data": {
      "image/png": "[encoded data removed]",
      "text/plain": [
       "<matplotlib.figure.Figure at 0x118ae4e48>"
      ]
     },
     "metadata": {},
     "output_type": "display_data"
    }
   ],
   "source": [
    "# Whites\n",
    "x = whites.groupby('quality').mean()['volatile acidity']\n",
    "\n",
    "objects = x.index.values\n",
    "y_pos = np.arange(len(objects))\n",
    "vol_acidity = x.values\n",
    " \n",
    "plt.bar(y_pos, vol_acidity, align='center', alpha=0.5)\n",
    "plt.xticks(y_pos, objects)\n",
    "plt.ylabel('Volatile Acidity')\n",
    "plt.title('Mean Volatile Acidity by Quality (Whites Wines)')\n",
    " \n",
    "plt.show()"
   ]
  },
  {
   "cell_type": "markdown",
   "metadata": {},
   "source": [
    "It looks like a lower volatile acidity is better for both white and red wines. What about alcohol level?"
   ]
  },
  {
   "cell_type": "code",
   "execution_count": 21,
   "metadata": {
    "collapsed": false
   },
   "outputs": [
    {
     "data": {
      "image/png": "[encoded data removed]",
      "text/plain": [
       "<matplotlib.figure.Figure at 0x118e7b160>"
      ]
     },
     "metadata": {},
     "output_type": "display_data"
    }
   ],
   "source": [
    "# Whites\n",
    "x = whites.groupby('quality').mean()['alcohol']\n",
    "\n",
    "objects = x.index.values\n",
    "y_pos = np.arange(len(objects))\n",
    "alcohol = x.values\n",
    " \n",
    "plt.bar(y_pos, alcohol, align='center', alpha=0.5)\n",
    "plt.xticks(y_pos, objects)\n",
    "plt.ylabel('Alcohol')\n",
    "plt.title('Mean Alcohol by Quality (Whites Wines)')\n",
    " \n",
    "plt.show()"
   ]
  },
  {
   "cell_type": "code",
   "execution_count": 22,
   "metadata": {
    "collapsed": false
   },
   "outputs": [
    {
     "data": {
      "image/png": "[encoded data removed]",
      "text/plain": [
       "<matplotlib.figure.Figure at 0x118ab7400>"
      ]
     },
     "metadata": {},
     "output_type": "display_data"
    }
   ],
   "source": [
    "# Reds\n",
    "x = reds.groupby('quality').mean()['alcohol']\n",
    "\n",
    "objects = x.index.values\n",
    "y_pos = np.arange(len(objects))\n",
    "alcohol = x.values\n",
    " \n",
    "plt.bar(y_pos, alcohol, align='center', alpha=0.5)\n",
    "plt.xticks(y_pos, objects)\n",
    "plt.ylabel('Alcohol')\n",
    "plt.title('Mean Alcohol by Quality (Red Wines)')\n",
    " \n",
    "plt.show()"
   ]
  },
  {
   "cell_type": "markdown",
   "metadata": {},
   "source": [
    "It looks like higher alcohol percentages are better for high quality wines."
   ]
  },
  {
   "cell_type": "markdown",
   "metadata": {},
   "source": [
    "### Data Preprocessing"
   ]
  },
  {
   "cell_type": "markdown",
   "metadata": {},
   "source": [
    "The year is an interval variable, so I'm going to calculate the the amount of time it has been aging with the assumption that our data was collected in 2018."
   ]
  },
  {
   "cell_type": "code",
   "execution_count": 23,
   "metadata": {
    "collapsed": false
   },
   "outputs": [],
   "source": [
    "df = df.assign(age = lambda x: 2018-df.vintage)"
   ]
  },
  {
   "cell_type": "code",
   "execution_count": 24,
   "metadata": {
    "collapsed": true
   },
   "outputs": [],
   "source": [
    "del(df['vintage'])"
   ]
  },
  {
   "cell_type": "code",
   "execution_count": 25,
   "metadata": {
    "collapsed": false
   },
   "outputs": [
    {
     "data": {
      "text/plain": [
       "(6497, 15)"
      ]
     },
     "execution_count": 25,
     "metadata": {},
     "output_type": "execute_result"
    }
   ],
   "source": [
    "df.shape"
   ]
  },
  {
   "cell_type": "code",
   "execution_count": 26,
   "metadata": {
    "collapsed": false
   },
   "outputs": [
    {
     "data": {
      "text/plain": [
       "type                       0\n",
       "fixed acidity              0\n",
       "volatile acidity         299\n",
       "citric acid                0\n",
       "astringency rating       332\n",
       "residual sugar          2364\n",
       "chlorides                  0\n",
       "free sulfur dioxide        0\n",
       "total sulfur dioxide       0\n",
       "density                    0\n",
       "pH                        62\n",
       "sulphates                  0\n",
       "alcohol                    0\n",
       "quality                    0\n",
       "age                       69\n",
       "dtype: int64"
      ]
     },
     "execution_count": 26,
     "metadata": {},
     "output_type": "execute_result"
    }
   ],
   "source": [
    "# See if there are nan values, since sklearn doesn't take nan values.\n",
    "df.isnull().sum()"
   ]
  },
  {
   "cell_type": "code",
   "execution_count": 27,
   "metadata": {
    "collapsed": false
   },
   "outputs": [
    {
     "data": {
      "text/plain": [
       "0.3638602431891642"
      ]
     },
     "execution_count": 27,
     "metadata": {},
     "output_type": "execute_result"
    }
   ],
   "source": [
    "2364/6497"
   ]
  },
  {
   "cell_type": "code",
   "execution_count": 28,
   "metadata": {
    "collapsed": true
   },
   "outputs": [],
   "source": [
    "# Drop residual sugar column since over 30% is missing.\n",
    "del(df['residual sugar'])"
   ]
  },
  {
   "cell_type": "code",
   "execution_count": 29,
   "metadata": {
    "collapsed": false,
    "scrolled": true
   },
   "outputs": [
    {
     "data": {
      "text/plain": [
       "(5763, 14)"
      ]
     },
     "execution_count": 29,
     "metadata": {},
     "output_type": "execute_result"
    }
   ],
   "source": [
    "# see how much of df will be dropped if we drop all nan\n",
    "df.dropna().shape"
   ]
  },
  {
   "cell_type": "code",
   "execution_count": 30,
   "metadata": {
    "collapsed": false
   },
   "outputs": [
    {
     "data": {
      "text/plain": [
       "0.8870247806680006"
      ]
     },
     "execution_count": 30,
     "metadata": {},
     "output_type": "execute_result"
    }
   ],
   "source": [
    "5763/6497"
   ]
  },
  {
   "cell_type": "markdown",
   "metadata": {},
   "source": [
    "88% of the data will remain, so let's drop the data. If I were to spend more time on this, I would see if there are any patterns we can see causing these nan values."
   ]
  },
  {
   "cell_type": "code",
   "execution_count": 31,
   "metadata": {
    "collapsed": false
   },
   "outputs": [
    {
     "data": {
      "text/plain": [
       "(5763, 14)"
      ]
     },
     "execution_count": 31,
     "metadata": {},
     "output_type": "execute_result"
    }
   ],
   "source": [
    "df.dropna(inplace=True)\n",
    "df.shape\n",
    "# TODO: See if there is a pattern of nans within only one type of wine (e.g. red/white)"
   ]
  },
  {
   "cell_type": "markdown",
   "metadata": {},
   "source": [
    "Now, I'll define what is a \"good\" quality wine. From the distribution of qualities between red and white wines, it appears that the the average quality is around 5.5 for red wines and 5.8 for white wines. The most frequent rating is 5 for red wines and 6 for white wines. For this reason, I will define a \"good\" red wine as a wine with at least a quality of 6 and a \"good\" white wine as a wine with at least a quality of 7. "
   ]
  },
  {
   "cell_type": "code",
   "execution_count": 32,
   "metadata": {
    "collapsed": false
   },
   "outputs": [],
   "source": [
    "reds = df[df['type']=='red']\n",
    "whites = df[df['type']=='white']"
   ]
  },
  {
   "cell_type": "code",
   "execution_count": 33,
   "metadata": {
    "collapsed": false
   },
   "outputs": [
    {
     "name": "stderr",
     "output_type": "stream",
     "text": [
      "/Users/emily/anaconda/lib/python3.5/site-packages/ipykernel/__main__.py:1: SettingWithCopyWarning: \n",
      "A value is trying to be set on a copy of a slice from a DataFrame.\n",
      "Try using .loc[row_indexer,col_indexer] = value instead\n",
      "\n",
      "See the caveats in the documentation: http://pandas.pydata.org/pandas-docs/stable/indexing.html#indexing-view-versus-copy\n",
      "  if __name__ == '__main__':\n",
      "/Users/emily/anaconda/lib/python3.5/site-packages/ipykernel/__main__.py:2: SettingWithCopyWarning: \n",
      "A value is trying to be set on a copy of a slice from a DataFrame.\n",
      "Try using .loc[row_indexer,col_indexer] = value instead\n",
      "\n",
      "See the caveats in the documentation: http://pandas.pydata.org/pandas-docs/stable/indexing.html#indexing-view-versus-copy\n",
      "  from ipykernel import kernelapp as app\n"
     ]
    }
   ],
   "source": [
    "reds['label'] = np.where(reds['quality']>=6, 1, 0)\n",
    "whites['label'] = np.where(whites['quality']>=7, 1, 0)"
   ]
  },
  {
   "cell_type": "code",
   "execution_count": 34,
   "metadata": {
    "collapsed": true
   },
   "outputs": [],
   "source": [
    "# del(reds['quality'])\n",
    "# del(whites['quality'])"
   ]
  },
  {
   "cell_type": "markdown",
   "metadata": {},
   "source": [
    "Now that we have our labels, I'm going to use a Random Forest to predict what makes a wine \"good\" (i.e., above average). I'm using a random forest for a few reasons:\n",
    "- It's takes very little time to optimize (default parameters are usually already optimal).\n",
    "- It's strong with continuous and discrete variables. The scales of each feature doesn't affect other features.\n",
    "- We can easily see feature importance, and I can build a simple decision tree to see how the model is splitting the data."
   ]
  },
  {
   "cell_type": "markdown",
   "metadata": {},
   "source": [
    "### Red Wines"
   ]
  },
  {
   "cell_type": "code",
   "execution_count": 35,
   "metadata": {
    "collapsed": false
   },
   "outputs": [
    {
     "name": "stderr",
     "output_type": "stream",
     "text": [
      "/Users/emily/anaconda/lib/python3.5/site-packages/sklearn/cross_validation.py:41: DeprecationWarning: This module was deprecated in version 0.18 in favor of the model_selection module into which all the refactored classes and functions are moved. Also note that the interface of the new CV iterators are different from that of this module. This module will be removed in 0.20.\n",
      "  \"This module will be removed in 0.20.\", DeprecationWarning)\n"
     ]
    }
   ],
   "source": [
    "# Create training and test sets with a 66% split. \n",
    "from sklearn.model_selection import train_test_split\n",
    "from sklearn import cross_validation\n",
    "from sklearn.ensemble import RandomForestClassifier"
   ]
  },
  {
   "cell_type": "code",
   "execution_count": 36,
   "metadata": {
    "collapsed": false
   },
   "outputs": [
    {
     "data": {
      "text/html": [
       "<div>\n",
       "<style>\n",
       "    .dataframe thead tr:only-child th {\n",
       "        text-align: right;\n",
       "    }\n",
       "\n",
       "    .dataframe thead th {\n",
       "        text-align: left;\n",
       "    }\n",
       "\n",
       "    .dataframe tbody tr th {\n",
       "        vertical-align: top;\n",
       "    }\n",
       "</style>\n",
       "<table border=\"1\" class=\"dataframe\">\n",
       "  <thead>\n",
       "    <tr style=\"text-align: right;\">\n",
       "      <th></th>\n",
       "      <th>fixed acidity</th>\n",
       "      <th>volatile acidity</th>\n",
       "      <th>citric acid</th>\n",
       "      <th>astringency rating</th>\n",
       "      <th>chlorides</th>\n",
       "      <th>free sulfur dioxide</th>\n",
       "      <th>total sulfur dioxide</th>\n",
       "      <th>density</th>\n",
       "      <th>pH</th>\n",
       "      <th>sulphates</th>\n",
       "      <th>alcohol</th>\n",
       "      <th>quality</th>\n",
       "      <th>age</th>\n",
       "      <th>label</th>\n",
       "    </tr>\n",
       "  </thead>\n",
       "  <tbody>\n",
       "    <tr>\n",
       "      <th>0</th>\n",
       "      <td>7.4</td>\n",
       "      <td>0.70</td>\n",
       "      <td>0.00</td>\n",
       "      <td>0.81</td>\n",
       "      <td>0.076</td>\n",
       "      <td>11.0</td>\n",
       "      <td>34.0</td>\n",
       "      <td>0.9978</td>\n",
       "      <td>3.51</td>\n",
       "      <td>0.56</td>\n",
       "      <td>9.4</td>\n",
       "      <td>5</td>\n",
       "      <td>17.0</td>\n",
       "      <td>0</td>\n",
       "    </tr>\n",
       "    <tr>\n",
       "      <th>2</th>\n",
       "      <td>7.8</td>\n",
       "      <td>0.76</td>\n",
       "      <td>0.04</td>\n",
       "      <td>0.85</td>\n",
       "      <td>0.092</td>\n",
       "      <td>15.0</td>\n",
       "      <td>54.0</td>\n",
       "      <td>0.9970</td>\n",
       "      <td>3.26</td>\n",
       "      <td>0.65</td>\n",
       "      <td>9.8</td>\n",
       "      <td>5</td>\n",
       "      <td>12.0</td>\n",
       "      <td>0</td>\n",
       "    </tr>\n",
       "    <tr>\n",
       "      <th>3</th>\n",
       "      <td>11.2</td>\n",
       "      <td>0.28</td>\n",
       "      <td>0.56</td>\n",
       "      <td>1.14</td>\n",
       "      <td>0.075</td>\n",
       "      <td>17.0</td>\n",
       "      <td>60.0</td>\n",
       "      <td>0.9980</td>\n",
       "      <td>3.16</td>\n",
       "      <td>0.58</td>\n",
       "      <td>9.8</td>\n",
       "      <td>6</td>\n",
       "      <td>15.0</td>\n",
       "      <td>1</td>\n",
       "    </tr>\n",
       "    <tr>\n",
       "      <th>4</th>\n",
       "      <td>7.4</td>\n",
       "      <td>0.70</td>\n",
       "      <td>0.00</td>\n",
       "      <td>0.81</td>\n",
       "      <td>0.076</td>\n",
       "      <td>11.0</td>\n",
       "      <td>34.0</td>\n",
       "      <td>0.9978</td>\n",
       "      <td>3.51</td>\n",
       "      <td>0.56</td>\n",
       "      <td>9.4</td>\n",
       "      <td>5</td>\n",
       "      <td>14.0</td>\n",
       "      <td>0</td>\n",
       "    </tr>\n",
       "    <tr>\n",
       "      <th>5</th>\n",
       "      <td>7.4</td>\n",
       "      <td>0.66</td>\n",
       "      <td>0.00</td>\n",
       "      <td>0.80</td>\n",
       "      <td>0.075</td>\n",
       "      <td>13.0</td>\n",
       "      <td>40.0</td>\n",
       "      <td>0.9978</td>\n",
       "      <td>3.51</td>\n",
       "      <td>0.56</td>\n",
       "      <td>9.4</td>\n",
       "      <td>5</td>\n",
       "      <td>14.0</td>\n",
       "      <td>0</td>\n",
       "    </tr>\n",
       "  </tbody>\n",
       "</table>\n",
       "</div>"
      ],
      "text/plain": [
       "   fixed acidity  volatile acidity  citric acid  astringency rating  \\\n",
       "0            7.4              0.70         0.00                0.81   \n",
       "2            7.8              0.76         0.04                0.85   \n",
       "3           11.2              0.28         0.56                1.14   \n",
       "4            7.4              0.70         0.00                0.81   \n",
       "5            7.4              0.66         0.00                0.80   \n",
       "\n",
       "   chlorides  free sulfur dioxide  total sulfur dioxide  density    pH  \\\n",
       "0      0.076                 11.0                  34.0   0.9978  3.51   \n",
       "2      0.092                 15.0                  54.0   0.9970  3.26   \n",
       "3      0.075                 17.0                  60.0   0.9980  3.16   \n",
       "4      0.076                 11.0                  34.0   0.9978  3.51   \n",
       "5      0.075                 13.0                  40.0   0.9978  3.51   \n",
       "\n",
       "   sulphates  alcohol  quality   age  label  \n",
       "0       0.56      9.4        5  17.0      0  \n",
       "2       0.65      9.8        5  12.0      0  \n",
       "3       0.58      9.8        6  15.0      1  \n",
       "4       0.56      9.4        5  14.0      0  \n",
       "5       0.56      9.4        5  14.0      0  "
      ]
     },
     "execution_count": 36,
     "metadata": {},
     "output_type": "execute_result"
    }
   ],
   "source": [
    "del(reds['type'])\n",
    "del(whites['type'])\n",
    "reds.head()"
   ]
  },
  {
   "cell_type": "code",
   "execution_count": 37,
   "metadata": {
    "collapsed": false
   },
   "outputs": [],
   "source": [
    "# X_reds = reds.drop(['label','quality'], axis=1).values\n",
    "# y_reds = reds['label'].values\n",
    "\n",
    "# X_train, X_test, y_train, y_test = cross_validation.train_test_split(X_reds,y_reds,test_size=0.33)\n",
    "\n",
    "msk = np.random.rand(len(reds)) < 0.66\n",
    "train = reds[msk]\n",
    "test = reds[~msk]\n",
    "X_train = train.drop(['label','quality'], axis=1).values\n",
    "X_test = test.drop(['label','quality'], axis=1).values\n",
    "y_train = train['label'].values\n",
    "y_test = test['label'].values\n",
    "test_quality = test['quality'].values\n"
   ]
  },
  {
   "cell_type": "code",
   "execution_count": 38,
   "metadata": {
    "collapsed": false
   },
   "outputs": [
    {
     "name": "stdout",
     "output_type": "stream",
     "text": [
      "test score:  0.811403508772\n",
      "train score:  0.991675338189\n"
     ]
    }
   ],
   "source": [
    "rf_model = RandomForestClassifier()\n",
    "rf_model.fit(X_train, y_train)\n",
    "test_score = rf_model.score(X_test, y_test)\n",
    "print(\"test score: \",test_score)\n",
    "train_score = rf_model.score(X_train, y_train)\n",
    "print(\"train score: \",train_score)"
   ]
  },
  {
   "cell_type": "code",
   "execution_count": 39,
   "metadata": {
    "collapsed": false
   },
   "outputs": [
    {
     "data": {
      "text/plain": [
       "array([[167,  39],\n",
       "       [ 47, 203]])"
      ]
     },
     "execution_count": 39,
     "metadata": {},
     "output_type": "execute_result"
    }
   ],
   "source": [
    "# Let's take a look at how well the model is performing.\n",
    "\n",
    "# Confusion Matrix\n",
    "from sklearn.metrics import confusion_matrix\n",
    "predictions = rf_model.predict(X_test)\n",
    "confusion_matrix(y_test, predictions)"
   ]
  },
  {
   "cell_type": "markdown",
   "metadata": {},
   "source": [
    "It looks like a similar percentage of false negatives and false positives is occurring."
   ]
  },
  {
   "cell_type": "code",
   "execution_count": 40,
   "metadata": {
    "collapsed": false,
    "scrolled": true
   },
   "outputs": [
    {
     "name": "stdout",
     "output_type": "stream",
     "text": [
      "Feature ranking:\n",
      "10. alcohol (0.178873)\n",
      "9. sulphates (0.146115)\n",
      "6. total sulfur dioxide (0.098136)\n",
      "1. volatile acidity (0.089495)\n",
      "7. density (0.084966)\n",
      "5. free sulfur dioxide (0.069289)\n",
      "4. chlorides (0.068187)\n",
      "3. astringency rating (0.065134)\n",
      "8. pH (0.061656)\n",
      "2. citric acid (0.054002)\n",
      "0. fixed acidity (0.053238)\n",
      "11. age (0.030908)\n"
     ]
    },
    {
     "data": {
      "image/png": "[encoded data removed]",
      "text/plain": [
       "<matplotlib.figure.Figure at 0x118e2d5f8>"
      ]
     },
     "metadata": {},
     "output_type": "display_data"
    }
   ],
   "source": [
    "# Print the feature ranking\n",
    "importances = rf_model.feature_importances_\n",
    "indices = np.argsort(importances)[::-1]\n",
    "std = np.std([rf_model.feature_importances_ for tree in rf_model.estimators_],\n",
    "             axis=0)\n",
    "\n",
    "print(\"Feature ranking:\")\n",
    "\n",
    "for f in range(X_train.shape[1]):\n",
    "    print(\"%d. %s (%f)\" % (indices[f], list(reds.drop(['label','quality'], axis=1))[indices[f]], importances[indices[f]]))\n",
    "\n",
    "# Plot the feature importances of the forest\n",
    "plt.figure()\n",
    "plt.title(\"Feature importances\")\n",
    "plt.bar(indices, importances,\n",
    "       color=\"r\", yerr=std[indices], align=\"center\")\n",
    "plt.xticks(range(X_train.shape[1]), indices)\n",
    "plt.xlim([-1, X_train.shape[1]])\n",
    "plt.show()"
   ]
  },
  {
   "cell_type": "markdown",
   "metadata": {},
   "source": [
    "Alcohol seems to be the most important feature. It is given almost double the weight of half of the features. Let's see what happens if we remove that feature. "
   ]
  },
  {
   "cell_type": "code",
   "execution_count": 41,
   "metadata": {
    "collapsed": false
   },
   "outputs": [],
   "source": [
    "X_reds_ = reds.drop(['label','quality','alcohol'], axis=1).values\n",
    "y_reds_ = reds['label'].values\n",
    "\n",
    "X_train_, X_test_, y_train_, y_test_ = cross_validation.train_test_split(X_reds_,y_reds_,test_size=0.33)"
   ]
  },
  {
   "cell_type": "code",
   "execution_count": 42,
   "metadata": {
    "collapsed": false
   },
   "outputs": [
    {
     "name": "stdout",
     "output_type": "stream",
     "text": [
      "test score:  0.75\n",
      "train score:  0.988408851423\n"
     ]
    }
   ],
   "source": [
    "rf_model_ = RandomForestClassifier()\n",
    "rf_model_.fit(X_train_, y_train_)\n",
    "test_score_ = rf_model_.score(X_test_, y_test_)\n",
    "print(\"test score: \",test_score_)\n",
    "train_score_ = rf_model_.score(X_train_, y_train_)\n",
    "print(\"train score: \",train_score_)"
   ]
  },
  {
   "cell_type": "code",
   "execution_count": 43,
   "metadata": {
    "collapsed": false
   },
   "outputs": [
    {
     "data": {
      "text/plain": [
       "array([[167,  54],\n",
       "       [ 63, 184]])"
      ]
     },
     "execution_count": 43,
     "metadata": {},
     "output_type": "execute_result"
    }
   ],
   "source": [
    "# Let's take a look at how well the model is performing.\n",
    "\n",
    "# Confusion Matrix\n",
    "from sklearn.metrics import confusion_matrix\n",
    "predictions_ = rf_model_.predict(X_test_)\n",
    "confusion_matrix(y_test_, predictions_)"
   ]
  },
  {
   "cell_type": "code",
   "execution_count": 44,
   "metadata": {
    "collapsed": false
   },
   "outputs": [
    {
     "data": {
      "image/svg+xml": [
       "<?xml version=\"1.0\" encoding=\"UTF-8\" standalone=\"no\"?>\n",
       "<!DOCTYPE svg PUBLIC \"-//W3C//DTD SVG 1.1//EN\"\n",
       " \"http://www.w3.org/Graphics/SVG/1.1/DTD/svg11.dtd\">\n",
       "<!-- Generated by graphviz version 2.40.1 (20161225.0304)\n",
       " -->\n",
       "<!-- Title: Tree Pages: 1 -->\n",
       "<svg width=\"1986pt\" height=\"458pt\"\n",
       " viewBox=\"0.00 0.00 1985.55 458.00\" xmlns=\"http://www.w3.org/2000/svg\" xmlns:xlink=\"http://www.w3.org/1999/xlink\">\n",
       "<g id=\"graph0\" class=\"graph\" transform=\"scale(1 1) rotate(0) translate(4 454)\">\n",
       "<title>Tree</title>\n",
       "<polygon fill=\"#ffffff\" stroke=\"transparent\" points=\"-4,4 -4,-454 1981.5547,-454 1981.5547,4 -4,4\"/>\n",
       "<!-- 0 -->\n",
       "<g id=\"node1\" class=\"node\">\n",
       "<title>0</title>\n",
       "<path fill=\"#399de5\" fill-opacity=\"0.094118\" stroke=\"#000000\" d=\"M1018.9769,-450C1018.9769,-450 915.5778,-450 915.5778,-450 909.5778,-450 903.5778,-444 903.5778,-438 903.5778,-438 903.5778,-398 903.5778,-398 903.5778,-392 909.5778,-386 915.5778,-386 915.5778,-386 1018.9769,-386 1018.9769,-386 1024.9769,-386 1030.9769,-392 1030.9769,-398 1030.9769,-398 1030.9769,-438 1030.9769,-438 1030.9769,-444 1024.9769,-450 1018.9769,-450\"/>\n",
       "<text text-anchor=\"start\" x=\"923.7393\" y=\"-434.8\" font-family=\"Helvetica,sans-Serif\" font-size=\"14.00\" fill=\"#000000\">alcohol ≤ 9.95</text>\n",
       "<text text-anchor=\"start\" x=\"930.8862\" y=\"-420.8\" font-family=\"Helvetica,sans-Serif\" font-size=\"14.00\" fill=\"#000000\">gini = 0.499</text>\n",
       "<text text-anchor=\"start\" x=\"921.5552\" y=\"-406.8\" font-family=\"Helvetica,sans-Serif\" font-size=\"14.00\" fill=\"#000000\">samples = 961</text>\n",
       "<text text-anchor=\"start\" x=\"911.4277\" y=\"-392.8\" font-family=\"Helvetica,sans-Serif\" font-size=\"14.00\" fill=\"#000000\">value = [457, 504]</text>\n",
       "</g>\n",
       "<!-- 1 -->\n",
       "<g id=\"node2\" class=\"node\">\n",
       "<title>1</title>\n",
       "<path fill=\"#e58139\" fill-opacity=\"0.607843\" stroke=\"#000000\" d=\"M791.4448,-350C791.4448,-350 689.1099,-350 689.1099,-350 683.1099,-350 677.1099,-344 677.1099,-338 677.1099,-338 677.1099,-298 677.1099,-298 677.1099,-292 683.1099,-286 689.1099,-286 689.1099,-286 791.4448,-286 791.4448,-286 797.4448,-286 803.4448,-292 803.4448,-298 803.4448,-298 803.4448,-338 803.4448,-338 803.4448,-344 797.4448,-350 791.4448,-350\"/>\n",
       "<text text-anchor=\"start\" x=\"685.0635\" y=\"-334.8\" font-family=\"Helvetica,sans-Serif\" font-size=\"14.00\" fill=\"#000000\">sulphates ≤ 0.575</text>\n",
       "<text text-anchor=\"start\" x=\"703.8862\" y=\"-320.8\" font-family=\"Helvetica,sans-Serif\" font-size=\"14.00\" fill=\"#000000\">gini = 0.405</text>\n",
       "<text text-anchor=\"start\" x=\"695.0713\" y=\"-306.8\" font-family=\"Helvetica,sans-Serif\" font-size=\"14.00\" fill=\"#000000\">samples = 411</text>\n",
       "<text text-anchor=\"start\" x=\"684.9438\" y=\"-292.8\" font-family=\"Helvetica,sans-Serif\" font-size=\"14.00\" fill=\"#000000\">value = [295, 116]</text>\n",
       "</g>\n",
       "<!-- 0&#45;&gt;1 -->\n",
       "<g id=\"edge1\" class=\"edge\">\n",
       "<title>0&#45;&gt;1</title>\n",
       "<path fill=\"none\" stroke=\"#000000\" d=\"M903.4411,-389.8783C875.2789,-377.4721 842.0353,-362.8273 812.9279,-350.0046\"/>\n",
       "<polygon fill=\"#000000\" stroke=\"#000000\" points=\"814.1968,-346.7391 803.6344,-345.9106 811.3748,-353.1451 814.1968,-346.7391\"/>\n",
       "<text text-anchor=\"middle\" x=\"812.6853\" y=\"-365.0147\" font-family=\"Helvetica,sans-Serif\" font-size=\"14.00\" fill=\"#000000\">True</text>\n",
       "</g>\n",
       "<!-- 16 -->\n",
       "<g id=\"node17\" class=\"node\">\n",
       "<title>16</title>\n",
       "<path fill=\"#399de5\" fill-opacity=\"0.584314\" stroke=\"#000000\" d=\"M1297.9769,-350C1297.9769,-350 1194.5778,-350 1194.5778,-350 1188.5778,-350 1182.5778,-344 1182.5778,-338 1182.5778,-338 1182.5778,-298 1182.5778,-298 1182.5778,-292 1188.5778,-286 1194.5778,-286 1194.5778,-286 1297.9769,-286 1297.9769,-286 1303.9769,-286 1309.9769,-292 1309.9769,-298 1309.9769,-298 1309.9769,-338 1309.9769,-338 1309.9769,-344 1303.9769,-350 1297.9769,-350\"/>\n",
       "<text text-anchor=\"start\" x=\"1199.3623\" y=\"-334.8\" font-family=\"Helvetica,sans-Serif\" font-size=\"14.00\" fill=\"#000000\">alcohol ≤ 11.45</text>\n",
       "<text text-anchor=\"start\" x=\"1209.8862\" y=\"-320.8\" font-family=\"Helvetica,sans-Serif\" font-size=\"14.00\" fill=\"#000000\">gini = 0.416</text>\n",
       "<text text-anchor=\"start\" x=\"1200.5552\" y=\"-306.8\" font-family=\"Helvetica,sans-Serif\" font-size=\"14.00\" fill=\"#000000\">samples = 550</text>\n",
       "<text text-anchor=\"start\" x=\"1190.4277\" y=\"-292.8\" font-family=\"Helvetica,sans-Serif\" font-size=\"14.00\" fill=\"#000000\">value = [162, 388]</text>\n",
       "</g>\n",
       "<!-- 0&#45;&gt;16 -->\n",
       "<g id=\"edge16\" class=\"edge\">\n",
       "<title>0&#45;&gt;16</title>\n",
       "<path fill=\"none\" stroke=\"#000000\" d=\"M1031.2856,-395.058C1073.5523,-379.9086 1129.0502,-360.0169 1173.0718,-344.2385\"/>\n",
       "<polygon fill=\"#000000\" stroke=\"#000000\" points=\"1174.3343,-347.5041 1182.5669,-340.8353 1171.9724,-340.9146 1174.3343,-347.5041\"/>\n",
       "<text text-anchor=\"middle\" x=\"1171.8904\" y=\"-359.2408\" font-family=\"Helvetica,sans-Serif\" font-size=\"14.00\" fill=\"#000000\">False</text>\n",
       "</g>\n",
       "<!-- 2 -->\n",
       "<g id=\"node3\" class=\"node\">\n",
       "<title>2</title>\n",
       "<path fill=\"#e58139\" fill-opacity=\"0.819608\" stroke=\"#000000\" d=\"M421.1905,-250C421.1905,-250 325.3642,-250 325.3642,-250 319.3642,-250 313.3642,-244 313.3642,-238 313.3642,-238 313.3642,-198 313.3642,-198 313.3642,-192 319.3642,-186 325.3642,-186 325.3642,-186 421.1905,-186 421.1905,-186 427.1905,-186 433.1905,-192 433.1905,-198 433.1905,-198 433.1905,-238 433.1905,-238 433.1905,-244 427.1905,-250 421.1905,-250\"/>\n",
       "<text text-anchor=\"start\" x=\"329.7393\" y=\"-234.8\" font-family=\"Helvetica,sans-Serif\" font-size=\"14.00\" fill=\"#000000\">alcohol ≤ 9.05</text>\n",
       "<text text-anchor=\"start\" x=\"340.7793\" y=\"-220.8\" font-family=\"Helvetica,sans-Serif\" font-size=\"14.00\" fill=\"#000000\">gini = 0.26</text>\n",
       "<text text-anchor=\"start\" x=\"327.5552\" y=\"-206.8\" font-family=\"Helvetica,sans-Serif\" font-size=\"14.00\" fill=\"#000000\">samples = 189</text>\n",
       "<text text-anchor=\"start\" x=\"321.3208\" y=\"-192.8\" font-family=\"Helvetica,sans-Serif\" font-size=\"14.00\" fill=\"#000000\">value = [160, 29]</text>\n",
       "</g>\n",
       "<!-- 1&#45;&gt;2 -->\n",
       "<g id=\"edge2\" class=\"edge\">\n",
       "<title>1&#45;&gt;2</title>\n",
       "<path fill=\"none\" stroke=\"#000000\" d=\"M676.7698,-300.6955C611.5573,-282.9264 510.3404,-255.3469 442.9598,-236.9871\"/>\n",
       "<polygon fill=\"#000000\" stroke=\"#000000\" points=\"443.8407,-233.5995 433.2723,-234.3474 442.0004,-240.3533 443.8407,-233.5995\"/>\n",
       "</g>\n",
       "<!-- 9 -->\n",
       "<g id=\"node10\" class=\"node\">\n",
       "<title>9</title>\n",
       "<path fill=\"#e58139\" fill-opacity=\"0.356863\" stroke=\"#000000\" d=\"M813.8297,-250C813.8297,-250 666.725,-250 666.725,-250 660.725,-250 654.725,-244 654.725,-238 654.725,-238 654.725,-198 654.725,-198 654.725,-192 660.725,-186 666.725,-186 666.725,-186 813.8297,-186 813.8297,-186 819.8297,-186 825.8297,-192 825.8297,-198 825.8297,-198 825.8297,-238 825.8297,-238 825.8297,-244 819.8297,-250 813.8297,-250\"/>\n",
       "<text text-anchor=\"start\" x=\"662.5015\" y=\"-234.8\" font-family=\"Helvetica,sans-Serif\" font-size=\"14.00\" fill=\"#000000\">total sulfur dioxide ≤ 50.5</text>\n",
       "<text text-anchor=\"start\" x=\"703.8862\" y=\"-220.8\" font-family=\"Helvetica,sans-Serif\" font-size=\"14.00\" fill=\"#000000\">gini = 0.477</text>\n",
       "<text text-anchor=\"start\" x=\"694.5552\" y=\"-206.8\" font-family=\"Helvetica,sans-Serif\" font-size=\"14.00\" fill=\"#000000\">samples = 222</text>\n",
       "<text text-anchor=\"start\" x=\"688.3208\" y=\"-192.8\" font-family=\"Helvetica,sans-Serif\" font-size=\"14.00\" fill=\"#000000\">value = [135, 87]</text>\n",
       "</g>\n",
       "<!-- 1&#45;&gt;9 -->\n",
       "<g id=\"edge9\" class=\"edge\">\n",
       "<title>1&#45;&gt;9</title>\n",
       "<path fill=\"none\" stroke=\"#000000\" d=\"M740.2773,-285.8089C740.2773,-277.6906 740.2773,-268.8517 740.2773,-260.3186\"/>\n",
       "<polygon fill=\"#000000\" stroke=\"#000000\" points=\"743.7774,-260.1307 740.2773,-250.1308 736.7774,-260.1308 743.7774,-260.1307\"/>\n",
       "</g>\n",
       "<!-- 3 -->\n",
       "<g id=\"node4\" class=\"node\">\n",
       "<title>3</title>\n",
       "<path fill=\"#399de5\" fill-opacity=\"0.250980\" stroke=\"#000000\" d=\"M217.1329,-150C217.1329,-150 109.4218,-150 109.4218,-150 103.4218,-150 97.4218,-144 97.4218,-138 97.4218,-138 97.4218,-98 97.4218,-98 97.4218,-92 103.4218,-86 109.4218,-86 109.4218,-86 217.1329,-86 217.1329,-86 223.1329,-86 229.1329,-92 229.1329,-98 229.1329,-98 229.1329,-138 229.1329,-138 229.1329,-144 223.1329,-150 217.1329,-150\"/>\n",
       "<text text-anchor=\"start\" x=\"105.3496\" y=\"-134.8\" font-family=\"Helvetica,sans-Serif\" font-size=\"14.00\" fill=\"#000000\">fixed acidity ≤ 8.15</text>\n",
       "<text text-anchor=\"start\" x=\"130.7793\" y=\"-120.8\" font-family=\"Helvetica,sans-Serif\" font-size=\"14.00\" fill=\"#000000\">gini = 0.49</text>\n",
       "<text text-anchor=\"start\" x=\"125.3413\" y=\"-106.8\" font-family=\"Helvetica,sans-Serif\" font-size=\"14.00\" fill=\"#000000\">samples = 7</text>\n",
       "<text text-anchor=\"start\" x=\"123\" y=\"-92.8\" font-family=\"Helvetica,sans-Serif\" font-size=\"14.00\" fill=\"#000000\">value = [3, 4]</text>\n",
       "</g>\n",
       "<!-- 2&#45;&gt;3 -->\n",
       "<g id=\"edge3\" class=\"edge\">\n",
       "<title>2&#45;&gt;3</title>\n",
       "<path fill=\"none\" stroke=\"#000000\" d=\"M313.0998,-189.344C289.8861,-178.2899 263.0742,-165.5223 238.6045,-153.8701\"/>\n",
       "<polygon fill=\"#000000\" stroke=\"#000000\" points=\"239.8868,-150.6042 229.3534,-149.4648 236.8772,-156.9242 239.8868,-150.6042\"/>\n",
       "</g>\n",
       "<!-- 6 -->\n",
       "<g id=\"node7\" class=\"node\">\n",
       "<title>6</title>\n",
       "<path fill=\"#e58139\" fill-opacity=\"0.839216\" stroke=\"#000000\" d=\"M449.7773,-150C449.7773,-150 296.7773,-150 296.7773,-150 290.7773,-150 284.7773,-144 284.7773,-138 284.7773,-138 284.7773,-98 284.7773,-98 284.7773,-92 290.7773,-86 296.7773,-86 296.7773,-86 449.7773,-86 449.7773,-86 455.7773,-86 461.7773,-92 461.7773,-98 461.7773,-98 461.7773,-138 461.7773,-138 461.7773,-144 455.7773,-150 449.7773,-150\"/>\n",
       "<text text-anchor=\"start\" x=\"292.7773\" y=\"-134.8\" font-family=\"Helvetica,sans-Serif\" font-size=\"14.00\" fill=\"#000000\">astringency rating ≤ 0.765</text>\n",
       "<text text-anchor=\"start\" x=\"336.8862\" y=\"-120.8\" font-family=\"Helvetica,sans-Serif\" font-size=\"14.00\" fill=\"#000000\">gini = 0.237</text>\n",
       "<text text-anchor=\"start\" x=\"327.5552\" y=\"-106.8\" font-family=\"Helvetica,sans-Serif\" font-size=\"14.00\" fill=\"#000000\">samples = 182</text>\n",
       "<text text-anchor=\"start\" x=\"321.3208\" y=\"-92.8\" font-family=\"Helvetica,sans-Serif\" font-size=\"14.00\" fill=\"#000000\">value = [157, 25]</text>\n",
       "</g>\n",
       "<!-- 2&#45;&gt;6 -->\n",
       "<g id=\"edge6\" class=\"edge\">\n",
       "<title>2&#45;&gt;6</title>\n",
       "<path fill=\"none\" stroke=\"#000000\" d=\"M373.2773,-185.8089C373.2773,-177.6906 373.2773,-168.8517 373.2773,-160.3186\"/>\n",
       "<polygon fill=\"#000000\" stroke=\"#000000\" points=\"376.7774,-160.1307 373.2773,-150.1308 369.7774,-160.1308 376.7774,-160.1307\"/>\n",
       "</g>\n",
       "<!-- 4 -->\n",
       "<g id=\"node5\" class=\"node\">\n",
       "<title>4</title>\n",
       "<path fill=\"#e58139\" stroke=\"#000000\" d=\"M84.3331,-50C84.3331,-50 12.2216,-50 12.2216,-50 6.2216,-50 .2216,-44 .2216,-38 .2216,-38 .2216,-12 .2216,-12 .2216,-6 6.2216,0 12.2216,0 12.2216,0 84.3331,0 84.3331,0 90.3331,0 96.3331,-6 96.3331,-12 96.3331,-12 96.3331,-38 96.3331,-38 96.3331,-44 90.3331,-50 84.3331,-50\"/>\n",
       "<text text-anchor=\"start\" x=\"19.6724\" y=\"-34.8\" font-family=\"Helvetica,sans-Serif\" font-size=\"14.00\" fill=\"#000000\">gini = 0.0</text>\n",
       "<text text-anchor=\"start\" x=\"10.3413\" y=\"-20.8\" font-family=\"Helvetica,sans-Serif\" font-size=\"14.00\" fill=\"#000000\">samples = 3</text>\n",
       "<text text-anchor=\"start\" x=\"8\" y=\"-6.8\" font-family=\"Helvetica,sans-Serif\" font-size=\"14.00\" fill=\"#000000\">value = [3, 0]</text>\n",
       "</g>\n",
       "<!-- 3&#45;&gt;4 -->\n",
       "<g id=\"edge4\" class=\"edge\">\n",
       "<title>3&#45;&gt;4</title>\n",
       "<path fill=\"none\" stroke=\"#000000\" d=\"M123.7009,-85.9947C111.8761,-76.432 98.9276,-65.9606 87.1485,-56.4349\"/>\n",
       "<polygon fill=\"#000000\" stroke=\"#000000\" points=\"89.1851,-53.5807 79.2087,-50.014 84.7834,-59.0236 89.1851,-53.5807\"/>\n",
       "</g>\n",
       "<!-- 5 -->\n",
       "<g id=\"node6\" class=\"node\">\n",
       "<title>5</title>\n",
       "<path fill=\"#399de5\" stroke=\"#000000\" d=\"M199.3331,-50C199.3331,-50 127.2216,-50 127.2216,-50 121.2216,-50 115.2216,-44 115.2216,-38 115.2216,-38 115.2216,-12 115.2216,-12 115.2216,-6 121.2216,0 127.2216,0 127.2216,0 199.3331,0 199.3331,0 205.3331,0 211.3331,-6 211.3331,-12 211.3331,-12 211.3331,-38 211.3331,-38 211.3331,-44 205.3331,-50 199.3331,-50\"/>\n",
       "<text text-anchor=\"start\" x=\"134.6724\" y=\"-34.8\" font-family=\"Helvetica,sans-Serif\" font-size=\"14.00\" fill=\"#000000\">gini = 0.0</text>\n",
       "<text text-anchor=\"start\" x=\"125.3413\" y=\"-20.8\" font-family=\"Helvetica,sans-Serif\" font-size=\"14.00\" fill=\"#000000\">samples = 4</text>\n",
       "<text text-anchor=\"start\" x=\"123\" y=\"-6.8\" font-family=\"Helvetica,sans-Serif\" font-size=\"14.00\" fill=\"#000000\">value = [0, 4]</text>\n",
       "</g>\n",
       "<!-- 3&#45;&gt;5 -->\n",
       "<g id=\"edge5\" class=\"edge\">\n",
       "<title>3&#45;&gt;5</title>\n",
       "<path fill=\"none\" stroke=\"#000000\" d=\"M163.2773,-85.9947C163.2773,-77.6273 163.2773,-68.5643 163.2773,-60.0478\"/>\n",
       "<polygon fill=\"#000000\" stroke=\"#000000\" points=\"166.7774,-60.014 163.2773,-50.014 159.7774,-60.0141 166.7774,-60.014\"/>\n",
       "</g>\n",
       "<!-- 7 -->\n",
       "<g id=\"node8\" class=\"node\">\n",
       "<title>7</title>\n",
       "<path fill=\"#e58139\" fill-opacity=\"0.607843\" stroke=\"#000000\" d=\"M321.6187,-50C321.6187,-50 240.936,-50 240.936,-50 234.936,-50 228.936,-44 228.936,-38 228.936,-38 228.936,-12 228.936,-12 228.936,-6 234.936,0 240.936,0 240.936,0 321.6187,0 321.6187,0 327.6187,0 333.6187,-6 333.6187,-12 333.6187,-12 333.6187,-38 333.6187,-38 333.6187,-44 327.6187,-50 321.6187,-50\"/>\n",
       "<text text-anchor=\"start\" x=\"244.8862\" y=\"-34.8\" font-family=\"Helvetica,sans-Serif\" font-size=\"14.00\" fill=\"#000000\">gini = 0.404</text>\n",
       "<text text-anchor=\"start\" x=\"239.4482\" y=\"-20.8\" font-family=\"Helvetica,sans-Serif\" font-size=\"14.00\" fill=\"#000000\">samples = 32</text>\n",
       "<text text-anchor=\"start\" x=\"237.1069\" y=\"-6.8\" font-family=\"Helvetica,sans-Serif\" font-size=\"14.00\" fill=\"#000000\">value = [23, 9]</text>\n",
       "</g>\n",
       "<!-- 6&#45;&gt;7 -->\n",
       "<g id=\"edge7\" class=\"edge\">\n",
       "<title>6&#45;&gt;7</title>\n",
       "<path fill=\"none\" stroke=\"#000000\" d=\"M341.6162,-85.9947C332.4292,-76.7079 322.3944,-66.564 313.192,-57.2616\"/>\n",
       "<polygon fill=\"#000000\" stroke=\"#000000\" points=\"315.5434,-54.6618 306.0224,-50.014 310.567,-59.5847 315.5434,-54.6618\"/>\n",
       "</g>\n",
       "<!-- 8 -->\n",
       "<g id=\"node9\" class=\"node\">\n",
       "<title>8</title>\n",
       "<path fill=\"#e58139\" fill-opacity=\"0.882353\" stroke=\"#000000\" d=\"M459.1905,-50C459.1905,-50 363.3642,-50 363.3642,-50 357.3642,-50 351.3642,-44 351.3642,-38 351.3642,-38 351.3642,-12 351.3642,-12 351.3642,-6 357.3642,0 363.3642,0 363.3642,0 459.1905,0 459.1905,0 465.1905,0 471.1905,-6 471.1905,-12 471.1905,-12 471.1905,-38 471.1905,-38 471.1905,-44 465.1905,-50 459.1905,-50\"/>\n",
       "<text text-anchor=\"start\" x=\"374.8862\" y=\"-34.8\" font-family=\"Helvetica,sans-Serif\" font-size=\"14.00\" fill=\"#000000\">gini = 0.191</text>\n",
       "<text text-anchor=\"start\" x=\"365.5552\" y=\"-20.8\" font-family=\"Helvetica,sans-Serif\" font-size=\"14.00\" fill=\"#000000\">samples = 150</text>\n",
       "<text text-anchor=\"start\" x=\"359.3208\" y=\"-6.8\" font-family=\"Helvetica,sans-Serif\" font-size=\"14.00\" fill=\"#000000\">value = [134, 16]</text>\n",
       "</g>\n",
       "<!-- 6&#45;&gt;8 -->\n",
       "<g id=\"edge8\" class=\"edge\">\n",
       "<title>6&#45;&gt;8</title>\n",
       "<path fill=\"none\" stroke=\"#000000\" d=\"M386.3548,-85.9947C389.8488,-77.4434 393.6398,-68.1656 397.1859,-59.487\"/>\n",
       "<polygon fill=\"#000000\" stroke=\"#000000\" points=\"400.514,-60.595 401.0566,-50.014 394.0341,-57.9472 400.514,-60.595\"/>\n",
       "</g>\n",
       "<!-- 10 -->\n",
       "<g id=\"node11\" class=\"node\">\n",
       "<title>10</title>\n",
       "<path fill=\"#399de5\" fill-opacity=\"0.031373\" stroke=\"#000000\" d=\"M705.4044,-150C705.4044,-150 617.1503,-150 617.1503,-150 611.1503,-150 605.1503,-144 605.1503,-138 605.1503,-138 605.1503,-98 605.1503,-98 605.1503,-92 611.1503,-86 617.1503,-86 617.1503,-86 705.4044,-86 705.4044,-86 711.4044,-86 717.4044,-92 717.4044,-98 717.4044,-98 717.4044,-138 717.4044,-138 717.4044,-144 711.4044,-150 705.4044,-150\"/>\n",
       "<text text-anchor=\"start\" x=\"628.7588\" y=\"-134.8\" font-family=\"Helvetica,sans-Serif\" font-size=\"14.00\" fill=\"#000000\">age ≤ 11.5</text>\n",
       "<text text-anchor=\"start\" x=\"632.6724\" y=\"-120.8\" font-family=\"Helvetica,sans-Serif\" font-size=\"14.00\" fill=\"#000000\">gini = 0.5</text>\n",
       "<text text-anchor=\"start\" x=\"615.5552\" y=\"-106.8\" font-family=\"Helvetica,sans-Serif\" font-size=\"14.00\" fill=\"#000000\">samples = 120</text>\n",
       "<text text-anchor=\"start\" x=\"613.2139\" y=\"-92.8\" font-family=\"Helvetica,sans-Serif\" font-size=\"14.00\" fill=\"#000000\">value = [59, 61]</text>\n",
       "</g>\n",
       "<!-- 9&#45;&gt;10 -->\n",
       "<g id=\"edge10\" class=\"edge\">\n",
       "<title>9&#45;&gt;10</title>\n",
       "<path fill=\"none\" stroke=\"#000000\" d=\"M714.8464,-185.8089C707.8691,-176.9769 700.2181,-167.2921 692.9373,-158.0759\"/>\n",
       "<polygon fill=\"#000000\" stroke=\"#000000\" points=\"695.6061,-155.8079 686.6606,-150.1308 690.1133,-160.1473 695.6061,-155.8079\"/>\n",
       "</g>\n",
       "<!-- 13 -->\n",
       "<g id=\"node14\" class=\"node\">\n",
       "<title>13</title>\n",
       "<path fill=\"#e58139\" fill-opacity=\"0.658824\" stroke=\"#000000\" d=\"M892.9913,-150C892.9913,-150 747.5633,-150 747.5633,-150 741.5633,-150 735.5633,-144 735.5633,-138 735.5633,-138 735.5633,-98 735.5633,-98 735.5633,-92 741.5633,-86 747.5633,-86 747.5633,-86 892.9913,-86 892.9913,-86 898.9913,-86 904.9913,-92 904.9913,-98 904.9913,-98 904.9913,-138 904.9913,-138 904.9913,-144 898.9913,-150 892.9913,-150\"/>\n",
       "<text text-anchor=\"start\" x=\"743.6704\" y=\"-134.8\" font-family=\"Helvetica,sans-Serif\" font-size=\"14.00\" fill=\"#000000\">free sulfur dioxide ≤ 20.5</text>\n",
       "<text text-anchor=\"start\" x=\"787.7793\" y=\"-120.8\" font-family=\"Helvetica,sans-Serif\" font-size=\"14.00\" fill=\"#000000\">gini = 0.38</text>\n",
       "<text text-anchor=\"start\" x=\"774.5552\" y=\"-106.8\" font-family=\"Helvetica,sans-Serif\" font-size=\"14.00\" fill=\"#000000\">samples = 102</text>\n",
       "<text text-anchor=\"start\" x=\"772.2139\" y=\"-92.8\" font-family=\"Helvetica,sans-Serif\" font-size=\"14.00\" fill=\"#000000\">value = [76, 26]</text>\n",
       "</g>\n",
       "<!-- 9&#45;&gt;13 -->\n",
       "<g id=\"edge13\" class=\"edge\">\n",
       "<title>9&#45;&gt;13</title>\n",
       "<path fill=\"none\" stroke=\"#000000\" d=\"M766.0302,-185.8089C773.0958,-176.9769 780.8437,-167.2921 788.2166,-158.0759\"/>\n",
       "<polygon fill=\"#000000\" stroke=\"#000000\" points=\"791.0588,-160.1259 794.5727,-150.1308 785.5927,-155.753 791.0588,-160.1259\"/>\n",
       "</g>\n",
       "<!-- 11 -->\n",
       "<g id=\"node12\" class=\"node\">\n",
       "<title>11</title>\n",
       "<path fill=\"#e58139\" fill-opacity=\"0.533333\" stroke=\"#000000\" d=\"M589.4044,-50C589.4044,-50 501.1503,-50 501.1503,-50 495.1503,-50 489.1503,-44 489.1503,-38 489.1503,-38 489.1503,-12 489.1503,-12 489.1503,-6 495.1503,0 501.1503,0 501.1503,0 589.4044,0 589.4044,0 595.4044,0 601.4044,-6 601.4044,-12 601.4044,-12 601.4044,-38 601.4044,-38 601.4044,-44 595.4044,-50 589.4044,-50\"/>\n",
       "<text text-anchor=\"start\" x=\"508.8862\" y=\"-34.8\" font-family=\"Helvetica,sans-Serif\" font-size=\"14.00\" fill=\"#000000\">gini = 0.434</text>\n",
       "<text text-anchor=\"start\" x=\"503.4482\" y=\"-20.8\" font-family=\"Helvetica,sans-Serif\" font-size=\"14.00\" fill=\"#000000\">samples = 44</text>\n",
       "<text text-anchor=\"start\" x=\"497.2139\" y=\"-6.8\" font-family=\"Helvetica,sans-Serif\" font-size=\"14.00\" fill=\"#000000\">value = [30, 14]</text>\n",
       "</g>\n",
       "<!-- 10&#45;&gt;11 -->\n",
       "<g id=\"edge11\" class=\"edge\">\n",
       "<title>10&#45;&gt;11</title>\n",
       "<path fill=\"none\" stroke=\"#000000\" d=\"M621.3567,-85.9947C609.4291,-76.432 596.368,-65.9606 584.4865,-56.4349\"/>\n",
       "<polygon fill=\"#000000\" stroke=\"#000000\" points=\"586.4691,-53.5385 576.4776,-50.014 582.0905,-59 586.4691,-53.5385\"/>\n",
       "</g>\n",
       "<!-- 12 -->\n",
       "<g id=\"node13\" class=\"node\">\n",
       "<title>12</title>\n",
       "<path fill=\"#399de5\" fill-opacity=\"0.384314\" stroke=\"#000000\" d=\"M719.4044,-50C719.4044,-50 631.1503,-50 631.1503,-50 625.1503,-50 619.1503,-44 619.1503,-38 619.1503,-38 619.1503,-12 619.1503,-12 619.1503,-6 625.1503,0 631.1503,0 631.1503,0 719.4044,0 719.4044,0 725.4044,0 731.4044,-6 731.4044,-12 731.4044,-12 731.4044,-38 731.4044,-38 731.4044,-44 725.4044,-50 719.4044,-50\"/>\n",
       "<text text-anchor=\"start\" x=\"638.8862\" y=\"-34.8\" font-family=\"Helvetica,sans-Serif\" font-size=\"14.00\" fill=\"#000000\">gini = 0.472</text>\n",
       "<text text-anchor=\"start\" x=\"633.4482\" y=\"-20.8\" font-family=\"Helvetica,sans-Serif\" font-size=\"14.00\" fill=\"#000000\">samples = 76</text>\n",
       "<text text-anchor=\"start\" x=\"627.2139\" y=\"-6.8\" font-family=\"Helvetica,sans-Serif\" font-size=\"14.00\" fill=\"#000000\">value = [29, 47]</text>\n",
       "</g>\n",
       "<!-- 10&#45;&gt;12 -->\n",
       "<g id=\"edge12\" class=\"edge\">\n",
       "<title>10&#45;&gt;12</title>\n",
       "<path fill=\"none\" stroke=\"#000000\" d=\"M666.0953,-85.9947C667.3549,-77.6273 668.7193,-68.5643 670.0013,-60.0478\"/>\n",
       "<polygon fill=\"#000000\" stroke=\"#000000\" points=\"673.4841,-60.4237 671.5118,-50.014 666.5621,-59.3816 673.4841,-60.4237\"/>\n",
       "</g>\n",
       "<!-- 14 -->\n",
       "<g id=\"node15\" class=\"node\">\n",
       "<title>14</title>\n",
       "<path fill=\"#e58139\" fill-opacity=\"0.392157\" stroke=\"#000000\" d=\"M849.4044,-50C849.4044,-50 761.1503,-50 761.1503,-50 755.1503,-50 749.1503,-44 749.1503,-38 749.1503,-38 749.1503,-12 749.1503,-12 749.1503,-6 755.1503,0 761.1503,0 761.1503,0 849.4044,0 849.4044,0 855.4044,0 861.4044,-6 861.4044,-12 861.4044,-12 861.4044,-38 861.4044,-38 861.4044,-44 855.4044,-50 849.4044,-50\"/>\n",
       "<text text-anchor=\"start\" x=\"772.7793\" y=\"-34.8\" font-family=\"Helvetica,sans-Serif\" font-size=\"14.00\" fill=\"#000000\">gini = 0.47</text>\n",
       "<text text-anchor=\"start\" x=\"763.4482\" y=\"-20.8\" font-family=\"Helvetica,sans-Serif\" font-size=\"14.00\" fill=\"#000000\">samples = 45</text>\n",
       "<text text-anchor=\"start\" x=\"757.2139\" y=\"-6.8\" font-family=\"Helvetica,sans-Serif\" font-size=\"14.00\" fill=\"#000000\">value = [28, 17]</text>\n",
       "</g>\n",
       "<!-- 13&#45;&gt;14 -->\n",
       "<g id=\"edge14\" class=\"edge\">\n",
       "<title>13&#45;&gt;14</title>\n",
       "<path fill=\"none\" stroke=\"#000000\" d=\"M815.1152,-85.9947C813.7656,-77.6273 812.3038,-68.5643 810.9302,-60.0478\"/>\n",
       "<polygon fill=\"#000000\" stroke=\"#000000\" points=\"814.3596,-59.3291 809.3119,-50.014 807.4489,-60.4438 814.3596,-59.3291\"/>\n",
       "</g>\n",
       "<!-- 15 -->\n",
       "<g id=\"node16\" class=\"node\">\n",
       "<title>15</title>\n",
       "<path fill=\"#e58139\" fill-opacity=\"0.811765\" stroke=\"#000000\" d=\"M971.6187,-50C971.6187,-50 890.936,-50 890.936,-50 884.936,-50 878.936,-44 878.936,-38 878.936,-38 878.936,-12 878.936,-12 878.936,-6 884.936,0 890.936,0 890.936,0 971.6187,0 971.6187,0 977.6187,0 983.6187,-6 983.6187,-12 983.6187,-12 983.6187,-38 983.6187,-38 983.6187,-44 977.6187,-50 971.6187,-50\"/>\n",
       "<text text-anchor=\"start\" x=\"894.8862\" y=\"-34.8\" font-family=\"Helvetica,sans-Serif\" font-size=\"14.00\" fill=\"#000000\">gini = 0.266</text>\n",
       "<text text-anchor=\"start\" x=\"889.4482\" y=\"-20.8\" font-family=\"Helvetica,sans-Serif\" font-size=\"14.00\" fill=\"#000000\">samples = 57</text>\n",
       "<text text-anchor=\"start\" x=\"887.1069\" y=\"-6.8\" font-family=\"Helvetica,sans-Serif\" font-size=\"14.00\" fill=\"#000000\">value = [48, 9]</text>\n",
       "</g>\n",
       "<!-- 13&#45;&gt;15 -->\n",
       "<g id=\"edge15\" class=\"edge\">\n",
       "<title>13&#45;&gt;15</title>\n",
       "<path fill=\"none\" stroke=\"#000000\" d=\"M858.4772,-85.9947C869.781,-76.524 882.1486,-66.1619 893.43,-56.7099\"/>\n",
       "<polygon fill=\"#000000\" stroke=\"#000000\" points=\"896.0044,-59.1191 901.4219,-50.014 891.5089,-53.7534 896.0044,-59.1191\"/>\n",
       "</g>\n",
       "<!-- 17 -->\n",
       "<g id=\"node18\" class=\"node\">\n",
       "<title>17</title>\n",
       "<path fill=\"#399de5\" fill-opacity=\"0.392157\" stroke=\"#000000\" d=\"M1297.9769,-250C1297.9769,-250 1194.5778,-250 1194.5778,-250 1188.5778,-250 1182.5778,-244 1182.5778,-238 1182.5778,-238 1182.5778,-198 1182.5778,-198 1182.5778,-192 1188.5778,-186 1194.5778,-186 1194.5778,-186 1297.9769,-186 1297.9769,-186 1303.9769,-186 1309.9769,-192 1309.9769,-198 1309.9769,-198 1309.9769,-238 1309.9769,-238 1309.9769,-244 1303.9769,-250 1297.9769,-250\"/>\n",
       "<text text-anchor=\"start\" x=\"1191.0635\" y=\"-234.8\" font-family=\"Helvetica,sans-Serif\" font-size=\"14.00\" fill=\"#000000\">sulphates ≤ 0.595</text>\n",
       "<text text-anchor=\"start\" x=\"1213.7793\" y=\"-220.8\" font-family=\"Helvetica,sans-Serif\" font-size=\"14.00\" fill=\"#000000\">gini = 0.47</text>\n",
       "<text text-anchor=\"start\" x=\"1200.5552\" y=\"-206.8\" font-family=\"Helvetica,sans-Serif\" font-size=\"14.00\" fill=\"#000000\">samples = 389</text>\n",
       "<text text-anchor=\"start\" x=\"1190.4277\" y=\"-192.8\" font-family=\"Helvetica,sans-Serif\" font-size=\"14.00\" fill=\"#000000\">value = [147, 242]</text>\n",
       "</g>\n",
       "<!-- 16&#45;&gt;17 -->\n",
       "<g id=\"edge17\" class=\"edge\">\n",
       "<title>16&#45;&gt;17</title>\n",
       "<path fill=\"none\" stroke=\"#000000\" d=\"M1246.2773,-285.8089C1246.2773,-277.6906 1246.2773,-268.8517 1246.2773,-260.3186\"/>\n",
       "<polygon fill=\"#000000\" stroke=\"#000000\" points=\"1249.7774,-260.1307 1246.2773,-250.1308 1242.7774,-260.1308 1249.7774,-260.1307\"/>\n",
       "</g>\n",
       "<!-- 24 -->\n",
       "<g id=\"node25\" class=\"node\">\n",
       "<title>24</title>\n",
       "<path fill=\"#399de5\" fill-opacity=\"0.898039\" stroke=\"#000000\" d=\"M1690.1397,-250C1690.1397,-250 1568.415,-250 1568.415,-250 1562.415,-250 1556.415,-244 1556.415,-238 1556.415,-238 1556.415,-198 1556.415,-198 1556.415,-192 1562.415,-186 1568.415,-186 1568.415,-186 1690.1397,-186 1690.1397,-186 1696.1397,-186 1702.1397,-192 1702.1397,-198 1702.1397,-198 1702.1397,-238 1702.1397,-238 1702.1397,-244 1696.1397,-250 1690.1397,-250\"/>\n",
       "<text text-anchor=\"start\" x=\"1564.3462\" y=\"-234.8\" font-family=\"Helvetica,sans-Serif\" font-size=\"14.00\" fill=\"#000000\">volatile acidity ≤ 0.87</text>\n",
       "<text text-anchor=\"start\" x=\"1592.8862\" y=\"-220.8\" font-family=\"Helvetica,sans-Serif\" font-size=\"14.00\" fill=\"#000000\">gini = 0.169</text>\n",
       "<text text-anchor=\"start\" x=\"1583.5552\" y=\"-206.8\" font-family=\"Helvetica,sans-Serif\" font-size=\"14.00\" fill=\"#000000\">samples = 161</text>\n",
       "<text text-anchor=\"start\" x=\"1577.3208\" y=\"-192.8\" font-family=\"Helvetica,sans-Serif\" font-size=\"14.00\" fill=\"#000000\">value = [15, 146]</text>\n",
       "</g>\n",
       "<!-- 16&#45;&gt;24 -->\n",
       "<g id=\"edge24\" class=\"edge\">\n",
       "<title>16&#45;&gt;24</title>\n",
       "<path fill=\"none\" stroke=\"#000000\" d=\"M1310.3829,-301.2622C1375.1609,-284.3489 1475.5314,-258.1425 1546.3359,-239.6557\"/>\n",
       "<polygon fill=\"#000000\" stroke=\"#000000\" points=\"1547.3323,-243.013 1556.1237,-237.1002 1545.5639,-236.24 1547.3323,-243.013\"/>\n",
       "</g>\n",
       "<!-- 18 -->\n",
       "<g id=\"node19\" class=\"node\">\n",
       "<title>18</title>\n",
       "<path fill=\"#e58139\" fill-opacity=\"0.321569\" stroke=\"#000000\" d=\"M1223.2056,-150C1223.2056,-150 1085.349,-150 1085.349,-150 1079.349,-150 1073.349,-144 1073.349,-138 1073.349,-138 1073.349,-98 1073.349,-98 1073.349,-92 1079.349,-86 1085.349,-86 1085.349,-86 1223.2056,-86 1223.2056,-86 1229.2056,-86 1235.2056,-92 1235.2056,-98 1235.2056,-98 1235.2056,-138 1235.2056,-138 1235.2056,-144 1229.2056,-150 1223.2056,-150\"/>\n",
       "<text text-anchor=\"start\" x=\"1081.5635\" y=\"-134.8\" font-family=\"Helvetica,sans-Serif\" font-size=\"14.00\" fill=\"#000000\">free sulfur dioxide ≤ 8.5</text>\n",
       "<text text-anchor=\"start\" x=\"1117.8862\" y=\"-120.8\" font-family=\"Helvetica,sans-Serif\" font-size=\"14.00\" fill=\"#000000\">gini = 0.482</text>\n",
       "<text text-anchor=\"start\" x=\"1108.5552\" y=\"-106.8\" font-family=\"Helvetica,sans-Serif\" font-size=\"14.00\" fill=\"#000000\">samples = 126</text>\n",
       "<text text-anchor=\"start\" x=\"1106.2139\" y=\"-92.8\" font-family=\"Helvetica,sans-Serif\" font-size=\"14.00\" fill=\"#000000\">value = [75, 51]</text>\n",
       "</g>\n",
       "<!-- 17&#45;&gt;18 -->\n",
       "<g id=\"edge18\" class=\"edge\">\n",
       "<title>17&#45;&gt;18</title>\n",
       "<path fill=\"none\" stroke=\"#000000\" d=\"M1216.6616,-185.8089C1208.3719,-176.7985 1199.2657,-166.9004 1190.6339,-157.518\"/>\n",
       "<polygon fill=\"#000000\" stroke=\"#000000\" points=\"1193.184,-155.1204 1183.8376,-150.1308 1188.0325,-159.8598 1193.184,-155.1204\"/>\n",
       "</g>\n",
       "<!-- 21 -->\n",
       "<g id=\"node22\" class=\"node\">\n",
       "<title>21</title>\n",
       "<path fill=\"#399de5\" fill-opacity=\"0.623529\" stroke=\"#000000\" d=\"M1411.8297,-150C1411.8297,-150 1264.725,-150 1264.725,-150 1258.725,-150 1252.725,-144 1252.725,-138 1252.725,-138 1252.725,-98 1252.725,-98 1252.725,-92 1258.725,-86 1264.725,-86 1264.725,-86 1411.8297,-86 1411.8297,-86 1417.8297,-86 1423.8297,-92 1423.8297,-98 1423.8297,-98 1423.8297,-138 1423.8297,-138 1423.8297,-144 1417.8297,-150 1411.8297,-150\"/>\n",
       "<text text-anchor=\"start\" x=\"1260.5015\" y=\"-134.8\" font-family=\"Helvetica,sans-Serif\" font-size=\"14.00\" fill=\"#000000\">total sulfur dioxide ≤ 86.0</text>\n",
       "<text text-anchor=\"start\" x=\"1301.8862\" y=\"-120.8\" font-family=\"Helvetica,sans-Serif\" font-size=\"14.00\" fill=\"#000000\">gini = 0.398</text>\n",
       "<text text-anchor=\"start\" x=\"1292.5552\" y=\"-106.8\" font-family=\"Helvetica,sans-Serif\" font-size=\"14.00\" fill=\"#000000\">samples = 263</text>\n",
       "<text text-anchor=\"start\" x=\"1286.3208\" y=\"-92.8\" font-family=\"Helvetica,sans-Serif\" font-size=\"14.00\" fill=\"#000000\">value = [72, 191]</text>\n",
       "</g>\n",
       "<!-- 17&#45;&gt;21 -->\n",
       "<g id=\"edge21\" class=\"edge\">\n",
       "<title>17&#45;&gt;21</title>\n",
       "<path fill=\"none\" stroke=\"#000000\" d=\"M1275.8931,-185.8089C1284.1828,-176.7985 1293.289,-166.9004 1301.9208,-157.518\"/>\n",
       "<polygon fill=\"#000000\" stroke=\"#000000\" points=\"1304.5222,-159.8598 1308.717,-150.1308 1299.3707,-155.1204 1304.5222,-159.8598\"/>\n",
       "</g>\n",
       "<!-- 19 -->\n",
       "<g id=\"node20\" class=\"node\">\n",
       "<title>19</title>\n",
       "<path fill=\"#e58139\" fill-opacity=\"0.776471\" stroke=\"#000000\" d=\"M1093.6187,-50C1093.6187,-50 1012.936,-50 1012.936,-50 1006.936,-50 1000.936,-44 1000.936,-38 1000.936,-38 1000.936,-12 1000.936,-12 1000.936,-6 1006.936,0 1012.936,0 1012.936,0 1093.6187,0 1093.6187,0 1099.6187,0 1105.6187,-6 1105.6187,-12 1105.6187,-12 1105.6187,-38 1105.6187,-38 1105.6187,-44 1099.6187,-50 1093.6187,-50\"/>\n",
       "<text text-anchor=\"start\" x=\"1016.8862\" y=\"-34.8\" font-family=\"Helvetica,sans-Serif\" font-size=\"14.00\" fill=\"#000000\">gini = 0.298</text>\n",
       "<text text-anchor=\"start\" x=\"1011.4482\" y=\"-20.8\" font-family=\"Helvetica,sans-Serif\" font-size=\"14.00\" fill=\"#000000\">samples = 44</text>\n",
       "<text text-anchor=\"start\" x=\"1009.1069\" y=\"-6.8\" font-family=\"Helvetica,sans-Serif\" font-size=\"14.00\" fill=\"#000000\">value = [36, 8]</text>\n",
       "</g>\n",
       "<!-- 18&#45;&gt;19 -->\n",
       "<g id=\"edge19\" class=\"edge\">\n",
       "<title>18&#45;&gt;19</title>\n",
       "<path fill=\"none\" stroke=\"#000000\" d=\"M1119.5189,-85.9947C1109.3333,-76.6159 1098.1985,-66.363 1088.0143,-56.9855\"/>\n",
       "<polygon fill=\"#000000\" stroke=\"#000000\" points=\"1090.1704,-54.213 1080.4431,-50.014 1085.4287,-59.3625 1090.1704,-54.213\"/>\n",
       "</g>\n",
       "<!-- 20 -->\n",
       "<g id=\"node21\" class=\"node\">\n",
       "<title>20</title>\n",
       "<path fill=\"#399de5\" fill-opacity=\"0.094118\" stroke=\"#000000\" d=\"M1223.4044,-50C1223.4044,-50 1135.1503,-50 1135.1503,-50 1129.1503,-50 1123.1503,-44 1123.1503,-38 1123.1503,-38 1123.1503,-12 1123.1503,-12 1123.1503,-6 1129.1503,0 1135.1503,0 1135.1503,0 1223.4044,0 1223.4044,0 1229.4044,0 1235.4044,-6 1235.4044,-12 1235.4044,-12 1235.4044,-38 1235.4044,-38 1235.4044,-44 1229.4044,-50 1223.4044,-50\"/>\n",
       "<text text-anchor=\"start\" x=\"1142.8862\" y=\"-34.8\" font-family=\"Helvetica,sans-Serif\" font-size=\"14.00\" fill=\"#000000\">gini = 0.499</text>\n",
       "<text text-anchor=\"start\" x=\"1137.4482\" y=\"-20.8\" font-family=\"Helvetica,sans-Serif\" font-size=\"14.00\" fill=\"#000000\">samples = 82</text>\n",
       "<text text-anchor=\"start\" x=\"1131.2139\" y=\"-6.8\" font-family=\"Helvetica,sans-Serif\" font-size=\"14.00\" fill=\"#000000\">value = [39, 43]</text>\n",
       "</g>\n",
       "<!-- 18&#45;&gt;20 -->\n",
       "<g id=\"edge20\" class=\"edge\">\n",
       "<title>18&#45;&gt;20</title>\n",
       "<path fill=\"none\" stroke=\"#000000\" d=\"M1162.8809,-85.9947C1165.1549,-77.5354 1167.6201,-68.365 1169.9313,-59.7672\"/>\n",
       "<polygon fill=\"#000000\" stroke=\"#000000\" points=\"1173.3371,-60.5798 1172.5531,-50.014 1166.5771,-58.7626 1173.3371,-60.5798\"/>\n",
       "</g>\n",
       "<!-- 22 -->\n",
       "<g id=\"node23\" class=\"node\">\n",
       "<title>22</title>\n",
       "<path fill=\"#399de5\" fill-opacity=\"0.717647\" stroke=\"#000000\" d=\"M1361.1905,-50C1361.1905,-50 1265.3642,-50 1265.3642,-50 1259.3642,-50 1253.3642,-44 1253.3642,-38 1253.3642,-38 1253.3642,-12 1253.3642,-12 1253.3642,-6 1259.3642,0 1265.3642,0 1265.3642,0 1361.1905,0 1361.1905,0 1367.1905,0 1373.1905,-6 1373.1905,-12 1373.1905,-12 1373.1905,-38 1373.1905,-38 1373.1905,-44 1367.1905,-50 1361.1905,-50\"/>\n",
       "<text text-anchor=\"start\" x=\"1276.8862\" y=\"-34.8\" font-family=\"Helvetica,sans-Serif\" font-size=\"14.00\" fill=\"#000000\">gini = 0.345</text>\n",
       "<text text-anchor=\"start\" x=\"1267.5552\" y=\"-20.8\" font-family=\"Helvetica,sans-Serif\" font-size=\"14.00\" fill=\"#000000\">samples = 244</text>\n",
       "<text text-anchor=\"start\" x=\"1261.3208\" y=\"-6.8\" font-family=\"Helvetica,sans-Serif\" font-size=\"14.00\" fill=\"#000000\">value = [54, 190]</text>\n",
       "</g>\n",
       "<!-- 21&#45;&gt;22 -->\n",
       "<g id=\"edge22\" class=\"edge\">\n",
       "<title>21&#45;&gt;22</title>\n",
       "<path fill=\"none\" stroke=\"#000000\" d=\"M1329.6738,-85.9947C1327.3998,-77.5354 1324.9346,-68.365 1322.6234,-59.7672\"/>\n",
       "<polygon fill=\"#000000\" stroke=\"#000000\" points=\"1325.9776,-58.7626 1320.0015,-50.014 1319.2176,-60.5798 1325.9776,-58.7626\"/>\n",
       "</g>\n",
       "<!-- 23 -->\n",
       "<g id=\"node24\" class=\"node\">\n",
       "<title>23</title>\n",
       "<path fill=\"#e58139\" fill-opacity=\"0.945098\" stroke=\"#000000\" d=\"M1483.6187,-50C1483.6187,-50 1402.936,-50 1402.936,-50 1396.936,-50 1390.936,-44 1390.936,-38 1390.936,-38 1390.936,-12 1390.936,-12 1390.936,-6 1396.936,0 1402.936,0 1402.936,0 1483.6187,0 1483.6187,0 1489.6187,0 1495.6187,-6 1495.6187,-12 1495.6187,-12 1495.6187,-38 1495.6187,-38 1495.6187,-44 1489.6187,-50 1483.6187,-50\"/>\n",
       "<text text-anchor=\"start\" x=\"1414.6724\" y=\"-34.8\" font-family=\"Helvetica,sans-Serif\" font-size=\"14.00\" fill=\"#000000\">gini = 0.1</text>\n",
       "<text text-anchor=\"start\" x=\"1401.4482\" y=\"-20.8\" font-family=\"Helvetica,sans-Serif\" font-size=\"14.00\" fill=\"#000000\">samples = 19</text>\n",
       "<text text-anchor=\"start\" x=\"1399.1069\" y=\"-6.8\" font-family=\"Helvetica,sans-Serif\" font-size=\"14.00\" fill=\"#000000\">value = [18, 1]</text>\n",
       "</g>\n",
       "<!-- 21&#45;&gt;23 -->\n",
       "<g id=\"edge23\" class=\"edge\">\n",
       "<title>21&#45;&gt;23</title>\n",
       "<path fill=\"none\" stroke=\"#000000\" d=\"M1374.4124,-85.9947C1385.1051,-76.524 1396.8042,-66.1619 1407.4758,-56.7099\"/>\n",
       "<polygon fill=\"#000000\" stroke=\"#000000\" points=\"1409.8704,-59.2645 1415.0357,-50.014 1405.2292,-54.0243 1409.8704,-59.2645\"/>\n",
       "</g>\n",
       "<!-- 25 -->\n",
       "<g id=\"node26\" class=\"node\">\n",
       "<title>25</title>\n",
       "<path fill=\"#399de5\" fill-opacity=\"0.909804\" stroke=\"#000000\" d=\"M1677.1905,-150C1677.1905,-150 1581.3642,-150 1581.3642,-150 1575.3642,-150 1569.3642,-144 1569.3642,-138 1569.3642,-138 1569.3642,-98 1569.3642,-98 1569.3642,-92 1575.3642,-86 1581.3642,-86 1581.3642,-86 1677.1905,-86 1677.1905,-86 1683.1905,-86 1689.1905,-92 1689.1905,-98 1689.1905,-98 1689.1905,-138 1689.1905,-138 1689.1905,-144 1683.1905,-150 1677.1905,-150\"/>\n",
       "<text text-anchor=\"start\" x=\"1578.7495\" y=\"-134.8\" font-family=\"Helvetica,sans-Serif\" font-size=\"14.00\" fill=\"#000000\">citric acid ≤ 0.76</text>\n",
       "<text text-anchor=\"start\" x=\"1592.8862\" y=\"-120.8\" font-family=\"Helvetica,sans-Serif\" font-size=\"14.00\" fill=\"#000000\">gini = 0.151</text>\n",
       "<text text-anchor=\"start\" x=\"1583.5552\" y=\"-106.8\" font-family=\"Helvetica,sans-Serif\" font-size=\"14.00\" fill=\"#000000\">samples = 158</text>\n",
       "<text text-anchor=\"start\" x=\"1577.3208\" y=\"-92.8\" font-family=\"Helvetica,sans-Serif\" font-size=\"14.00\" fill=\"#000000\">value = [13, 145]</text>\n",
       "</g>\n",
       "<!-- 24&#45;&gt;25 -->\n",
       "<g id=\"edge25\" class=\"edge\">\n",
       "<title>24&#45;&gt;25</title>\n",
       "<path fill=\"none\" stroke=\"#000000\" d=\"M1629.2773,-185.8089C1629.2773,-177.6906 1629.2773,-168.8517 1629.2773,-160.3186\"/>\n",
       "<polygon fill=\"#000000\" stroke=\"#000000\" points=\"1632.7774,-160.1307 1629.2773,-150.1308 1625.7774,-160.1308 1632.7774,-160.1307\"/>\n",
       "</g>\n",
       "<!-- 28 -->\n",
       "<g id=\"node29\" class=\"node\">\n",
       "<title>28</title>\n",
       "<path fill=\"#e58139\" fill-opacity=\"0.498039\" stroke=\"#000000\" d=\"M1853.3213,-150C1853.3213,-150 1775.2334,-150 1775.2334,-150 1769.2334,-150 1763.2334,-144 1763.2334,-138 1763.2334,-138 1763.2334,-98 1763.2334,-98 1763.2334,-92 1769.2334,-86 1775.2334,-86 1775.2334,-86 1853.3213,-86 1853.3213,-86 1859.3213,-86 1865.3213,-92 1865.3213,-98 1865.3213,-98 1865.3213,-138 1865.3213,-138 1865.3213,-144 1859.3213,-150 1853.3213,-150\"/>\n",
       "<text text-anchor=\"start\" x=\"1771.2554\" y=\"-134.8\" font-family=\"Helvetica,sans-Serif\" font-size=\"14.00\" fill=\"#000000\">alcohol ≤ 11.7</text>\n",
       "<text text-anchor=\"start\" x=\"1777.8862\" y=\"-120.8\" font-family=\"Helvetica,sans-Serif\" font-size=\"14.00\" fill=\"#000000\">gini = 0.444</text>\n",
       "<text text-anchor=\"start\" x=\"1776.3413\" y=\"-106.8\" font-family=\"Helvetica,sans-Serif\" font-size=\"14.00\" fill=\"#000000\">samples = 3</text>\n",
       "<text text-anchor=\"start\" x=\"1774\" y=\"-92.8\" font-family=\"Helvetica,sans-Serif\" font-size=\"14.00\" fill=\"#000000\">value = [2, 1]</text>\n",
       "</g>\n",
       "<!-- 24&#45;&gt;28 -->\n",
       "<g id=\"edge28\" class=\"edge\">\n",
       "<title>24&#45;&gt;28</title>\n",
       "<path fill=\"none\" stroke=\"#000000\" d=\"M1688.5759,-185.9467C1709.5679,-174.5997 1733.1904,-161.8308 1754.2432,-150.4509\"/>\n",
       "<polygon fill=\"#000000\" stroke=\"#000000\" points=\"1755.9605,-153.5013 1763.0933,-145.6671 1752.6319,-147.3433 1755.9605,-153.5013\"/>\n",
       "</g>\n",
       "<!-- 26 -->\n",
       "<g id=\"node27\" class=\"node\">\n",
       "<title>26</title>\n",
       "<path fill=\"#399de5\" fill-opacity=\"0.917647\" stroke=\"#000000\" d=\"M1621.1905,-50C1621.1905,-50 1525.3642,-50 1525.3642,-50 1519.3642,-50 1513.3642,-44 1513.3642,-38 1513.3642,-38 1513.3642,-12 1513.3642,-12 1513.3642,-6 1519.3642,0 1525.3642,0 1525.3642,0 1621.1905,0 1621.1905,0 1627.1905,0 1633.1905,-6 1633.1905,-12 1633.1905,-12 1633.1905,-38 1633.1905,-38 1633.1905,-44 1627.1905,-50 1621.1905,-50\"/>\n",
       "<text text-anchor=\"start\" x=\"1536.8862\" y=\"-34.8\" font-family=\"Helvetica,sans-Serif\" font-size=\"14.00\" fill=\"#000000\">gini = 0.141</text>\n",
       "<text text-anchor=\"start\" x=\"1527.5552\" y=\"-20.8\" font-family=\"Helvetica,sans-Serif\" font-size=\"14.00\" fill=\"#000000\">samples = 157</text>\n",
       "<text text-anchor=\"start\" x=\"1521.3208\" y=\"-6.8\" font-family=\"Helvetica,sans-Serif\" font-size=\"14.00\" fill=\"#000000\">value = [12, 145]</text>\n",
       "</g>\n",
       "<!-- 25&#45;&gt;26 -->\n",
       "<g id=\"edge26\" class=\"edge\">\n",
       "<title>25&#45;&gt;26</title>\n",
       "<path fill=\"none\" stroke=\"#000000\" d=\"M1610.0053,-85.9947C1604.6901,-77.1676 1598.9086,-67.5662 1593.5392,-58.6491\"/>\n",
       "<polygon fill=\"#000000\" stroke=\"#000000\" points=\"1596.4965,-56.7753 1588.3396,-50.014 1590.4997,-60.3863 1596.4965,-56.7753\"/>\n",
       "</g>\n",
       "<!-- 27 -->\n",
       "<g id=\"node28\" class=\"node\">\n",
       "<title>27</title>\n",
       "<path fill=\"#e58139\" stroke=\"#000000\" d=\"M1735.3331,-50C1735.3331,-50 1663.2216,-50 1663.2216,-50 1657.2216,-50 1651.2216,-44 1651.2216,-38 1651.2216,-38 1651.2216,-12 1651.2216,-12 1651.2216,-6 1657.2216,0 1663.2216,0 1663.2216,0 1735.3331,0 1735.3331,0 1741.3331,0 1747.3331,-6 1747.3331,-12 1747.3331,-12 1747.3331,-38 1747.3331,-38 1747.3331,-44 1741.3331,-50 1735.3331,-50\"/>\n",
       "<text text-anchor=\"start\" x=\"1670.6724\" y=\"-34.8\" font-family=\"Helvetica,sans-Serif\" font-size=\"14.00\" fill=\"#000000\">gini = 0.0</text>\n",
       "<text text-anchor=\"start\" x=\"1661.3413\" y=\"-20.8\" font-family=\"Helvetica,sans-Serif\" font-size=\"14.00\" fill=\"#000000\">samples = 1</text>\n",
       "<text text-anchor=\"start\" x=\"1659\" y=\"-6.8\" font-family=\"Helvetica,sans-Serif\" font-size=\"14.00\" fill=\"#000000\">value = [1, 0]</text>\n",
       "</g>\n",
       "<!-- 25&#45;&gt;27 -->\n",
       "<g id=\"edge27\" class=\"edge\">\n",
       "<title>25&#45;&gt;27</title>\n",
       "<path fill=\"none\" stroke=\"#000000\" d=\"M1653.3674,-85.9947C1660.1498,-76.9837 1667.5396,-67.1658 1674.3689,-58.0927\"/>\n",
       "<polygon fill=\"#000000\" stroke=\"#000000\" points=\"1677.2322,-60.1086 1680.4496,-50.014 1671.6394,-55.8989 1677.2322,-60.1086\"/>\n",
       "</g>\n",
       "<!-- 29 -->\n",
       "<g id=\"node30\" class=\"node\">\n",
       "<title>29</title>\n",
       "<path fill=\"#e58139\" stroke=\"#000000\" d=\"M1850.3331,-50C1850.3331,-50 1778.2216,-50 1778.2216,-50 1772.2216,-50 1766.2216,-44 1766.2216,-38 1766.2216,-38 1766.2216,-12 1766.2216,-12 1766.2216,-6 1772.2216,0 1778.2216,0 1778.2216,0 1850.3331,0 1850.3331,0 1856.3331,0 1862.3331,-6 1862.3331,-12 1862.3331,-12 1862.3331,-38 1862.3331,-38 1862.3331,-44 1856.3331,-50 1850.3331,-50\"/>\n",
       "<text text-anchor=\"start\" x=\"1785.6724\" y=\"-34.8\" font-family=\"Helvetica,sans-Serif\" font-size=\"14.00\" fill=\"#000000\">gini = 0.0</text>\n",
       "<text text-anchor=\"start\" x=\"1776.3413\" y=\"-20.8\" font-family=\"Helvetica,sans-Serif\" font-size=\"14.00\" fill=\"#000000\">samples = 2</text>\n",
       "<text text-anchor=\"start\" x=\"1774\" y=\"-6.8\" font-family=\"Helvetica,sans-Serif\" font-size=\"14.00\" fill=\"#000000\">value = [2, 0]</text>\n",
       "</g>\n",
       "<!-- 28&#45;&gt;29 -->\n",
       "<g id=\"edge29\" class=\"edge\">\n",
       "<title>28&#45;&gt;29</title>\n",
       "<path fill=\"none\" stroke=\"#000000\" d=\"M1814.2773,-85.9947C1814.2773,-77.6273 1814.2773,-68.5643 1814.2773,-60.0478\"/>\n",
       "<polygon fill=\"#000000\" stroke=\"#000000\" points=\"1817.7774,-60.014 1814.2773,-50.014 1810.7774,-60.0141 1817.7774,-60.014\"/>\n",
       "</g>\n",
       "<!-- 30 -->\n",
       "<g id=\"node31\" class=\"node\">\n",
       "<title>30</title>\n",
       "<path fill=\"#399de5\" stroke=\"#000000\" d=\"M1965.3331,-50C1965.3331,-50 1893.2216,-50 1893.2216,-50 1887.2216,-50 1881.2216,-44 1881.2216,-38 1881.2216,-38 1881.2216,-12 1881.2216,-12 1881.2216,-6 1887.2216,0 1893.2216,0 1893.2216,0 1965.3331,0 1965.3331,0 1971.3331,0 1977.3331,-6 1977.3331,-12 1977.3331,-12 1977.3331,-38 1977.3331,-38 1977.3331,-44 1971.3331,-50 1965.3331,-50\"/>\n",
       "<text text-anchor=\"start\" x=\"1900.6724\" y=\"-34.8\" font-family=\"Helvetica,sans-Serif\" font-size=\"14.00\" fill=\"#000000\">gini = 0.0</text>\n",
       "<text text-anchor=\"start\" x=\"1891.3413\" y=\"-20.8\" font-family=\"Helvetica,sans-Serif\" font-size=\"14.00\" fill=\"#000000\">samples = 1</text>\n",
       "<text text-anchor=\"start\" x=\"1889\" y=\"-6.8\" font-family=\"Helvetica,sans-Serif\" font-size=\"14.00\" fill=\"#000000\">value = [0, 1]</text>\n",
       "</g>\n",
       "<!-- 28&#45;&gt;30 -->\n",
       "<g id=\"edge30\" class=\"edge\">\n",
       "<title>28&#45;&gt;30</title>\n",
       "<path fill=\"none\" stroke=\"#000000\" d=\"M1853.8538,-85.9947C1865.6786,-76.432 1878.6271,-65.9606 1890.4062,-56.4349\"/>\n",
       "<polygon fill=\"#000000\" stroke=\"#000000\" points=\"1892.7712,-59.0236 1898.346,-50.014 1888.3696,-53.5807 1892.7712,-59.0236\"/>\n",
       "</g>\n",
       "</g>\n",
       "</svg>\n"
      ],
      "text/plain": [
       "<graphviz.files.Source at 0x118856d68>"
      ]
     },
     "execution_count": 44,
     "metadata": {},
     "output_type": "execute_result"
    }
   ],
   "source": [
    "# Fit a single decision tree to see splits\n",
    "from sklearn import tree\n",
    "import graphviz\n",
    "\n",
    "dt = tree.DecisionTreeClassifier(max_depth=4)\n",
    "\n",
    "dt.fit(X_train, y_train)\n",
    "\n",
    "dot_data = tree.export_graphviz(dt, out_file=None, \n",
    "                         feature_names=list(reds.drop(['label','quality'], axis=1)),  \n",
    "                         filled=True, rounded=True,  \n",
    "                         special_characters=True)\n",
    "\n",
    "graph = graphviz.Source(dot_data) \n",
    "graph"
   ]
  },
  {
   "cell_type": "markdown",
   "metadata": {},
   "source": [
    "The three most important features appear to be alcohol, total sulfur dioxide, and sulphates."
   ]
  },
  {
   "cell_type": "code",
   "execution_count": 45,
   "metadata": {
    "collapsed": false
   },
   "outputs": [
    {
     "data": {
      "text/html": [
       "<div>\n",
       "<style>\n",
       "    .dataframe thead tr:only-child th {\n",
       "        text-align: right;\n",
       "    }\n",
       "\n",
       "    .dataframe thead th {\n",
       "        text-align: left;\n",
       "    }\n",
       "\n",
       "    .dataframe tbody tr th {\n",
       "        vertical-align: top;\n",
       "    }\n",
       "</style>\n",
       "<table border=\"1\" class=\"dataframe\">\n",
       "  <thead>\n",
       "    <tr style=\"text-align: right;\">\n",
       "      <th></th>\n",
       "      <th>label</th>\n",
       "      <th>predictions</th>\n",
       "      <th>quality</th>\n",
       "    </tr>\n",
       "  </thead>\n",
       "  <tbody>\n",
       "    <tr>\n",
       "      <th>0</th>\n",
       "      <td>0</td>\n",
       "      <td>0</td>\n",
       "      <td>5</td>\n",
       "    </tr>\n",
       "    <tr>\n",
       "      <th>1</th>\n",
       "      <td>1</td>\n",
       "      <td>0</td>\n",
       "      <td>7</td>\n",
       "    </tr>\n",
       "    <tr>\n",
       "      <th>2</th>\n",
       "      <td>0</td>\n",
       "      <td>0</td>\n",
       "      <td>5</td>\n",
       "    </tr>\n",
       "    <tr>\n",
       "      <th>3</th>\n",
       "      <td>1</td>\n",
       "      <td>1</td>\n",
       "      <td>7</td>\n",
       "    </tr>\n",
       "    <tr>\n",
       "      <th>4</th>\n",
       "      <td>0</td>\n",
       "      <td>0</td>\n",
       "      <td>4</td>\n",
       "    </tr>\n",
       "  </tbody>\n",
       "</table>\n",
       "</div>"
      ],
      "text/plain": [
       "   label  predictions  quality\n",
       "0      0            0        5\n",
       "1      1            0        7\n",
       "2      0            0        5\n",
       "3      1            1        7\n",
       "4      0            0        4"
      ]
     },
     "execution_count": 45,
     "metadata": {},
     "output_type": "execute_result"
    }
   ],
   "source": [
    "# See what the actual quality is for predictions that are wrong\n",
    "\n",
    "compare = pd.DataFrame({'quality': test_quality,'predictions': predictions, 'label': y_test})\n",
    "compare.head()"
   ]
  },
  {
   "cell_type": "code",
   "execution_count": 46,
   "metadata": {
    "collapsed": false
   },
   "outputs": [
    {
     "data": {
      "text/html": [
       "<div>\n",
       "<style>\n",
       "    .dataframe thead tr:only-child th {\n",
       "        text-align: right;\n",
       "    }\n",
       "\n",
       "    .dataframe thead th {\n",
       "        text-align: left;\n",
       "    }\n",
       "\n",
       "    .dataframe tbody tr th {\n",
       "        vertical-align: top;\n",
       "    }\n",
       "</style>\n",
       "<table border=\"1\" class=\"dataframe\">\n",
       "  <thead>\n",
       "    <tr style=\"text-align: right;\">\n",
       "      <th></th>\n",
       "      <th>label</th>\n",
       "      <th>predictions</th>\n",
       "      <th>quality</th>\n",
       "    </tr>\n",
       "  </thead>\n",
       "  <tbody>\n",
       "    <tr>\n",
       "      <th>1</th>\n",
       "      <td>1</td>\n",
       "      <td>0</td>\n",
       "      <td>7</td>\n",
       "    </tr>\n",
       "    <tr>\n",
       "      <th>5</th>\n",
       "      <td>1</td>\n",
       "      <td>0</td>\n",
       "      <td>6</td>\n",
       "    </tr>\n",
       "    <tr>\n",
       "      <th>11</th>\n",
       "      <td>0</td>\n",
       "      <td>1</td>\n",
       "      <td>4</td>\n",
       "    </tr>\n",
       "    <tr>\n",
       "      <th>22</th>\n",
       "      <td>0</td>\n",
       "      <td>1</td>\n",
       "      <td>5</td>\n",
       "    </tr>\n",
       "    <tr>\n",
       "      <th>31</th>\n",
       "      <td>1</td>\n",
       "      <td>0</td>\n",
       "      <td>6</td>\n",
       "    </tr>\n",
       "  </tbody>\n",
       "</table>\n",
       "</div>"
      ],
      "text/plain": [
       "    label  predictions  quality\n",
       "1       1            0        7\n",
       "5       1            0        6\n",
       "11      0            1        4\n",
       "22      0            1        5\n",
       "31      1            0        6"
      ]
     },
     "execution_count": 46,
     "metadata": {},
     "output_type": "execute_result"
    }
   ],
   "source": [
    "wrong = compare[compare['label']!=compare['predictions']]\n",
    "wrong.head()"
   ]
  },
  {
   "cell_type": "code",
   "execution_count": 47,
   "metadata": {
    "collapsed": false
   },
   "outputs": [
    {
     "data": {
      "image/png": "[encoded data removed]",
      "text/plain": [
       "<matplotlib.figure.Figure at 0x118a0de48>"
      ]
     },
     "metadata": {},
     "output_type": "display_data"
    }
   ],
   "source": [
    "plt.figure()\n",
    "plt.hist(wrong['quality'])\n",
    "\n",
    "\n",
    "# Set the title and labels\n",
    "plt.title('Distribution of Wine Quality among incorrect predictions')\n",
    "plt.xlabel('Quality')\n",
    "plt.ylabel('Frequency')\n",
    "\n",
    "plt.show()"
   ]
  },
  {
   "cell_type": "code",
   "execution_count": 48,
   "metadata": {
    "collapsed": false
   },
   "outputs": [
    {
     "data": {
      "image/png": "[encoded data removed]",
      "text/plain": [
       "<matplotlib.figure.Figure at 0x118caae10>"
      ]
     },
     "metadata": {},
     "output_type": "display_data"
    }
   ],
   "source": [
    "plt.figure()\n",
    "plt.hist(wrong['predictions'])\n",
    "\n",
    "\n",
    "# Set the title and labels\n",
    "plt.title('Distribution of Wrong Labels')\n",
    "plt.xlabel('Label')\n",
    "plt.ylabel('Frequency')\n",
    "\n",
    "plt.show()"
   ]
  },
  {
   "cell_type": "markdown",
   "metadata": {},
   "source": [
    "The majority of the wrong predictions have a quality of 5 or 6. This means that most of the wrong predictions are average quality. If I had more time, I would create more features to see if combinations of features provide more information than the features we have available. "
   ]
  },
  {
   "cell_type": "markdown",
   "metadata": {},
   "source": [
    "### Whites"
   ]
  },
  {
   "cell_type": "code",
   "execution_count": 49,
   "metadata": {
    "collapsed": false
   },
   "outputs": [],
   "source": [
    "# X_whites = whites.drop(['label','quality'], axis=1).values\n",
    "# y_whites = whites['label'].values\n",
    "\n",
    "# X_train, X_test, y_train, y_test = cross_validation.train_test_split(X_whites,y_whites,test_size=0.33)\n",
    "\n",
    "msk = np.random.rand(len(whites)) < 0.66\n",
    "train = whites[msk]\n",
    "test = whites[~msk]\n",
    "X_train = train.drop(['label','quality'], axis=1).values\n",
    "X_test = test.drop(['label','quality'], axis=1).values\n",
    "y_train = train['label'].values\n",
    "y_test = test['label'].values\n",
    "test_quality = test['quality'].values"
   ]
  },
  {
   "cell_type": "code",
   "execution_count": 50,
   "metadata": {
    "collapsed": false
   },
   "outputs": [
    {
     "name": "stdout",
     "output_type": "stream",
     "text": [
      "test score:  0.860465116279\n",
      "train score:  0.987170596394\n"
     ]
    }
   ],
   "source": [
    "rf_model = RandomForestClassifier()\n",
    "rf_model.fit(X_train, y_train)\n",
    "test_score = rf_model.score(X_test, y_test)\n",
    "print(\"test score: \",test_score)\n",
    "train_score = rf_model.score(X_train, y_train)\n",
    "print(\"train score: \",train_score)"
   ]
  },
  {
   "cell_type": "code",
   "execution_count": 51,
   "metadata": {
    "collapsed": false
   },
   "outputs": [
    {
     "data": {
      "text/plain": [
       "array([[1108,   48],\n",
       "       [ 156,  150]])"
      ]
     },
     "execution_count": 51,
     "metadata": {},
     "output_type": "execute_result"
    }
   ],
   "source": [
    "# Let's take a look at how well the model is performing.\n",
    "\n",
    "# Confusion Matrix\n",
    "predictions = rf_model.predict(X_test)\n",
    "confusion_matrix(y_test, predictions)"
   ]
  },
  {
   "cell_type": "code",
   "execution_count": 52,
   "metadata": {
    "collapsed": false
   },
   "outputs": [
    {
     "name": "stdout",
     "output_type": "stream",
     "text": [
      "Feature ranking:\n",
      "10. alcohol (0.149618)\n",
      "7. density (0.147169)\n",
      "4. chlorides (0.094107)\n",
      "9. sulphates (0.080086)\n",
      "1. volatile acidity (0.079913)\n",
      "6. total sulfur dioxide (0.079325)\n",
      "5. free sulfur dioxide (0.078219)\n",
      "8. pH (0.078196)\n",
      "2. citric acid (0.069832)\n",
      "0. fixed acidity (0.060794)\n",
      "3. astringency rating (0.056382)\n",
      "11. age (0.026359)\n"
     ]
    },
    {
     "data": {
      "image/png": "[encoded data removed]",
      "text/plain": [
       "<matplotlib.figure.Figure at 0x11a38c240>"
      ]
     },
     "metadata": {},
     "output_type": "display_data"
    }
   ],
   "source": [
    "# Print the feature ranking\n",
    "importances = rf_model.feature_importances_\n",
    "indices = np.argsort(importances)[::-1]\n",
    "std = np.std([rf_model.feature_importances_ for tree in rf_model.estimators_],\n",
    "             axis=0)\n",
    "\n",
    "print(\"Feature ranking:\")\n",
    "\n",
    "for f in range(X_train.shape[1]):\n",
    "    print(\"%d. %s (%f)\" % (indices[f], list(whites.drop(['label','quality'], axis=1))[indices[f]], importances[indices[f]]))\n",
    "\n",
    "# Plot the feature importances of the forest\n",
    "plt.figure()\n",
    "plt.title(\"Feature importances\")\n",
    "plt.bar(indices, importances,\n",
    "       color=\"r\", yerr=std[indices], align=\"center\")\n",
    "plt.xticks(range(X_train.shape[1]), indices)\n",
    "plt.xlim([-1, X_train.shape[1]])\n",
    "plt.show()"
   ]
  },
  {
   "cell_type": "markdown",
   "metadata": {},
   "source": [
    "Again, alcohol seems to be the most important feature. It is given almost double the weight of half of the features. Let's see what happens if we remove that feature. "
   ]
  },
  {
   "cell_type": "code",
   "execution_count": 54,
   "metadata": {
    "collapsed": false
   },
   "outputs": [],
   "source": [
    "X_whites_ = whites.drop(['label','quality','alcohol'], axis=1).values\n",
    "y_whites = whites['label'].values\n",
    "\n",
    "X_train_, X_test_, y_train_, y_test_ = cross_validation.train_test_split(X_whites_,y_whites,test_size=0.33)"
   ]
  },
  {
   "cell_type": "code",
   "execution_count": 56,
   "metadata": {
    "collapsed": false
   },
   "outputs": [
    {
     "name": "stdout",
     "output_type": "stream",
     "text": [
      "test score:  0.842508710801\n",
      "train score:  0.99141188595\n"
     ]
    }
   ],
   "source": [
    "rf_model_ = RandomForestClassifier()\n",
    "rf_model_.fit(X_train_, y_train_)\n",
    "test_score_ = rf_model_.score(X_test_, y_test_)\n",
    "print(\"test score: \",test_score_)\n",
    "train_score_ = rf_model_.score(X_train_, y_train_)\n",
    "print(\"train score: \",train_score_)"
   ]
  },
  {
   "cell_type": "code",
   "execution_count": 57,
   "metadata": {
    "collapsed": false
   },
   "outputs": [
    {
     "data": {
      "text/plain": [
       "array([[1073,   56],\n",
       "       [ 170,  136]])"
      ]
     },
     "execution_count": 57,
     "metadata": {},
     "output_type": "execute_result"
    }
   ],
   "source": [
    "# Let's take a look at how well the model is performing.\n",
    "\n",
    "# Confusion Matrix\n",
    "predictions_ = rf_model_.predict(X_test_)\n",
    "confusion_matrix(y_test_, predictions_)"
   ]
  },
  {
   "cell_type": "markdown",
   "metadata": {},
   "source": [
    "Removing alcohol improves accuracy, but increases the rate of false positives to almost the same number of true positives."
   ]
  },
  {
   "cell_type": "code",
   "execution_count": 58,
   "metadata": {
    "collapsed": false
   },
   "outputs": [
    {
     "data": {
      "image/svg+xml": [
       "<?xml version=\"1.0\" encoding=\"UTF-8\" standalone=\"no\"?>\n",
       "<!DOCTYPE svg PUBLIC \"-//W3C//DTD SVG 1.1//EN\"\n",
       " \"http://www.w3.org/Graphics/SVG/1.1/DTD/svg11.dtd\">\n",
       "<!-- Generated by graphviz version 2.40.1 (20161225.0304)\n",
       " -->\n",
       "<!-- Title: Tree Pages: 1 -->\n",
       "<svg width=\"2076pt\" height=\"458pt\"\n",
       " viewBox=\"0.00 0.00 2076.02 458.00\" xmlns=\"http://www.w3.org/2000/svg\" xmlns:xlink=\"http://www.w3.org/1999/xlink\">\n",
       "<g id=\"graph0\" class=\"graph\" transform=\"scale(1 1) rotate(0) translate(4 454)\">\n",
       "<title>Tree</title>\n",
       "<polygon fill=\"#ffffff\" stroke=\"transparent\" points=\"-4,4 -4,-454 2072.02,-454 2072.02,4 -4,4\"/>\n",
       "<!-- 0 -->\n",
       "<g id=\"node1\" class=\"node\">\n",
       "<title>0</title>\n",
       "<path fill=\"#e58139\" fill-opacity=\"0.713725\" stroke=\"#000000\" d=\"M1120.9428,-450C1120.9428,-450 1008.9703,-450 1008.9703,-450 1002.9703,-450 996.9703,-444 996.9703,-438 996.9703,-438 996.9703,-398 996.9703,-398 996.9703,-392 1002.9703,-386 1008.9703,-386 1008.9703,-386 1120.9428,-386 1120.9428,-386 1126.9428,-386 1132.9428,-392 1132.9428,-398 1132.9428,-398 1132.9428,-438 1132.9428,-438 1132.9428,-444 1126.9428,-450 1120.9428,-450\"/>\n",
       "<text text-anchor=\"start\" x=\"1017.5254\" y=\"-434.8\" font-family=\"Helvetica,sans-Serif\" font-size=\"14.00\" fill=\"#000000\">alcohol ≤ 10.95</text>\n",
       "<text text-anchor=\"start\" x=\"1028.5654\" y=\"-420.8\" font-family=\"Helvetica,sans-Serif\" font-size=\"14.00\" fill=\"#000000\">gini = 0.346</text>\n",
       "<text text-anchor=\"start\" x=\"1015.3413\" y=\"-406.8\" font-family=\"Helvetica,sans-Serif\" font-size=\"14.00\" fill=\"#000000\">samples = 2884</text>\n",
       "<text text-anchor=\"start\" x=\"1005.2139\" y=\"-392.8\" font-family=\"Helvetica,sans-Serif\" font-size=\"14.00\" fill=\"#000000\">value = [2243, 641]</text>\n",
       "</g>\n",
       "<!-- 1 -->\n",
       "<g id=\"node2\" class=\"node\">\n",
       "<title>1</title>\n",
       "<path fill=\"#e58139\" fill-opacity=\"0.878431\" stroke=\"#000000\" d=\"M866.6054,-350C866.6054,-350 737.3077,-350 737.3077,-350 731.3077,-350 725.3077,-344 725.3077,-338 725.3077,-338 725.3077,-298 725.3077,-298 725.3077,-292 731.3077,-286 737.3077,-286 737.3077,-286 866.6054,-286 866.6054,-286 872.6054,-286 878.6054,-292 878.6054,-298 878.6054,-298 878.6054,-338 878.6054,-338 878.6054,-344 872.6054,-350 866.6054,-350\"/>\n",
       "<text text-anchor=\"start\" x=\"733.1323\" y=\"-334.8\" font-family=\"Helvetica,sans-Serif\" font-size=\"14.00\" fill=\"#000000\">volatile acidity ≤ 0.222</text>\n",
       "<text text-anchor=\"start\" x=\"765.5654\" y=\"-320.8\" font-family=\"Helvetica,sans-Serif\" font-size=\"14.00\" fill=\"#000000\">gini = 0.193</text>\n",
       "<text text-anchor=\"start\" x=\"752.3413\" y=\"-306.8\" font-family=\"Helvetica,sans-Serif\" font-size=\"14.00\" fill=\"#000000\">samples = 1842</text>\n",
       "<text text-anchor=\"start\" x=\"742.2139\" y=\"-292.8\" font-family=\"Helvetica,sans-Serif\" font-size=\"14.00\" fill=\"#000000\">value = [1643, 199]</text>\n",
       "</g>\n",
       "<!-- 0&#45;&gt;1 -->\n",
       "<g id=\"edge1\" class=\"edge\">\n",
       "<title>0&#45;&gt;1</title>\n",
       "<path fill=\"none\" stroke=\"#000000\" d=\"M996.8855,-392.1175C963.9142,-379.5809 923.9472,-364.3843 888.807,-351.023\"/>\n",
       "<polygon fill=\"#000000\" stroke=\"#000000\" points=\"889.6246,-347.5894 879.0335,-347.3068 887.1367,-354.1324 889.6246,-347.5894\"/>\n",
       "<text text-anchor=\"middle\" x=\"889.2743\" y=\"-365.9131\" font-family=\"Helvetica,sans-Serif\" font-size=\"14.00\" fill=\"#000000\">True</text>\n",
       "</g>\n",
       "<!-- 16 -->\n",
       "<g id=\"node17\" class=\"node\">\n",
       "<title>16</title>\n",
       "<path fill=\"#e58139\" fill-opacity=\"0.262745\" stroke=\"#000000\" d=\"M1365.6561,-350C1365.6561,-350 1262.257,-350 1262.257,-350 1256.257,-350 1250.257,-344 1250.257,-338 1250.257,-338 1250.257,-298 1250.257,-298 1250.257,-292 1256.257,-286 1262.257,-286 1262.257,-286 1365.6561,-286 1365.6561,-286 1371.6561,-286 1377.6561,-292 1377.6561,-298 1377.6561,-298 1377.6561,-338 1377.6561,-338 1377.6561,-344 1371.6561,-350 1365.6561,-350\"/>\n",
       "<text text-anchor=\"start\" x=\"1262.6323\" y=\"-334.8\" font-family=\"Helvetica,sans-Serif\" font-size=\"14.00\" fill=\"#000000\">alcohol ≤ 12.775</text>\n",
       "<text text-anchor=\"start\" x=\"1277.5654\" y=\"-320.8\" font-family=\"Helvetica,sans-Serif\" font-size=\"14.00\" fill=\"#000000\">gini = 0.489</text>\n",
       "<text text-anchor=\"start\" x=\"1264.3413\" y=\"-306.8\" font-family=\"Helvetica,sans-Serif\" font-size=\"14.00\" fill=\"#000000\">samples = 1042</text>\n",
       "<text text-anchor=\"start\" x=\"1258.1069\" y=\"-292.8\" font-family=\"Helvetica,sans-Serif\" font-size=\"14.00\" fill=\"#000000\">value = [600, 442]</text>\n",
       "</g>\n",
       "<!-- 0&#45;&gt;16 -->\n",
       "<g id=\"edge16\" class=\"edge\">\n",
       "<title>0&#45;&gt;16</title>\n",
       "<path fill=\"none\" stroke=\"#000000\" d=\"M1132.9969,-390.6746C1166.2963,-377.3013 1206.4324,-361.1824 1240.4358,-347.5264\"/>\n",
       "<polygon fill=\"#000000\" stroke=\"#000000\" points=\"1241.8778,-350.719 1249.8531,-343.7444 1239.2691,-344.2233 1241.8778,-350.719\"/>\n",
       "<text text-anchor=\"middle\" x=\"1240.0369\" y=\"-362.5366\" font-family=\"Helvetica,sans-Serif\" font-size=\"14.00\" fill=\"#000000\">False</text>\n",
       "</g>\n",
       "<!-- 2 -->\n",
       "<g id=\"node3\" class=\"node\">\n",
       "<title>2</title>\n",
       "<path fill=\"#e58139\" fill-opacity=\"0.705882\" stroke=\"#000000\" d=\"M459.6561,-250C459.6561,-250 356.257,-250 356.257,-250 350.257,-250 344.257,-244 344.257,-238 344.257,-238 344.257,-198 344.257,-198 344.257,-192 350.257,-186 356.257,-186 356.257,-186 459.6561,-186 459.6561,-186 465.6561,-186 471.6561,-192 471.6561,-198 471.6561,-198 471.6561,-238 471.6561,-238 471.6561,-244 465.6561,-250 459.6561,-250\"/>\n",
       "<text text-anchor=\"start\" x=\"360.5288\" y=\"-234.8\" font-family=\"Helvetica,sans-Serif\" font-size=\"14.00\" fill=\"#000000\">density ≤ 0.998</text>\n",
       "<text text-anchor=\"start\" x=\"371.5654\" y=\"-220.8\" font-family=\"Helvetica,sans-Serif\" font-size=\"14.00\" fill=\"#000000\">gini = 0.351</text>\n",
       "<text text-anchor=\"start\" x=\"362.2344\" y=\"-206.8\" font-family=\"Helvetica,sans-Serif\" font-size=\"14.00\" fill=\"#000000\">samples = 594</text>\n",
       "<text text-anchor=\"start\" x=\"352.1069\" y=\"-192.8\" font-family=\"Helvetica,sans-Serif\" font-size=\"14.00\" fill=\"#000000\">value = [459, 135]</text>\n",
       "</g>\n",
       "<!-- 1&#45;&gt;2 -->\n",
       "<g id=\"edge2\" class=\"edge\">\n",
       "<title>1&#45;&gt;2</title>\n",
       "<path fill=\"none\" stroke=\"#000000\" d=\"M725.0541,-298.4816C654.6155,-280.6038 551.0517,-254.3186 481.6443,-236.7025\"/>\n",
       "<polygon fill=\"#000000\" stroke=\"#000000\" points=\"482.2134,-233.236 471.6597,-234.1683 480.4913,-240.0209 482.2134,-233.236\"/>\n",
       "</g>\n",
       "<!-- 9 -->\n",
       "<g id=\"node10\" class=\"node\">\n",
       "<title>9</title>\n",
       "<path fill=\"#e58139\" fill-opacity=\"0.945098\" stroke=\"#000000\" d=\"M853.124,-250C853.124,-250 750.7891,-250 750.7891,-250 744.7891,-250 738.7891,-244 738.7891,-238 738.7891,-238 738.7891,-198 738.7891,-198 738.7891,-192 744.7891,-186 750.7891,-186 750.7891,-186 853.124,-186 853.124,-186 859.124,-186 865.124,-192 865.124,-198 865.124,-198 865.124,-238 865.124,-238 865.124,-244 859.124,-250 853.124,-250\"/>\n",
       "<text text-anchor=\"start\" x=\"754.5254\" y=\"-234.8\" font-family=\"Helvetica,sans-Serif\" font-size=\"14.00\" fill=\"#000000\">alcohol ≤ 10.15</text>\n",
       "<text text-anchor=\"start\" x=\"765.5654\" y=\"-220.8\" font-family=\"Helvetica,sans-Serif\" font-size=\"14.00\" fill=\"#000000\">gini = 0.097</text>\n",
       "<text text-anchor=\"start\" x=\"752.3413\" y=\"-206.8\" font-family=\"Helvetica,sans-Serif\" font-size=\"14.00\" fill=\"#000000\">samples = 1248</text>\n",
       "<text text-anchor=\"start\" x=\"746.623\" y=\"-192.8\" font-family=\"Helvetica,sans-Serif\" font-size=\"14.00\" fill=\"#000000\">value = [1184, 64]</text>\n",
       "</g>\n",
       "<!-- 1&#45;&gt;9 -->\n",
       "<g id=\"edge9\" class=\"edge\">\n",
       "<title>1&#45;&gt;9</title>\n",
       "<path fill=\"none\" stroke=\"#000000\" d=\"M801.9565,-285.8089C801.9565,-277.6906 801.9565,-268.8517 801.9565,-260.3186\"/>\n",
       "<polygon fill=\"#000000\" stroke=\"#000000\" points=\"805.4566,-260.1307 801.9565,-250.1308 798.4566,-260.1308 805.4566,-260.1307\"/>\n",
       "</g>\n",
       "<!-- 3 -->\n",
       "<g id=\"node4\" class=\"node\">\n",
       "<title>3</title>\n",
       "<path fill=\"#e58139\" fill-opacity=\"0.760784\" stroke=\"#000000\" d=\"M246.9819,-150C246.9819,-150 148.9312,-150 148.9312,-150 142.9312,-150 136.9312,-144 136.9312,-138 136.9312,-138 136.9312,-98 136.9312,-98 136.9312,-92 142.9312,-86 148.9312,-86 148.9312,-86 246.9819,-86 246.9819,-86 252.9819,-86 258.9819,-92 258.9819,-98 258.9819,-98 258.9819,-138 258.9819,-138 258.9819,-144 252.9819,-150 246.9819,-150\"/>\n",
       "<text text-anchor=\"start\" x=\"144.6943\" y=\"-134.8\" font-family=\"Helvetica,sans-Serif\" font-size=\"14.00\" fill=\"#000000\">chlorides ≤ 0.039</text>\n",
       "<text text-anchor=\"start\" x=\"162.0815\" y=\"-120.8\" font-family=\"Helvetica,sans-Serif\" font-size=\"14.00\" fill=\"#000000\">gini = 0.311</text>\n",
       "<text text-anchor=\"start\" x=\"152.2344\" y=\"-106.8\" font-family=\"Helvetica,sans-Serif\" font-size=\"14.00\" fill=\"#000000\">samples = 477</text>\n",
       "<text text-anchor=\"start\" x=\"146\" y=\"-92.8\" font-family=\"Helvetica,sans-Serif\" font-size=\"14.00\" fill=\"#000000\">value = [385, 92]</text>\n",
       "</g>\n",
       "<!-- 2&#45;&gt;3 -->\n",
       "<g id=\"edge3\" class=\"edge\">\n",
       "<title>2&#45;&gt;3</title>\n",
       "<path fill=\"none\" stroke=\"#000000\" d=\"M344.0943,-187.5894C320.1262,-176.176 292.7611,-163.145 268.2419,-151.4692\"/>\n",
       "<polygon fill=\"#000000\" stroke=\"#000000\" points=\"269.5304,-148.2062 258.997,-147.0669 266.5208,-154.5263 269.5304,-148.2062\"/>\n",
       "</g>\n",
       "<!-- 6 -->\n",
       "<g id=\"node7\" class=\"node\">\n",
       "<title>6</title>\n",
       "<path fill=\"#e58139\" fill-opacity=\"0.419608\" stroke=\"#000000\" d=\"M472.6054,-150C472.6054,-150 343.3077,-150 343.3077,-150 337.3077,-150 331.3077,-144 331.3077,-138 331.3077,-138 331.3077,-98 331.3077,-98 331.3077,-92 337.3077,-86 343.3077,-86 343.3077,-86 472.6054,-86 472.6054,-86 478.6054,-86 484.6054,-92 484.6054,-98 484.6054,-98 484.6054,-138 484.6054,-138 484.6054,-144 478.6054,-150 472.6054,-150\"/>\n",
       "<text text-anchor=\"start\" x=\"339.1323\" y=\"-134.8\" font-family=\"Helvetica,sans-Serif\" font-size=\"14.00\" fill=\"#000000\">volatile acidity ≤ 0.195</text>\n",
       "<text text-anchor=\"start\" x=\"371.5654\" y=\"-120.8\" font-family=\"Helvetica,sans-Serif\" font-size=\"14.00\" fill=\"#000000\">gini = 0.465</text>\n",
       "<text text-anchor=\"start\" x=\"362.7505\" y=\"-106.8\" font-family=\"Helvetica,sans-Serif\" font-size=\"14.00\" fill=\"#000000\">samples = 117</text>\n",
       "<text text-anchor=\"start\" x=\"359.8931\" y=\"-92.8\" font-family=\"Helvetica,sans-Serif\" font-size=\"14.00\" fill=\"#000000\">value = [74, 43]</text>\n",
       "</g>\n",
       "<!-- 2&#45;&gt;6 -->\n",
       "<g id=\"edge6\" class=\"edge\">\n",
       "<title>2&#45;&gt;6</title>\n",
       "<path fill=\"none\" stroke=\"#000000\" d=\"M407.9565,-185.8089C407.9565,-177.6906 407.9565,-168.8517 407.9565,-160.3186\"/>\n",
       "<polygon fill=\"#000000\" stroke=\"#000000\" points=\"411.4566,-160.1307 407.9565,-150.1308 404.4566,-160.1308 411.4566,-160.1307\"/>\n",
       "</g>\n",
       "<!-- 4 -->\n",
       "<g id=\"node5\" class=\"node\">\n",
       "<title>4</title>\n",
       "<path fill=\"#e58139\" fill-opacity=\"0.525490\" stroke=\"#000000\" d=\"M107.8697,-50C107.8697,-50 12.0434,-50 12.0434,-50 6.0434,-50 .0434,-44 .0434,-38 .0434,-38 .0434,-12 .0434,-12 .0434,-6 6.0434,0 12.0434,0 12.0434,0 107.8697,0 107.8697,0 113.8697,0 119.8697,-6 119.8697,-12 119.8697,-12 119.8697,-38 119.8697,-38 119.8697,-44 113.8697,-50 107.8697,-50\"/>\n",
       "<text text-anchor=\"start\" x=\"23.5654\" y=\"-34.8\" font-family=\"Helvetica,sans-Serif\" font-size=\"14.00\" fill=\"#000000\">gini = 0.437</text>\n",
       "<text text-anchor=\"start\" x=\"14.2344\" y=\"-20.8\" font-family=\"Helvetica,sans-Serif\" font-size=\"14.00\" fill=\"#000000\">samples = 155</text>\n",
       "<text text-anchor=\"start\" x=\"8\" y=\"-6.8\" font-family=\"Helvetica,sans-Serif\" font-size=\"14.00\" fill=\"#000000\">value = [105, 50]</text>\n",
       "</g>\n",
       "<!-- 3&#45;&gt;4 -->\n",
       "<g id=\"edge4\" class=\"edge\">\n",
       "<title>3&#45;&gt;4</title>\n",
       "<path fill=\"none\" stroke=\"#000000\" d=\"M150.4648,-85.9947C135.8657,-76.1562 119.8393,-65.3558 105.3822,-55.613\"/>\n",
       "<polygon fill=\"#000000\" stroke=\"#000000\" points=\"107.3228,-52.7002 97.0741,-50.014 103.4108,-58.505 107.3228,-52.7002\"/>\n",
       "</g>\n",
       "<!-- 5 -->\n",
       "<g id=\"node6\" class=\"node\">\n",
       "<title>5</title>\n",
       "<path fill=\"#e58139\" fill-opacity=\"0.850980\" stroke=\"#000000\" d=\"M245.8697,-50C245.8697,-50 150.0434,-50 150.0434,-50 144.0434,-50 138.0434,-44 138.0434,-38 138.0434,-38 138.0434,-12 138.0434,-12 138.0434,-6 144.0434,0 150.0434,0 150.0434,0 245.8697,0 245.8697,0 251.8697,0 257.8697,-6 257.8697,-12 257.8697,-12 257.8697,-38 257.8697,-38 257.8697,-44 251.8697,-50 245.8697,-50\"/>\n",
       "<text text-anchor=\"start\" x=\"161.5654\" y=\"-34.8\" font-family=\"Helvetica,sans-Serif\" font-size=\"14.00\" fill=\"#000000\">gini = 0.227</text>\n",
       "<text text-anchor=\"start\" x=\"152.2344\" y=\"-20.8\" font-family=\"Helvetica,sans-Serif\" font-size=\"14.00\" fill=\"#000000\">samples = 322</text>\n",
       "<text text-anchor=\"start\" x=\"146\" y=\"-6.8\" font-family=\"Helvetica,sans-Serif\" font-size=\"14.00\" fill=\"#000000\">value = [280, 42]</text>\n",
       "</g>\n",
       "<!-- 3&#45;&gt;5 -->\n",
       "<g id=\"edge5\" class=\"edge\">\n",
       "<title>3&#45;&gt;5</title>\n",
       "<path fill=\"none\" stroke=\"#000000\" d=\"M197.9565,-85.9947C197.9565,-77.6273 197.9565,-68.5643 197.9565,-60.0478\"/>\n",
       "<polygon fill=\"#000000\" stroke=\"#000000\" points=\"201.4566,-60.014 197.9565,-50.014 194.4566,-60.0141 201.4566,-60.014\"/>\n",
       "</g>\n",
       "<!-- 7 -->\n",
       "<g id=\"node8\" class=\"node\">\n",
       "<title>7</title>\n",
       "<path fill=\"#399de5\" fill-opacity=\"0.419608\" stroke=\"#000000\" d=\"M376.0836,-50C376.0836,-50 287.8295,-50 287.8295,-50 281.8295,-50 275.8295,-44 275.8295,-38 275.8295,-38 275.8295,-12 275.8295,-12 275.8295,-6 281.8295,0 287.8295,0 287.8295,0 376.0836,0 376.0836,0 382.0836,0 388.0836,-6 388.0836,-12 388.0836,-12 388.0836,-38 388.0836,-38 388.0836,-44 382.0836,-50 376.0836,-50\"/>\n",
       "<text text-anchor=\"start\" x=\"295.5654\" y=\"-34.8\" font-family=\"Helvetica,sans-Serif\" font-size=\"14.00\" fill=\"#000000\">gini = 0.465</text>\n",
       "<text text-anchor=\"start\" x=\"290.1274\" y=\"-20.8\" font-family=\"Helvetica,sans-Serif\" font-size=\"14.00\" fill=\"#000000\">samples = 49</text>\n",
       "<text text-anchor=\"start\" x=\"283.8931\" y=\"-6.8\" font-family=\"Helvetica,sans-Serif\" font-size=\"14.00\" fill=\"#000000\">value = [18, 31]</text>\n",
       "</g>\n",
       "<!-- 6&#45;&gt;7 -->\n",
       "<g id=\"edge7\" class=\"edge\">\n",
       "<title>6&#45;&gt;7</title>\n",
       "<path fill=\"none\" stroke=\"#000000\" d=\"M381.8017,-85.9947C374.3627,-76.8917 366.2508,-66.9654 358.7732,-57.8152\"/>\n",
       "<polygon fill=\"#000000\" stroke=\"#000000\" points=\"361.4362,-55.5426 352.3981,-50.014 356.0158,-59.9721 361.4362,-55.5426\"/>\n",
       "</g>\n",
       "<!-- 8 -->\n",
       "<g id=\"node9\" class=\"node\">\n",
       "<title>8</title>\n",
       "<path fill=\"#e58139\" fill-opacity=\"0.784314\" stroke=\"#000000\" d=\"M506.0836,-50C506.0836,-50 417.8295,-50 417.8295,-50 411.8295,-50 405.8295,-44 405.8295,-38 405.8295,-38 405.8295,-12 405.8295,-12 405.8295,-6 411.8295,0 417.8295,0 417.8295,0 506.0836,0 506.0836,0 512.0836,0 518.0836,-6 518.0836,-12 518.0836,-12 518.0836,-38 518.0836,-38 518.0836,-44 512.0836,-50 506.0836,-50\"/>\n",
       "<text text-anchor=\"start\" x=\"425.5654\" y=\"-34.8\" font-family=\"Helvetica,sans-Serif\" font-size=\"14.00\" fill=\"#000000\">gini = 0.291</text>\n",
       "<text text-anchor=\"start\" x=\"420.1274\" y=\"-20.8\" font-family=\"Helvetica,sans-Serif\" font-size=\"14.00\" fill=\"#000000\">samples = 68</text>\n",
       "<text text-anchor=\"start\" x=\"413.8931\" y=\"-6.8\" font-family=\"Helvetica,sans-Serif\" font-size=\"14.00\" fill=\"#000000\">value = [56, 12]</text>\n",
       "</g>\n",
       "<!-- 6&#45;&gt;8 -->\n",
       "<g id=\"edge8\" class=\"edge\">\n",
       "<title>6&#45;&gt;8</title>\n",
       "<path fill=\"none\" stroke=\"#000000\" d=\"M426.5403,-85.9947C431.6123,-77.2595 437.1246,-67.7662 442.2564,-58.928\"/>\n",
       "<polygon fill=\"#000000\" stroke=\"#000000\" points=\"445.4376,-60.4194 447.4323,-50.014 439.3841,-56.9044 445.4376,-60.4194\"/>\n",
       "</g>\n",
       "<!-- 10 -->\n",
       "<g id=\"node11\" class=\"node\">\n",
       "<title>10</title>\n",
       "<path fill=\"#e58139\" fill-opacity=\"0.972549\" stroke=\"#000000\" d=\"M772.8697,-150C772.8697,-150 677.0434,-150 677.0434,-150 671.0434,-150 665.0434,-144 665.0434,-138 665.0434,-138 665.0434,-98 665.0434,-98 665.0434,-92 671.0434,-86 677.0434,-86 677.0434,-86 772.8697,-86 772.8697,-86 778.8697,-86 784.8697,-92 784.8697,-98 784.8697,-98 784.8697,-138 784.8697,-138 784.8697,-144 778.8697,-150 772.8697,-150\"/>\n",
       "<text text-anchor=\"start\" x=\"677.5288\" y=\"-134.8\" font-family=\"Helvetica,sans-Serif\" font-size=\"14.00\" fill=\"#000000\">density ≤ 0.999</text>\n",
       "<text text-anchor=\"start\" x=\"688.5654\" y=\"-120.8\" font-family=\"Helvetica,sans-Serif\" font-size=\"14.00\" fill=\"#000000\">gini = 0.051</text>\n",
       "<text text-anchor=\"start\" x=\"679.2344\" y=\"-106.8\" font-family=\"Helvetica,sans-Serif\" font-size=\"14.00\" fill=\"#000000\">samples = 916</text>\n",
       "<text text-anchor=\"start\" x=\"673\" y=\"-92.8\" font-family=\"Helvetica,sans-Serif\" font-size=\"14.00\" fill=\"#000000\">value = [892, 24]</text>\n",
       "</g>\n",
       "<!-- 9&#45;&gt;10 -->\n",
       "<g id=\"edge10\" class=\"edge\">\n",
       "<title>9&#45;&gt;10</title>\n",
       "<path fill=\"none\" stroke=\"#000000\" d=\"M777.1694,-185.8089C770.3687,-176.9769 762.9114,-167.2921 755.815,-158.0759\"/>\n",
       "<polygon fill=\"#000000\" stroke=\"#000000\" points=\"758.5714,-155.9187 749.6972,-150.1308 753.025,-160.1894 758.5714,-155.9187\"/>\n",
       "</g>\n",
       "<!-- 13 -->\n",
       "<g id=\"node14\" class=\"node\">\n",
       "<title>13</title>\n",
       "<path fill=\"#e58139\" fill-opacity=\"0.862745\" stroke=\"#000000\" d=\"M944.6054,-150C944.6054,-150 815.3077,-150 815.3077,-150 809.3077,-150 803.3077,-144 803.3077,-138 803.3077,-138 803.3077,-98 803.3077,-98 803.3077,-92 809.3077,-86 815.3077,-86 815.3077,-86 944.6054,-86 944.6054,-86 950.6054,-86 956.6054,-92 956.6054,-98 956.6054,-98 956.6054,-138 956.6054,-138 956.6054,-144 950.6054,-150 944.6054,-150\"/>\n",
       "<text text-anchor=\"start\" x=\"811.1323\" y=\"-134.8\" font-family=\"Helvetica,sans-Serif\" font-size=\"14.00\" fill=\"#000000\">volatile acidity ≤ 0.315</text>\n",
       "<text text-anchor=\"start\" x=\"843.5654\" y=\"-120.8\" font-family=\"Helvetica,sans-Serif\" font-size=\"14.00\" fill=\"#000000\">gini = 0.212</text>\n",
       "<text text-anchor=\"start\" x=\"834.2344\" y=\"-106.8\" font-family=\"Helvetica,sans-Serif\" font-size=\"14.00\" fill=\"#000000\">samples = 332</text>\n",
       "<text text-anchor=\"start\" x=\"828\" y=\"-92.8\" font-family=\"Helvetica,sans-Serif\" font-size=\"14.00\" fill=\"#000000\">value = [292, 40]</text>\n",
       "</g>\n",
       "<!-- 9&#45;&gt;13 -->\n",
       "<g id=\"edge13\" class=\"edge\">\n",
       "<title>9&#45;&gt;13</title>\n",
       "<path fill=\"none\" stroke=\"#000000\" d=\"M827.0656,-185.8089C833.9546,-176.9769 841.5087,-167.2921 848.6973,-158.0759\"/>\n",
       "<polygon fill=\"#000000\" stroke=\"#000000\" points=\"851.504,-160.1684 854.8946,-150.1308 845.9844,-155.8632 851.504,-160.1684\"/>\n",
       "</g>\n",
       "<!-- 11 -->\n",
       "<g id=\"node12\" class=\"node\">\n",
       "<title>11</title>\n",
       "<path fill=\"#e58139\" fill-opacity=\"0.988235\" stroke=\"#000000\" d=\"M643.8697,-50C643.8697,-50 548.0434,-50 548.0434,-50 542.0434,-50 536.0434,-44 536.0434,-38 536.0434,-38 536.0434,-12 536.0434,-12 536.0434,-6 542.0434,0 548.0434,0 548.0434,0 643.8697,0 643.8697,0 649.8697,0 655.8697,-6 655.8697,-12 655.8697,-12 655.8697,-38 655.8697,-38 655.8697,-44 649.8697,-50 643.8697,-50\"/>\n",
       "<text text-anchor=\"start\" x=\"559.5654\" y=\"-34.8\" font-family=\"Helvetica,sans-Serif\" font-size=\"14.00\" fill=\"#000000\">gini = 0.025</text>\n",
       "<text text-anchor=\"start\" x=\"550.2344\" y=\"-20.8\" font-family=\"Helvetica,sans-Serif\" font-size=\"14.00\" fill=\"#000000\">samples = 779</text>\n",
       "<text text-anchor=\"start\" x=\"544\" y=\"-6.8\" font-family=\"Helvetica,sans-Serif\" font-size=\"14.00\" fill=\"#000000\">value = [769, 10]</text>\n",
       "</g>\n",
       "<!-- 10&#45;&gt;11 -->\n",
       "<g id=\"edge11\" class=\"edge\">\n",
       "<title>10&#45;&gt;11</title>\n",
       "<path fill=\"none\" stroke=\"#000000\" d=\"M680.5621,-85.9947C667.0426,-76.2481 652.2138,-65.5575 638.799,-55.8864\"/>\n",
       "<polygon fill=\"#000000\" stroke=\"#000000\" points=\"640.812,-53.023 630.6534,-50.014 636.7184,-58.7012 640.812,-53.023\"/>\n",
       "</g>\n",
       "<!-- 12 -->\n",
       "<g id=\"node13\" class=\"node\">\n",
       "<title>12</title>\n",
       "<path fill=\"#e58139\" fill-opacity=\"0.886275\" stroke=\"#000000\" d=\"M781.8697,-50C781.8697,-50 686.0434,-50 686.0434,-50 680.0434,-50 674.0434,-44 674.0434,-38 674.0434,-38 674.0434,-12 674.0434,-12 674.0434,-6 680.0434,0 686.0434,0 686.0434,0 781.8697,0 781.8697,0 787.8697,0 793.8697,-6 793.8697,-12 793.8697,-12 793.8697,-38 793.8697,-38 793.8697,-44 787.8697,-50 781.8697,-50\"/>\n",
       "<text text-anchor=\"start\" x=\"697.5654\" y=\"-34.8\" font-family=\"Helvetica,sans-Serif\" font-size=\"14.00\" fill=\"#000000\">gini = 0.183</text>\n",
       "<text text-anchor=\"start\" x=\"688.2344\" y=\"-20.8\" font-family=\"Helvetica,sans-Serif\" font-size=\"14.00\" fill=\"#000000\">samples = 137</text>\n",
       "<text text-anchor=\"start\" x=\"682\" y=\"-6.8\" font-family=\"Helvetica,sans-Serif\" font-size=\"14.00\" fill=\"#000000\">value = [123, 14]</text>\n",
       "</g>\n",
       "<!-- 10&#45;&gt;12 -->\n",
       "<g id=\"edge12\" class=\"edge\">\n",
       "<title>10&#45;&gt;12</title>\n",
       "<path fill=\"none\" stroke=\"#000000\" d=\"M728.0538,-85.9947C728.8636,-77.6273 729.7406,-68.5643 730.5648,-60.0478\"/>\n",
       "<polygon fill=\"#000000\" stroke=\"#000000\" points=\"734.0562,-60.3047 731.5358,-50.014 727.0888,-59.6304 734.0562,-60.3047\"/>\n",
       "</g>\n",
       "<!-- 14 -->\n",
       "<g id=\"node15\" class=\"node\">\n",
       "<title>14</title>\n",
       "<path fill=\"#e58139\" fill-opacity=\"0.800000\" stroke=\"#000000\" d=\"M919.8697,-50C919.8697,-50 824.0434,-50 824.0434,-50 818.0434,-50 812.0434,-44 812.0434,-38 812.0434,-38 812.0434,-12 812.0434,-12 812.0434,-6 818.0434,0 824.0434,0 824.0434,0 919.8697,0 919.8697,0 925.8697,0 931.8697,-6 931.8697,-12 931.8697,-12 931.8697,-38 931.8697,-38 931.8697,-44 925.8697,-50 919.8697,-50\"/>\n",
       "<text text-anchor=\"start\" x=\"835.5654\" y=\"-34.8\" font-family=\"Helvetica,sans-Serif\" font-size=\"14.00\" fill=\"#000000\">gini = 0.278</text>\n",
       "<text text-anchor=\"start\" x=\"826.2344\" y=\"-20.8\" font-family=\"Helvetica,sans-Serif\" font-size=\"14.00\" fill=\"#000000\">samples = 228</text>\n",
       "<text text-anchor=\"start\" x=\"820\" y=\"-6.8\" font-family=\"Helvetica,sans-Serif\" font-size=\"14.00\" fill=\"#000000\">value = [190, 38]</text>\n",
       "</g>\n",
       "<!-- 13&#45;&gt;14 -->\n",
       "<g id=\"edge14\" class=\"edge\">\n",
       "<title>13&#45;&gt;14</title>\n",
       "<path fill=\"none\" stroke=\"#000000\" d=\"M877.2034,-85.9947C876.4836,-77.6273 875.704,-68.5643 874.9714,-60.0478\"/>\n",
       "<polygon fill=\"#000000\" stroke=\"#000000\" points=\"878.4526,-59.6772 874.1083,-50.014 871.4783,-60.2772 878.4526,-59.6772\"/>\n",
       "</g>\n",
       "<!-- 15 -->\n",
       "<g id=\"node16\" class=\"node\">\n",
       "<title>15</title>\n",
       "<path fill=\"#e58139\" fill-opacity=\"0.980392\" stroke=\"#000000\" d=\"M1050.0836,-50C1050.0836,-50 961.8295,-50 961.8295,-50 955.8295,-50 949.8295,-44 949.8295,-38 949.8295,-38 949.8295,-12 949.8295,-12 949.8295,-6 955.8295,0 961.8295,0 961.8295,0 1050.0836,0 1050.0836,0 1056.0836,0 1062.0836,-6 1062.0836,-12 1062.0836,-12 1062.0836,-38 1062.0836,-38 1062.0836,-44 1056.0836,-50 1050.0836,-50\"/>\n",
       "<text text-anchor=\"start\" x=\"969.5654\" y=\"-34.8\" font-family=\"Helvetica,sans-Serif\" font-size=\"14.00\" fill=\"#000000\">gini = 0.038</text>\n",
       "<text text-anchor=\"start\" x=\"960.2344\" y=\"-20.8\" font-family=\"Helvetica,sans-Serif\" font-size=\"14.00\" fill=\"#000000\">samples = 104</text>\n",
       "<text text-anchor=\"start\" x=\"957.8931\" y=\"-6.8\" font-family=\"Helvetica,sans-Serif\" font-size=\"14.00\" fill=\"#000000\">value = [102, 2]</text>\n",
       "</g>\n",
       "<!-- 13&#45;&gt;15 -->\n",
       "<g id=\"edge15\" class=\"edge\">\n",
       "<title>13&#45;&gt;15</title>\n",
       "<path fill=\"none\" stroke=\"#000000\" d=\"M923.3186,-85.9947C936.399,-76.3401 950.7344,-65.7592 963.7393,-56.1604\"/>\n",
       "<polygon fill=\"#000000\" stroke=\"#000000\" points=\"966.0993,-58.7686 972.0666,-50.014 961.9423,-53.1366 966.0993,-58.7686\"/>\n",
       "</g>\n",
       "<!-- 17 -->\n",
       "<g id=\"node18\" class=\"node\">\n",
       "<title>17</title>\n",
       "<path fill=\"#e58139\" fill-opacity=\"0.380392\" stroke=\"#000000\" d=\"M1386.1383,-250C1386.1383,-250 1241.7748,-250 1241.7748,-250 1235.7748,-250 1229.7748,-244 1229.7748,-238 1229.7748,-238 1229.7748,-198 1229.7748,-198 1229.7748,-192 1235.7748,-186 1241.7748,-186 1241.7748,-186 1386.1383,-186 1386.1383,-186 1392.1383,-186 1398.1383,-192 1398.1383,-198 1398.1383,-198 1398.1383,-238 1398.1383,-238 1398.1383,-244 1392.1383,-250 1386.1383,-250\"/>\n",
       "<text text-anchor=\"start\" x=\"1237.8657\" y=\"-234.8\" font-family=\"Helvetica,sans-Serif\" font-size=\"14.00\" fill=\"#000000\">free sulfur dioxide ≤ 11.5</text>\n",
       "<text text-anchor=\"start\" x=\"1277.5654\" y=\"-220.8\" font-family=\"Helvetica,sans-Serif\" font-size=\"14.00\" fill=\"#000000\">gini = 0.472</text>\n",
       "<text text-anchor=\"start\" x=\"1268.2344\" y=\"-206.8\" font-family=\"Helvetica,sans-Serif\" font-size=\"14.00\" fill=\"#000000\">samples = 907</text>\n",
       "<text text-anchor=\"start\" x=\"1258.1069\" y=\"-192.8\" font-family=\"Helvetica,sans-Serif\" font-size=\"14.00\" fill=\"#000000\">value = [560, 347]</text>\n",
       "</g>\n",
       "<!-- 16&#45;&gt;17 -->\n",
       "<g id=\"edge17\" class=\"edge\">\n",
       "<title>16&#45;&gt;17</title>\n",
       "<path fill=\"none\" stroke=\"#000000\" d=\"M1313.9565,-285.8089C1313.9565,-277.6906 1313.9565,-268.8517 1313.9565,-260.3186\"/>\n",
       "<polygon fill=\"#000000\" stroke=\"#000000\" points=\"1317.4566,-260.1307 1313.9565,-250.1308 1310.4566,-260.1308 1317.4566,-260.1307\"/>\n",
       "</g>\n",
       "<!-- 24 -->\n",
       "<g id=\"node25\" class=\"node\">\n",
       "<title>24</title>\n",
       "<path fill=\"#399de5\" fill-opacity=\"0.580392\" stroke=\"#000000\" d=\"M1769.6705,-250C1769.6705,-250 1624.2425,-250 1624.2425,-250 1618.2425,-250 1612.2425,-244 1612.2425,-238 1612.2425,-238 1612.2425,-198 1612.2425,-198 1612.2425,-192 1618.2425,-186 1624.2425,-186 1624.2425,-186 1769.6705,-186 1769.6705,-186 1775.6705,-186 1781.6705,-192 1781.6705,-198 1781.6705,-198 1781.6705,-238 1781.6705,-238 1781.6705,-244 1775.6705,-250 1769.6705,-250\"/>\n",
       "<text text-anchor=\"start\" x=\"1620.3496\" y=\"-234.8\" font-family=\"Helvetica,sans-Serif\" font-size=\"14.00\" fill=\"#000000\">free sulfur dioxide ≤ 20.5</text>\n",
       "<text text-anchor=\"start\" x=\"1660.5654\" y=\"-220.8\" font-family=\"Helvetica,sans-Serif\" font-size=\"14.00\" fill=\"#000000\">gini = 0.417</text>\n",
       "<text text-anchor=\"start\" x=\"1651.2344\" y=\"-206.8\" font-family=\"Helvetica,sans-Serif\" font-size=\"14.00\" fill=\"#000000\">samples = 135</text>\n",
       "<text text-anchor=\"start\" x=\"1648.8931\" y=\"-192.8\" font-family=\"Helvetica,sans-Serif\" font-size=\"14.00\" fill=\"#000000\">value = [40, 95]</text>\n",
       "</g>\n",
       "<!-- 16&#45;&gt;24 -->\n",
       "<g id=\"edge24\" class=\"edge\">\n",
       "<title>16&#45;&gt;24</title>\n",
       "<path fill=\"none\" stroke=\"#000000\" d=\"M1378.0621,-301.2622C1439.3826,-285.2517 1532.5974,-260.9136 1602.4347,-242.6793\"/>\n",
       "<polygon fill=\"#000000\" stroke=\"#000000\" points=\"1603.3367,-246.0612 1612.1282,-240.1484 1601.5683,-239.2883 1603.3367,-246.0612\"/>\n",
       "</g>\n",
       "<!-- 18 -->\n",
       "<g id=\"node19\" class=\"node\">\n",
       "<title>18</title>\n",
       "<path fill=\"#e58139\" fill-opacity=\"0.941176\" stroke=\"#000000\" d=\"M1289.3189,-150C1289.3189,-150 1202.5942,-150 1202.5942,-150 1196.5942,-150 1190.5942,-144 1190.5942,-138 1190.5942,-138 1190.5942,-98 1190.5942,-98 1190.5942,-92 1196.5942,-86 1202.5942,-86 1202.5942,-86 1289.3189,-86 1289.3189,-86 1295.3189,-86 1301.3189,-92 1301.3189,-98 1301.3189,-98 1301.3189,-138 1301.3189,-138 1301.3189,-144 1295.3189,-150 1289.3189,-150\"/>\n",
       "<text text-anchor=\"start\" x=\"1198.5254\" y=\"-134.8\" font-family=\"Helvetica,sans-Serif\" font-size=\"14.00\" fill=\"#000000\">alcohol ≤ 12.65</text>\n",
       "<text text-anchor=\"start\" x=\"1209.5654\" y=\"-120.8\" font-family=\"Helvetica,sans-Serif\" font-size=\"14.00\" fill=\"#000000\">gini = 0.107</text>\n",
       "<text text-anchor=\"start\" x=\"1204.1274\" y=\"-106.8\" font-family=\"Helvetica,sans-Serif\" font-size=\"14.00\" fill=\"#000000\">samples = 53</text>\n",
       "<text text-anchor=\"start\" x=\"1201.7861\" y=\"-92.8\" font-family=\"Helvetica,sans-Serif\" font-size=\"14.00\" fill=\"#000000\">value = [50, 3]</text>\n",
       "</g>\n",
       "<!-- 17&#45;&gt;18 -->\n",
       "<g id=\"edge18\" class=\"edge\">\n",
       "<title>17&#45;&gt;18</title>\n",
       "<path fill=\"none\" stroke=\"#000000\" d=\"M1292.0666,-185.8089C1286.1822,-177.1553 1279.741,-167.683 1273.5884,-158.635\"/>\n",
       "<polygon fill=\"#000000\" stroke=\"#000000\" points=\"1276.3229,-156.4319 1267.8055,-150.1308 1270.5344,-160.3681 1276.3229,-156.4319\"/>\n",
       "</g>\n",
       "<!-- 21 -->\n",
       "<g id=\"node22\" class=\"node\">\n",
       "<title>21</title>\n",
       "<path fill=\"#e58139\" fill-opacity=\"0.325490\" stroke=\"#000000\" d=\"M1434.6561,-150C1434.6561,-150 1331.257,-150 1331.257,-150 1325.257,-150 1319.257,-144 1319.257,-138 1319.257,-138 1319.257,-98 1319.257,-98 1319.257,-92 1325.257,-86 1331.257,-86 1331.257,-86 1434.6561,-86 1434.6561,-86 1440.6561,-86 1446.6561,-92 1446.6561,-98 1446.6561,-98 1446.6561,-138 1446.6561,-138 1446.6561,-144 1440.6561,-150 1434.6561,-150\"/>\n",
       "<text text-anchor=\"start\" x=\"1329.6943\" y=\"-134.8\" font-family=\"Helvetica,sans-Serif\" font-size=\"14.00\" fill=\"#000000\">chlorides ≤ 0.045</text>\n",
       "<text text-anchor=\"start\" x=\"1346.5654\" y=\"-120.8\" font-family=\"Helvetica,sans-Serif\" font-size=\"14.00\" fill=\"#000000\">gini = 0.481</text>\n",
       "<text text-anchor=\"start\" x=\"1337.2344\" y=\"-106.8\" font-family=\"Helvetica,sans-Serif\" font-size=\"14.00\" fill=\"#000000\">samples = 854</text>\n",
       "<text text-anchor=\"start\" x=\"1327.1069\" y=\"-92.8\" font-family=\"Helvetica,sans-Serif\" font-size=\"14.00\" fill=\"#000000\">value = [510, 344]</text>\n",
       "</g>\n",
       "<!-- 17&#45;&gt;21 -->\n",
       "<g id=\"edge21\" class=\"edge\">\n",
       "<title>17&#45;&gt;21</title>\n",
       "<path fill=\"none\" stroke=\"#000000\" d=\"M1336.1684,-185.8089C1342.1394,-177.1553 1348.6753,-167.683 1354.9184,-158.635\"/>\n",
       "<polygon fill=\"#000000\" stroke=\"#000000\" points=\"1357.9878,-160.3493 1360.7863,-150.1308 1352.2262,-156.3738 1357.9878,-160.3493\"/>\n",
       "</g>\n",
       "<!-- 19 -->\n",
       "<g id=\"node20\" class=\"node\">\n",
       "<title>19</title>\n",
       "<path fill=\"#e58139\" fill-opacity=\"0.960784\" stroke=\"#000000\" d=\"M1172.2979,-50C1172.2979,-50 1091.6152,-50 1091.6152,-50 1085.6152,-50 1079.6152,-44 1079.6152,-38 1079.6152,-38 1079.6152,-12 1079.6152,-12 1079.6152,-6 1085.6152,0 1091.6152,0 1091.6152,0 1172.2979,0 1172.2979,0 1178.2979,0 1184.2979,-6 1184.2979,-12 1184.2979,-12 1184.2979,-38 1184.2979,-38 1184.2979,-44 1178.2979,-50 1172.2979,-50\"/>\n",
       "<text text-anchor=\"start\" x=\"1095.5654\" y=\"-34.8\" font-family=\"Helvetica,sans-Serif\" font-size=\"14.00\" fill=\"#000000\">gini = 0.075</text>\n",
       "<text text-anchor=\"start\" x=\"1090.1274\" y=\"-20.8\" font-family=\"Helvetica,sans-Serif\" font-size=\"14.00\" fill=\"#000000\">samples = 51</text>\n",
       "<text text-anchor=\"start\" x=\"1087.7861\" y=\"-6.8\" font-family=\"Helvetica,sans-Serif\" font-size=\"14.00\" fill=\"#000000\">value = [49, 2]</text>\n",
       "</g>\n",
       "<!-- 18&#45;&gt;19 -->\n",
       "<g id=\"edge19\" class=\"edge\">\n",
       "<title>18&#45;&gt;19</title>\n",
       "<path fill=\"none\" stroke=\"#000000\" d=\"M1206.7242,-85.9947C1195.0022,-76.432 1182.1663,-65.9606 1170.4896,-56.4349\"/>\n",
       "<polygon fill=\"#000000\" stroke=\"#000000\" points=\"1172.58,-53.6233 1162.6189,-50.014 1168.1551,-59.0474 1172.58,-53.6233\"/>\n",
       "</g>\n",
       "<!-- 20 -->\n",
       "<g id=\"node21\" class=\"node\">\n",
       "<title>20</title>\n",
       "<path fill=\"transparent\" stroke=\"#000000\" d=\"M1286.0123,-50C1286.0123,-50 1213.9008,-50 1213.9008,-50 1207.9008,-50 1201.9008,-44 1201.9008,-38 1201.9008,-38 1201.9008,-12 1201.9008,-12 1201.9008,-6 1207.9008,0 1213.9008,0 1213.9008,0 1286.0123,0 1286.0123,0 1292.0123,0 1298.0123,-6 1298.0123,-12 1298.0123,-12 1298.0123,-38 1298.0123,-38 1298.0123,-44 1292.0123,-50 1286.0123,-50\"/>\n",
       "<text text-anchor=\"start\" x=\"1221.3516\" y=\"-34.8\" font-family=\"Helvetica,sans-Serif\" font-size=\"14.00\" fill=\"#000000\">gini = 0.5</text>\n",
       "<text text-anchor=\"start\" x=\"1212.0205\" y=\"-20.8\" font-family=\"Helvetica,sans-Serif\" font-size=\"14.00\" fill=\"#000000\">samples = 2</text>\n",
       "<text text-anchor=\"start\" x=\"1209.6792\" y=\"-6.8\" font-family=\"Helvetica,sans-Serif\" font-size=\"14.00\" fill=\"#000000\">value = [1, 1]</text>\n",
       "</g>\n",
       "<!-- 18&#45;&gt;20 -->\n",
       "<g id=\"edge20\" class=\"edge\">\n",
       "<title>18&#45;&gt;20</title>\n",
       "<path fill=\"none\" stroke=\"#000000\" d=\"M1247.3331,-85.9947C1247.693,-77.6273 1248.0828,-68.5643 1248.4491,-60.0478\"/>\n",
       "<polygon fill=\"#000000\" stroke=\"#000000\" points=\"1251.9476,-60.1552 1248.8807,-50.014 1244.9541,-59.8544 1251.9476,-60.1552\"/>\n",
       "</g>\n",
       "<!-- 22 -->\n",
       "<g id=\"node23\" class=\"node\">\n",
       "<title>22</title>\n",
       "<path fill=\"#e58139\" fill-opacity=\"0.215686\" stroke=\"#000000\" d=\"M1431.124,-50C1431.124,-50 1328.7891,-50 1328.7891,-50 1322.7891,-50 1316.7891,-44 1316.7891,-38 1316.7891,-38 1316.7891,-12 1316.7891,-12 1316.7891,-6 1322.7891,0 1328.7891,0 1328.7891,0 1431.124,0 1431.124,0 1437.124,0 1443.124,-6 1443.124,-12 1443.124,-12 1443.124,-38 1443.124,-38 1443.124,-44 1437.124,-50 1431.124,-50\"/>\n",
       "<text text-anchor=\"start\" x=\"1343.5654\" y=\"-34.8\" font-family=\"Helvetica,sans-Serif\" font-size=\"14.00\" fill=\"#000000\">gini = 0.493</text>\n",
       "<text text-anchor=\"start\" x=\"1334.2344\" y=\"-20.8\" font-family=\"Helvetica,sans-Serif\" font-size=\"14.00\" fill=\"#000000\">samples = 708</text>\n",
       "<text text-anchor=\"start\" x=\"1324.623\" y=\"-6.8\" font-family=\"Helvetica,sans-Serif\" font-size=\"14.00\" fill=\"#000000\">value = [397, 311]</text>\n",
       "</g>\n",
       "<!-- 21&#45;&gt;22 -->\n",
       "<g id=\"edge22\" class=\"edge\">\n",
       "<title>21&#45;&gt;22</title>\n",
       "<path fill=\"none\" stroke=\"#000000\" d=\"M1381.9241,-85.9947C1381.6542,-77.6273 1381.3618,-68.5643 1381.0871,-60.0478\"/>\n",
       "<polygon fill=\"#000000\" stroke=\"#000000\" points=\"1384.5841,-59.896 1380.7634,-50.014 1377.5878,-60.1217 1384.5841,-59.896\"/>\n",
       "</g>\n",
       "<!-- 23 -->\n",
       "<g id=\"node24\" class=\"node\">\n",
       "<title>23</title>\n",
       "<path fill=\"#e58139\" fill-opacity=\"0.709804\" stroke=\"#000000\" d=\"M1568.3375,-50C1568.3375,-50 1473.5756,-50 1473.5756,-50 1467.5756,-50 1461.5756,-44 1461.5756,-38 1461.5756,-38 1461.5756,-12 1461.5756,-12 1461.5756,-6 1467.5756,0 1473.5756,0 1473.5756,0 1568.3375,0 1568.3375,0 1574.3375,0 1580.3375,-6 1580.3375,-12 1580.3375,-12 1580.3375,-38 1580.3375,-38 1580.3375,-44 1574.3375,-50 1568.3375,-50\"/>\n",
       "<text text-anchor=\"start\" x=\"1488.4585\" y=\"-34.8\" font-family=\"Helvetica,sans-Serif\" font-size=\"14.00\" fill=\"#000000\">gini = 0.35</text>\n",
       "<text text-anchor=\"start\" x=\"1475.2344\" y=\"-20.8\" font-family=\"Helvetica,sans-Serif\" font-size=\"14.00\" fill=\"#000000\">samples = 146</text>\n",
       "<text text-anchor=\"start\" x=\"1469.5161\" y=\"-6.8\" font-family=\"Helvetica,sans-Serif\" font-size=\"14.00\" fill=\"#000000\">value = [113, 33]</text>\n",
       "</g>\n",
       "<!-- 21&#45;&gt;23 -->\n",
       "<g id=\"edge23\" class=\"edge\">\n",
       "<title>21&#45;&gt;23</title>\n",
       "<path fill=\"none\" stroke=\"#000000\" d=\"M1430.4483,-85.9947C1445.0474,-76.1562 1461.0738,-65.3558 1475.5309,-55.613\"/>\n",
       "<polygon fill=\"#000000\" stroke=\"#000000\" points=\"1477.5023,-58.505 1483.8389,-50.014 1473.5903,-52.7002 1477.5023,-58.505\"/>\n",
       "</g>\n",
       "<!-- 25 -->\n",
       "<g id=\"node26\" class=\"node\">\n",
       "<title>25</title>\n",
       "<path fill=\"#e58139\" fill-opacity=\"0.149020\" stroke=\"#000000\" d=\"M1750.8121,-150C1750.8121,-150 1643.101,-150 1643.101,-150 1637.101,-150 1631.101,-144 1631.101,-138 1631.101,-138 1631.101,-98 1631.101,-98 1631.101,-92 1637.101,-86 1643.101,-86 1643.101,-86 1750.8121,-86 1750.8121,-86 1756.8121,-86 1762.8121,-92 1762.8121,-98 1762.8121,-98 1762.8121,-138 1762.8121,-138 1762.8121,-144 1756.8121,-150 1750.8121,-150\"/>\n",
       "<text text-anchor=\"start\" x=\"1639.0288\" y=\"-134.8\" font-family=\"Helvetica,sans-Serif\" font-size=\"14.00\" fill=\"#000000\">fixed acidity ≤ 6.35</text>\n",
       "<text text-anchor=\"start\" x=\"1660.5654\" y=\"-120.8\" font-family=\"Helvetica,sans-Serif\" font-size=\"14.00\" fill=\"#000000\">gini = 0.497</text>\n",
       "<text text-anchor=\"start\" x=\"1655.1274\" y=\"-106.8\" font-family=\"Helvetica,sans-Serif\" font-size=\"14.00\" fill=\"#000000\">samples = 37</text>\n",
       "<text text-anchor=\"start\" x=\"1648.8931\" y=\"-92.8\" font-family=\"Helvetica,sans-Serif\" font-size=\"14.00\" fill=\"#000000\">value = [20, 17]</text>\n",
       "</g>\n",
       "<!-- 24&#45;&gt;25 -->\n",
       "<g id=\"edge25\" class=\"edge\">\n",
       "<title>24&#45;&gt;25</title>\n",
       "<path fill=\"none\" stroke=\"#000000\" d=\"M1696.9565,-185.8089C1696.9565,-177.6906 1696.9565,-168.8517 1696.9565,-160.3186\"/>\n",
       "<polygon fill=\"#000000\" stroke=\"#000000\" points=\"1700.4566,-160.1307 1696.9565,-150.1308 1693.4566,-160.1308 1700.4566,-160.1307\"/>\n",
       "</g>\n",
       "<!-- 28 -->\n",
       "<g id=\"node29\" class=\"node\">\n",
       "<title>28</title>\n",
       "<path fill=\"#399de5\" fill-opacity=\"0.745098\" stroke=\"#000000\" d=\"M1940.2984,-150C1940.2984,-150 1839.6146,-150 1839.6146,-150 1833.6146,-150 1827.6146,-144 1827.6146,-138 1827.6146,-138 1827.6146,-98 1827.6146,-98 1827.6146,-92 1833.6146,-86 1839.6146,-86 1839.6146,-86 1940.2984,-86 1940.2984,-86 1946.2984,-86 1952.2984,-92 1952.2984,-98 1952.2984,-98 1952.2984,-138 1952.2984,-138 1952.2984,-144 1946.2984,-150 1940.2984,-150\"/>\n",
       "<text text-anchor=\"start\" x=\"1835.5356\" y=\"-134.8\" font-family=\"Helvetica,sans-Serif\" font-size=\"14.00\" fill=\"#000000\">citric acid ≤ 0.135</text>\n",
       "<text text-anchor=\"start\" x=\"1853.5654\" y=\"-120.8\" font-family=\"Helvetica,sans-Serif\" font-size=\"14.00\" fill=\"#000000\">gini = 0.325</text>\n",
       "<text text-anchor=\"start\" x=\"1848.1274\" y=\"-106.8\" font-family=\"Helvetica,sans-Serif\" font-size=\"14.00\" fill=\"#000000\">samples = 98</text>\n",
       "<text text-anchor=\"start\" x=\"1841.8931\" y=\"-92.8\" font-family=\"Helvetica,sans-Serif\" font-size=\"14.00\" fill=\"#000000\">value = [20, 78]</text>\n",
       "</g>\n",
       "<!-- 24&#45;&gt;28 -->\n",
       "<g id=\"edge28\" class=\"edge\">\n",
       "<title>24&#45;&gt;28</title>\n",
       "<path fill=\"none\" stroke=\"#000000\" d=\"M1758.8193,-185.9467C1778.0377,-175.989 1799.3693,-164.9364 1819.1479,-154.6884\"/>\n",
       "<polygon fill=\"#000000\" stroke=\"#000000\" points=\"1820.8442,-157.7515 1828.113,-150.0433 1817.6238,-151.5362 1820.8442,-157.7515\"/>\n",
       "</g>\n",
       "<!-- 26 -->\n",
       "<g id=\"node27\" class=\"node\">\n",
       "<title>26</title>\n",
       "<path fill=\"#399de5\" fill-opacity=\"0.725490\" stroke=\"#000000\" d=\"M1689.7656,-50C1689.7656,-50 1610.1475,-50 1610.1475,-50 1604.1475,-50 1598.1475,-44 1598.1475,-38 1598.1475,-38 1598.1475,-12 1598.1475,-12 1598.1475,-6 1604.1475,0 1610.1475,0 1610.1475,0 1689.7656,0 1689.7656,0 1695.7656,0 1701.7656,-6 1701.7656,-12 1701.7656,-12 1701.7656,-38 1701.7656,-38 1701.7656,-44 1695.7656,-50 1689.7656,-50\"/>\n",
       "<text text-anchor=\"start\" x=\"1613.5654\" y=\"-34.8\" font-family=\"Helvetica,sans-Serif\" font-size=\"14.00\" fill=\"#000000\">gini = 0.337</text>\n",
       "<text text-anchor=\"start\" x=\"1608.1274\" y=\"-20.8\" font-family=\"Helvetica,sans-Serif\" font-size=\"14.00\" fill=\"#000000\">samples = 14</text>\n",
       "<text text-anchor=\"start\" x=\"1606.3022\" y=\"-6.8\" font-family=\"Helvetica,sans-Serif\" font-size=\"14.00\" fill=\"#000000\">value = [3, 11]</text>\n",
       "</g>\n",
       "<!-- 25&#45;&gt;26 -->\n",
       "<g id=\"edge26\" class=\"edge\">\n",
       "<title>25&#45;&gt;26</title>\n",
       "<path fill=\"none\" stroke=\"#000000\" d=\"M1680.7818,-85.9947C1676.4137,-77.3515 1671.6705,-67.966 1667.2441,-59.2073\"/>\n",
       "<polygon fill=\"#000000\" stroke=\"#000000\" points=\"1670.2323,-57.3604 1662.598,-50.014 1663.9848,-60.5177 1670.2323,-57.3604\"/>\n",
       "</g>\n",
       "<!-- 27 -->\n",
       "<g id=\"node28\" class=\"node\">\n",
       "<title>27</title>\n",
       "<path fill=\"#e58139\" fill-opacity=\"0.647059\" stroke=\"#000000\" d=\"M1812.2979,-50C1812.2979,-50 1731.6152,-50 1731.6152,-50 1725.6152,-50 1719.6152,-44 1719.6152,-38 1719.6152,-38 1719.6152,-12 1719.6152,-12 1719.6152,-6 1725.6152,0 1731.6152,0 1731.6152,0 1812.2979,0 1812.2979,0 1818.2979,0 1824.2979,-6 1824.2979,-12 1824.2979,-12 1824.2979,-38 1824.2979,-38 1824.2979,-44 1818.2979,-50 1812.2979,-50\"/>\n",
       "<text text-anchor=\"start\" x=\"1735.5654\" y=\"-34.8\" font-family=\"Helvetica,sans-Serif\" font-size=\"14.00\" fill=\"#000000\">gini = 0.386</text>\n",
       "<text text-anchor=\"start\" x=\"1730.1274\" y=\"-20.8\" font-family=\"Helvetica,sans-Serif\" font-size=\"14.00\" fill=\"#000000\">samples = 23</text>\n",
       "<text text-anchor=\"start\" x=\"1727.7861\" y=\"-6.8\" font-family=\"Helvetica,sans-Serif\" font-size=\"14.00\" fill=\"#000000\">value = [17, 6]</text>\n",
       "</g>\n",
       "<!-- 25&#45;&gt;27 -->\n",
       "<g id=\"edge27\" class=\"edge\">\n",
       "<title>25&#45;&gt;27</title>\n",
       "<path fill=\"none\" stroke=\"#000000\" d=\"M1722.7673,-85.9947C1730.1084,-76.8917 1738.1135,-66.9654 1745.4927,-57.8152\"/>\n",
       "<polygon fill=\"#000000\" stroke=\"#000000\" points=\"1748.2308,-59.9953 1751.7839,-50.014 1742.7819,-55.601 1748.2308,-59.9953\"/>\n",
       "</g>\n",
       "<!-- 29 -->\n",
       "<g id=\"node30\" class=\"node\">\n",
       "<title>29</title>\n",
       "<path fill=\"#e58139\" stroke=\"#000000\" d=\"M1926.0123,-50C1926.0123,-50 1853.9008,-50 1853.9008,-50 1847.9008,-50 1841.9008,-44 1841.9008,-38 1841.9008,-38 1841.9008,-12 1841.9008,-12 1841.9008,-6 1847.9008,0 1853.9008,0 1853.9008,0 1926.0123,0 1926.0123,0 1932.0123,0 1938.0123,-6 1938.0123,-12 1938.0123,-12 1938.0123,-38 1938.0123,-38 1938.0123,-44 1932.0123,-50 1926.0123,-50\"/>\n",
       "<text text-anchor=\"start\" x=\"1861.3516\" y=\"-34.8\" font-family=\"Helvetica,sans-Serif\" font-size=\"14.00\" fill=\"#000000\">gini = 0.0</text>\n",
       "<text text-anchor=\"start\" x=\"1852.0205\" y=\"-20.8\" font-family=\"Helvetica,sans-Serif\" font-size=\"14.00\" fill=\"#000000\">samples = 3</text>\n",
       "<text text-anchor=\"start\" x=\"1849.6792\" y=\"-6.8\" font-family=\"Helvetica,sans-Serif\" font-size=\"14.00\" fill=\"#000000\">value = [3, 0]</text>\n",
       "</g>\n",
       "<!-- 28&#45;&gt;29 -->\n",
       "<g id=\"edge29\" class=\"edge\">\n",
       "<title>28&#45;&gt;29</title>\n",
       "<path fill=\"none\" stroke=\"#000000\" d=\"M1889.9565,-85.9947C1889.9565,-77.6273 1889.9565,-68.5643 1889.9565,-60.0478\"/>\n",
       "<polygon fill=\"#000000\" stroke=\"#000000\" points=\"1893.4566,-60.014 1889.9565,-50.014 1886.4566,-60.0141 1893.4566,-60.014\"/>\n",
       "</g>\n",
       "<!-- 30 -->\n",
       "<g id=\"node31\" class=\"node\">\n",
       "<title>30</title>\n",
       "<path fill=\"#399de5\" fill-opacity=\"0.780392\" stroke=\"#000000\" d=\"M2056.0836,-50C2056.0836,-50 1967.8295,-50 1967.8295,-50 1961.8295,-50 1955.8295,-44 1955.8295,-38 1955.8295,-38 1955.8295,-12 1955.8295,-12 1955.8295,-6 1961.8295,0 1967.8295,0 1967.8295,0 2056.0836,0 2056.0836,0 2062.0836,0 2068.0836,-6 2068.0836,-12 2068.0836,-12 2068.0836,-38 2068.0836,-38 2068.0836,-44 2062.0836,-50 2056.0836,-50\"/>\n",
       "<text text-anchor=\"start\" x=\"1975.5654\" y=\"-34.8\" font-family=\"Helvetica,sans-Serif\" font-size=\"14.00\" fill=\"#000000\">gini = 0.294</text>\n",
       "<text text-anchor=\"start\" x=\"1970.1274\" y=\"-20.8\" font-family=\"Helvetica,sans-Serif\" font-size=\"14.00\" fill=\"#000000\">samples = 95</text>\n",
       "<text text-anchor=\"start\" x=\"1963.8931\" y=\"-6.8\" font-family=\"Helvetica,sans-Serif\" font-size=\"14.00\" fill=\"#000000\">value = [17, 78]</text>\n",
       "</g>\n",
       "<!-- 28&#45;&gt;30 -->\n",
       "<g id=\"edge30\" class=\"edge\">\n",
       "<title>28&#45;&gt;30</title>\n",
       "<path fill=\"none\" stroke=\"#000000\" d=\"M1931.942,-85.9947C1944.6072,-76.3401 1958.4875,-65.7592 1971.0795,-56.1604\"/>\n",
       "<polygon fill=\"#000000\" stroke=\"#000000\" points=\"1973.3114,-58.86 1979.1424,-50.014 1969.0677,-53.293 1973.3114,-58.86\"/>\n",
       "</g>\n",
       "</g>\n",
       "</svg>\n"
      ],
      "text/plain": [
       "<graphviz.files.Source at 0x11a3a3ba8>"
      ]
     },
     "execution_count": 58,
     "metadata": {},
     "output_type": "execute_result"
    }
   ],
   "source": [
    "# Fit a single decision tree to see splits\n",
    "\n",
    "dt = tree.DecisionTreeClassifier(max_depth=4)\n",
    "\n",
    "dt.fit(X_train, y_train)\n",
    "\n",
    "dot_data = tree.export_graphviz(dt, out_file=None, \n",
    "                         feature_names=list(reds.drop(['label','quality'], axis=1)),  \n",
    "                         filled=True, rounded=True,  \n",
    "                         special_characters=True)\n",
    "\n",
    "graph = graphviz.Source(dot_data) \n",
    "graph"
   ]
  },
  {
   "cell_type": "code",
   "execution_count": 59,
   "metadata": {
    "collapsed": false
   },
   "outputs": [
    {
     "data": {
      "text/html": [
       "<div>\n",
       "<style>\n",
       "    .dataframe thead tr:only-child th {\n",
       "        text-align: right;\n",
       "    }\n",
       "\n",
       "    .dataframe thead th {\n",
       "        text-align: left;\n",
       "    }\n",
       "\n",
       "    .dataframe tbody tr th {\n",
       "        vertical-align: top;\n",
       "    }\n",
       "</style>\n",
       "<table border=\"1\" class=\"dataframe\">\n",
       "  <thead>\n",
       "    <tr style=\"text-align: right;\">\n",
       "      <th></th>\n",
       "      <th>label</th>\n",
       "      <th>predictions</th>\n",
       "      <th>quality</th>\n",
       "    </tr>\n",
       "  </thead>\n",
       "  <tbody>\n",
       "    <tr>\n",
       "      <th>0</th>\n",
       "      <td>0</td>\n",
       "      <td>0</td>\n",
       "      <td>6</td>\n",
       "    </tr>\n",
       "    <tr>\n",
       "      <th>1</th>\n",
       "      <td>0</td>\n",
       "      <td>0</td>\n",
       "      <td>6</td>\n",
       "    </tr>\n",
       "    <tr>\n",
       "      <th>2</th>\n",
       "      <td>0</td>\n",
       "      <td>0</td>\n",
       "      <td>6</td>\n",
       "    </tr>\n",
       "    <tr>\n",
       "      <th>3</th>\n",
       "      <td>0</td>\n",
       "      <td>0</td>\n",
       "      <td>6</td>\n",
       "    </tr>\n",
       "    <tr>\n",
       "      <th>4</th>\n",
       "      <td>0</td>\n",
       "      <td>0</td>\n",
       "      <td>5</td>\n",
       "    </tr>\n",
       "  </tbody>\n",
       "</table>\n",
       "</div>"
      ],
      "text/plain": [
       "   label  predictions  quality\n",
       "0      0            0        6\n",
       "1      0            0        6\n",
       "2      0            0        6\n",
       "3      0            0        6\n",
       "4      0            0        5"
      ]
     },
     "execution_count": 59,
     "metadata": {},
     "output_type": "execute_result"
    }
   ],
   "source": [
    "# See what the actual quality is for predictions that are wrong\n",
    "\n",
    "compare = pd.DataFrame({'quality': test_quality,'predictions': predictions, 'label': y_test})\n",
    "compare.head()"
   ]
  },
  {
   "cell_type": "code",
   "execution_count": 60,
   "metadata": {
    "collapsed": false
   },
   "outputs": [
    {
     "data": {
      "text/html": [
       "<div>\n",
       "<style>\n",
       "    .dataframe thead tr:only-child th {\n",
       "        text-align: right;\n",
       "    }\n",
       "\n",
       "    .dataframe thead th {\n",
       "        text-align: left;\n",
       "    }\n",
       "\n",
       "    .dataframe tbody tr th {\n",
       "        vertical-align: top;\n",
       "    }\n",
       "</style>\n",
       "<table border=\"1\" class=\"dataframe\">\n",
       "  <thead>\n",
       "    <tr style=\"text-align: right;\">\n",
       "      <th></th>\n",
       "      <th>label</th>\n",
       "      <th>predictions</th>\n",
       "      <th>quality</th>\n",
       "    </tr>\n",
       "  </thead>\n",
       "  <tbody>\n",
       "    <tr>\n",
       "      <th>5</th>\n",
       "      <td>1</td>\n",
       "      <td>0</td>\n",
       "      <td>7</td>\n",
       "    </tr>\n",
       "    <tr>\n",
       "      <th>7</th>\n",
       "      <td>1</td>\n",
       "      <td>0</td>\n",
       "      <td>7</td>\n",
       "    </tr>\n",
       "    <tr>\n",
       "      <th>24</th>\n",
       "      <td>1</td>\n",
       "      <td>0</td>\n",
       "      <td>7</td>\n",
       "    </tr>\n",
       "    <tr>\n",
       "      <th>26</th>\n",
       "      <td>1</td>\n",
       "      <td>0</td>\n",
       "      <td>7</td>\n",
       "    </tr>\n",
       "    <tr>\n",
       "      <th>35</th>\n",
       "      <td>1</td>\n",
       "      <td>0</td>\n",
       "      <td>7</td>\n",
       "    </tr>\n",
       "  </tbody>\n",
       "</table>\n",
       "</div>"
      ],
      "text/plain": [
       "    label  predictions  quality\n",
       "5       1            0        7\n",
       "7       1            0        7\n",
       "24      1            0        7\n",
       "26      1            0        7\n",
       "35      1            0        7"
      ]
     },
     "execution_count": 60,
     "metadata": {},
     "output_type": "execute_result"
    }
   ],
   "source": [
    "wrong = compare[compare['label']!=compare['predictions']]\n",
    "wrong.head()"
   ]
  },
  {
   "cell_type": "code",
   "execution_count": 61,
   "metadata": {
    "collapsed": false
   },
   "outputs": [
    {
     "data": {
      "image/png": "[encoded data removed]",
      "text/plain": [
       "<matplotlib.figure.Figure at 0x11a621e48>"
      ]
     },
     "metadata": {},
     "output_type": "display_data"
    }
   ],
   "source": [
    "plt.figure()\n",
    "plt.hist(wrong['quality'])\n",
    "\n",
    "\n",
    "# Set the title and labels\n",
    "plt.title('Distribution of Wine Quality among incorrect predictions')\n",
    "plt.xlabel('Quality')\n",
    "plt.ylabel('Frequency')\n",
    "\n",
    "plt.show()"
   ]
  },
  {
   "cell_type": "code",
   "execution_count": 62,
   "metadata": {
    "collapsed": false
   },
   "outputs": [
    {
     "data": {
      "image/png": "[encoded data removed]",
      "text/plain": [
       "<matplotlib.figure.Figure at 0x11a910278>"
      ]
     },
     "metadata": {},
     "output_type": "display_data"
    }
   ],
   "source": [
    "plt.figure()\n",
    "plt.hist(wrong['predictions'])\n",
    "\n",
    "\n",
    "# Set the title and labels\n",
    "plt.title('Distribution of Wrong Labels')\n",
    "plt.xlabel('Label')\n",
    "plt.ylabel('Frequency')\n",
    "\n",
    "plt.show()"
   ]
  },
  {
   "cell_type": "markdown",
   "metadata": {
    "collapsed": true
   },
   "source": [
    "Most of the wrong predictions are false positives for \"good\" quality white wines with a rating of 7 (i.e., on the border of \"good\" and \"not good\". Again, I would want to find/create more features to see if we could get a cleaner split. Rather than using this model to find \"good\" quality wines, we would use this model as it is to find \"not good\" quality wines."
   ]
  },
  {
   "cell_type": "code",
   "execution_count": 79,
   "metadata": {
    "collapsed": true
   },
   "outputs": [],
   "source": [
    "# Tuning Hyperparameters: Our results for white wines is  giving us the inverse of what we want. \n",
    "# Ideally, I would use grid search to find the optimal set of hyperparameters.\n",
    "# For now, let's try increasing the number of estimators (trees) and min samples required for\n",
    "# a leaf node in our random forest.\n",
    "# I'll also try dropping the three features that provide the least information.\n",
    "\n",
    "msk = np.random.rand(len(whites)) < 0.66\n",
    "train = whites[msk]\n",
    "test = whites[~msk]\n",
    "X_train = train.drop(['label','quality','age','fixed acidity','citric acid'], axis=1).values\n",
    "X_test = test.drop(['label','quality','age','fixed acidity','citric acid'], axis=1).values\n",
    "y_train = train['label'].values\n",
    "y_test = test['label'].values\n",
    "test_quality = test['quality'].values"
   ]
  },
  {
   "cell_type": "code",
   "execution_count": 80,
   "metadata": {
    "collapsed": false
   },
   "outputs": [
    {
     "name": "stdout",
     "output_type": "stream",
     "text": [
      "test score:  0.805159538357\n",
      "train score:  0.821092934215\n"
     ]
    }
   ],
   "source": [
    "rf_model2 = RandomForestClassifier(n_estimators=40, min_samples_leaf=50)\n",
    "rf_model2.fit(X_train, y_train)\n",
    "test_score = rf_model2.score(X_test, y_test)\n",
    "print(\"test score: \",test_score)\n",
    "train_score = rf_model2.score(X_train, y_train)\n",
    "print(\"train score: \",train_score)"
   ]
  },
  {
   "cell_type": "code",
   "execution_count": 81,
   "metadata": {
    "collapsed": false
   },
   "outputs": [
    {
     "data": {
      "text/plain": [
       "array([[1125,   32],\n",
       "       [ 255,   61]])"
      ]
     },
     "execution_count": 81,
     "metadata": {},
     "output_type": "execute_result"
    }
   ],
   "source": [
    "# Let's take a look at how well the model is performing.\n",
    "\n",
    "# Confusion Matrix\n",
    "predictions = rf_model2.predict(X_test)\n",
    "confusion_matrix(y_test, predictions)"
   ]
  },
  {
   "cell_type": "markdown",
   "metadata": {},
   "source": [
    "### Conclusions\n",
    "\n",
    "For white wines, the classification model did not improve with the minor changes I tried to make with the model's hyperparameters and features. This could mean a few things:\n",
    "\n",
    "- The features that I'm currently using aren't sufficient to split the data into \"good\" and \"not good\" quality wines.\n",
    "- The threshold I've chosen for \"good\" quality white wines (a quality rating of 7 or more) is actually not the right threshold.\n",
    "\n",
    "As it is now, this model could be used for predicting when a white wine is not of good quality with only 3% of those predictions being untrue.\n",
    "\n",
    "For red wines, the classification model is useful at predicting whether or not a red wine is \"good\" or \"not good\" with only 15% chance of those predictions being false. For a restaurant that depends on wine quality, this is still not sufficient. Again, I feel that feature creation will be useful for improving the model.\n",
    "\n",
    "For both white and red wines, it appears that alcohol is the number one predictor of its quality. Red wines should have an alcohol reading of at least 9.95 while white wines should have an alcohol reading of at least 10.25 to be considered higher quality. For red wines, sulfates is important, wile for white wines, density is important."
   ]
  },
  {
   "cell_type": "code",
   "execution_count": null,
   "metadata": {
    "collapsed": true
   },
   "outputs": [],
   "source": []
  }
 ],
 "metadata": {
  "anaconda-cloud": {},
  "kernelspec": {
   "display_name": "Python [Root]",
   "language": "python",
   "name": "Python [Root]"
  },
  "language_info": {
   "codemirror_mode": {
    "name": "ipython",
    "version": 3
   },
   "file_extension": ".py",
   "mimetype": "text/x-python",
   "name": "python",
   "nbconvert_exporter": "python",
   "pygments_lexer": "ipython3",
   "version": "3.5.2"
  }
 },
 "nbformat": 4,
 "nbformat_minor": 0
}
